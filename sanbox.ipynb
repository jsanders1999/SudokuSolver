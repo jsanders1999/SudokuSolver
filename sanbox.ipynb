{
 "cells": [
  {
   "cell_type": "markdown",
   "id": "fb5689d8-79aa-416b-91f3-95f9f58f70e4",
   "metadata": {
    "execution": {
     "iopub.execute_input": "2024-06-13T09:45:49.754208Z",
     "iopub.status.busy": "2024-06-13T09:45:49.753643Z",
     "iopub.status.idle": "2024-06-13T09:45:49.790123Z",
     "shell.execute_reply": "2024-06-13T09:45:49.788837Z",
     "shell.execute_reply.started": "2024-06-13T09:45:49.754178Z"
    }
   },
   "source": [
    "[source](https://www.mathworks.com/help/optim/ug/sudoku-puzzles-problem-based.html)"
   ]
  },
  {
   "cell_type": "code",
   "execution_count": 1,
   "id": "4fb08d85-506f-4b7e-a383-634550a10863",
   "metadata": {
    "execution": {
     "iopub.execute_input": "2024-06-13T15:02:54.864670Z",
     "iopub.status.busy": "2024-06-13T15:02:54.864462Z",
     "iopub.status.idle": "2024-06-13T15:02:54.986656Z",
     "shell.execute_reply": "2024-06-13T15:02:54.985611Z",
     "shell.execute_reply.started": "2024-06-13T15:02:54.864645Z"
    }
   },
   "outputs": [],
   "source": [
    "import numpy as np\n",
    "import scipy as sp\n",
    "import time\n",
    "from codetiming import Timer\n"
   ]
  },
  {
   "cell_type": "code",
   "execution_count": 2,
   "id": "617045e7-ad97-48c1-ab3e-78ecc3eb27fa",
   "metadata": {
    "execution": {
     "iopub.execute_input": "2024-06-13T15:02:54.987621Z",
     "iopub.status.busy": "2024-06-13T15:02:54.987334Z",
     "iopub.status.idle": "2024-06-13T15:02:54.999635Z",
     "shell.execute_reply": "2024-06-13T15:02:54.998380Z",
     "shell.execute_reply.started": "2024-06-13T15:02:54.987598Z"
    }
   },
   "outputs": [],
   "source": [
    "#The sudocu from the problem\n",
    "empty_sudoku = np.array(\n",
    "   [[0, 0, 1, 0, 0, 0, 0, 0, 2],\n",
    "    [0, 0, 0, 3, 0, 4, 5, 0, 0],\n",
    "    [6, 0, 0, 7, 0, 0, 1, 0, 0],\n",
    "    [0, 4, 0, 5, 0, 0, 0, 0, 0],\n",
    "    [0, 2, 0, 0, 0, 0, 0, 8, 0],\n",
    "    [0, 0, 0, 0, 0, 6, 0, 9, 0],\n",
    "    [0, 0, 5, 0, 0, 9, 0, 0, 4],\n",
    "    [0, 0, 8, 2, 0, 1, 0, 0, 0],\n",
    "    [3, 0, 0, 0, 0, 0, 7, 0, 0]]\n",
    ")\n",
    "\n",
    "#a sample sudocu from the internet\n",
    "sample_solution = np.array(\n",
    "    [[7, 1, 3, 5, 2, 4, 6, 9, 8],\n",
    "     [5, 2, 9, 6, 1, 8, 3, 4, 7],\n",
    "     [6, 4, 8, 7, 3, 9,\t2, 5, 1],\n",
    "     [1, 5, 2, 9, 4, 7, 8, 3, 6],\n",
    "     [8, 3, 6, 1, 5, 2, 9, 7, 4],\n",
    "     [4, 9, 7, 3, 8, 6, 5, 1, 2],\n",
    "     [3, 8, 5, 4, 6, 1, 7, 2, 9],\n",
    "     [9, 6,\t1, 2, 7, 5, 4, 8, 3],\n",
    "     [2, 7, 4, 8, 9, 3, 1, 6, 5]]\n",
    ")\n",
    "\n",
    "#the same sample sudoku with some elements deleted\n",
    "empty_sample_solution = np.array(\n",
    "    [[0, 0, 0, 5, 2, 4, 6, 9, 8],\n",
    "     [5, 2, 0, 6, 1, 8, 3, 4, 7],\n",
    "     [6, 4, 8, 7, 3, 9,\t2, 5, 1],\n",
    "     [1, 5, 2, 9, 4, 7, 8, 3, 6],\n",
    "     [8, 3, 6, 1, 5, 2, 9, 7, 4],\n",
    "     [4, 9, 7, 3, 8, 6, 5, 1, 2],\n",
    "     [3, 8, 5, 4, 6, 1, 7, 2, 9],\n",
    "     [9, 6,\t1, 2, 7, 5, 4, 8, 3],\n",
    "     [2, 7, 4, 8, 9, 3, 1, 6, 5]]\n",
    ")\n",
    "\n",
    "#A very empty sudoku\n",
    "very_empty_clues = np.zeros((9,9), dtype = int)\n",
    "very_empty_clues[0,1] = 3\n",
    "very_empty_clues[0,2] = 2\n",
    "very_empty_clues[0,3] = 1\n",
    "\n"
   ]
  },
  {
   "cell_type": "code",
   "execution_count": 3,
   "id": "54b6d176-a37a-4f62-ac66-b3ea192070ba",
   "metadata": {
    "execution": {
     "iopub.execute_input": "2024-06-13T15:02:55.001284Z",
     "iopub.status.busy": "2024-06-13T15:02:55.000734Z",
     "iopub.status.idle": "2024-06-13T15:02:55.012832Z",
     "shell.execute_reply": "2024-06-13T15:02:55.011827Z",
     "shell.execute_reply.started": "2024-06-13T15:02:55.001261Z"
    }
   },
   "outputs": [
    {
     "data": {
      "text/plain": [
       "array([[7, 1, 3, 5, 2, 4, 6, 9, 8],\n",
       "       [5, 2, 9, 6, 1, 8, 3, 4, 7],\n",
       "       [6, 4, 8, 7, 3, 9, 2, 5, 1],\n",
       "       [1, 5, 2, 9, 4, 7, 8, 3, 6],\n",
       "       [8, 3, 6, 1, 5, 2, 9, 7, 4],\n",
       "       [4, 9, 7, 3, 8, 6, 5, 1, 2],\n",
       "       [3, 8, 5, 4, 6, 1, 7, 2, 9],\n",
       "       [9, 6, 1, 2, 7, 5, 4, 8, 3],\n",
       "       [2, 7, 4, 8, 9, 3, 1, 6, 5]])"
      ]
     },
     "execution_count": 3,
     "metadata": {},
     "output_type": "execute_result"
    }
   ],
   "source": [
    "#you can also just turn the matrix into a sparse one in index format, that might be faster\n",
    "def sudoku_array_to_clues(clue_array):\n",
    "    clues_inds_rows, clues_inds_cols = np.where(clue_array>0)\n",
    "    clues_vals = clue_array[clues_inds_rows, clues_inds_cols]\n",
    "    return clues_inds_rows, clues_inds_cols, clues_vals\n",
    "\n",
    "def array_to_vector(sudoku_array):\n",
    "    #turn a sudoku values array into a binary vector\n",
    "    flat_values = sudoku_array.flatten()\n",
    "    binary_values = np.zeros((flat_values.shape[0], 9), dtype = int)\n",
    "    indices = np.arange(flat_values.shape[0], dtype = int)\n",
    "    binary_values[indices, flat_values-1] = 1\n",
    "    return binary_values.flatten()\n",
    "\n",
    "def vector_to_array(binary_solution):\n",
    "    #turn a binary vector into a soduku values array\n",
    "    binary_values = binary_solution.reshape((81,9)) #magig numbers are sudoky dims and number of values possible\n",
    "    _, flat_values = np.where(binary_values)\n",
    "    sudoku_array = (flat_values+1).reshape(9,9)\n",
    "    return sudoku_array\n",
    "\n",
    "bin_sample_solution = array_to_vector(sample_solution)\n",
    "vector_to_array(bin_sample_solution)\n",
    "    "
   ]
  },
  {
   "cell_type": "code",
   "execution_count": 4,
   "id": "e6c591f9-8fff-4687-99c6-8b62c492b7e4",
   "metadata": {
    "execution": {
     "iopub.execute_input": "2024-06-13T15:02:55.014149Z",
     "iopub.status.busy": "2024-06-13T15:02:55.013900Z",
     "iopub.status.idle": "2024-06-13T15:02:55.021095Z",
     "shell.execute_reply": "2024-06-13T15:02:55.020186Z",
     "shell.execute_reply.started": "2024-06-13T15:02:55.014127Z"
    }
   },
   "outputs": [],
   "source": [
    "#these are operatiors that should apply to a 729 long solution vector x\n",
    "#x \n",
    "NCOLS = 9\n",
    "NROWS = 9\n",
    "NVALS = 9\n",
    "\n",
    "def generate_one_value_constr():\n",
    "    #[1,1,1,1,1,1,1,1,1, 0,0,0,0,0,....]\n",
    "    #[0,0,0,0,0,0,0,0,0, 1,1,1,1,1,....\n",
    "    #...\n",
    "    return np.kron(np.eye(NROWS*NCOLS), np.ones((1,NVALS))) #np.kron(np.eye(2), np.kron(np.eye(2), np.ones((1,4))))\n",
    "\n",
    "def generate_row_uniq_constr():\n",
    "    #[1,..,0, 1,..,0, ... 1,... 0,  0,1,..,0, 0, \n",
    "    return np.kron(np.eye(NROWS), np.kron(np.ones((1,NCOLS)), np.eye(NVALS))) #\n",
    "\n",
    "def generate_col_uniq_constr():\n",
    "    return np.kron(np.ones((1,NROWS)), np.eye(NCOLS*NVALS))\n",
    "\n",
    "def generate_block_uniq_constr():\n",
    "    return np.kron(np.eye(3), np.kron(np.ones((1,3)), np.kron(np.eye(3), np.kron( np.ones((1,3)), np.eye(9)))))\n",
    "\n",
    "def generate_clues_contr(clues_inds_rows, clues_inds_cols, clues_vals):\n",
    "    #x[i,j,m] = 1\n",
    "    op = np.zeros((clues_vals.shape[0], NROWS*NCOLS*NVALS))\n",
    "    indices = np.arange(clues_vals.shape[0])\n",
    "    op[indices, NVALS*NCOLS*clues_inds_rows + NVALS*clues_inds_cols + clues_vals-1] = 1\n",
    "    return op\n",
    "\n"
   ]
  },
  {
   "cell_type": "code",
   "execution_count": 5,
   "id": "ee44d066-a793-486b-8f7c-d066406ea608",
   "metadata": {
    "execution": {
     "iopub.execute_input": "2024-06-13T15:02:55.022588Z",
     "iopub.status.busy": "2024-06-13T15:02:55.022160Z",
     "iopub.status.idle": "2024-06-13T15:02:55.027705Z",
     "shell.execute_reply": "2024-06-13T15:02:55.027080Z",
     "shell.execute_reply.started": "2024-06-13T15:02:55.022563Z"
    }
   },
   "outputs": [],
   "source": [
    "def setup_ILP(clue_array):\n",
    "    clues_inds_rows, clues_inds_cols, clues_vals = sudoku_array_to_clues(clue_array)\n",
    "    \n",
    "    A_one_val = generate_one_value_constr()\n",
    "    A_row = generate_row_uniq_constr()\n",
    "    A_col = generate_col_uniq_constr()\n",
    "    A_block = generate_block_uniq_constr()\n",
    "    A_clues = generate_clues_contr(clues_inds_rows, clues_inds_cols, clues_vals)\n",
    "\n",
    "    A_full = np.vstack([A_one_val, A_row, A_col, A_block, A_clues])\n",
    "    c = np.linspace(0,1,A_full.shape[1]) #np.zeros(solution_size, dtype = np.float64)\n",
    "    return c, A_full\n",
    "    \n",
    "\n",
    "def solve_sudoku_scipy(c, A_full):\n",
    "    solution_size = A_full.shape[1]\n",
    "    integrality = np.ones(solution_size, dtype = int)\n",
    "    bounds = sp.optimize.Bounds(lb=0, ub=1) #somthing with 0 and \n",
    "    constraints = sp.optimize.LinearConstraint(A_full, lb=1, ub=1) #somthing with A\n",
    "    return sp.optimize.milp( c,integrality = integrality, bounds = bounds, constraints = constraints)\n",
    "\n",
    "\n"
   ]
  },
  {
   "cell_type": "code",
   "execution_count": 6,
   "id": "16ada97a-c4cc-456a-9a4c-b7b50292492c",
   "metadata": {
    "execution": {
     "iopub.execute_input": "2024-06-13T15:02:55.029572Z",
     "iopub.status.busy": "2024-06-13T15:02:55.029365Z",
     "iopub.status.idle": "2024-06-13T15:02:55.245674Z",
     "shell.execute_reply": "2024-06-13T15:02:55.245086Z",
     "shell.execute_reply.started": "2024-06-13T15:02:55.029552Z"
    }
   },
   "outputs": [
    {
     "name": "stdout",
     "output_type": "stream",
     "text": [
      "Elapsed time: 0.0043 seconds\n",
      "Elapsed time: 0.2057 seconds\n",
      "{'Setup 1': 0.004348344169557095, 'Scipy solver 1': 0.2056662819813937}\n"
     ]
    },
    {
     "data": {
      "text/plain": [
       "array([[7, 1, 3, 5, 2, 4, 6, 9, 8],\n",
       "       [5, 2, 9, 6, 1, 8, 3, 4, 7],\n",
       "       [6, 4, 8, 7, 3, 9, 2, 5, 1],\n",
       "       [1, 5, 2, 9, 4, 7, 8, 3, 6],\n",
       "       [8, 3, 6, 1, 5, 2, 9, 7, 4],\n",
       "       [4, 9, 7, 3, 8, 6, 5, 1, 2],\n",
       "       [3, 8, 5, 4, 6, 1, 7, 2, 9],\n",
       "       [9, 6, 1, 2, 7, 5, 4, 8, 3],\n",
       "       [2, 7, 4, 8, 9, 3, 1, 6, 5]])"
      ]
     },
     "execution_count": 6,
     "metadata": {},
     "output_type": "execute_result"
    }
   ],
   "source": [
    "with Timer(\"Setup 1\"):\n",
    "    c, A_full = setup_ILP(empty_sample_solution)\n",
    "with Timer(\"Scipy solver 1\"):\n",
    "    res = solve_sudoku_scipy(c, A_full)\n",
    "\n",
    "print(Timer.timers)\n",
    "\n",
    "vector_to_array(res.x)\n"
   ]
  },
  {
   "cell_type": "code",
   "execution_count": 7,
   "id": "1efde7e3-f02c-410e-9d23-a26d4a1c29e6",
   "metadata": {
    "execution": {
     "iopub.execute_input": "2024-06-13T15:02:55.246978Z",
     "iopub.status.busy": "2024-06-13T15:02:55.246574Z",
     "iopub.status.idle": "2024-06-13T15:02:55.268523Z",
     "shell.execute_reply": "2024-06-13T15:02:55.267916Z",
     "shell.execute_reply.started": "2024-06-13T15:02:55.246956Z"
    }
   },
   "outputs": [
    {
     "name": "stdout",
     "output_type": "stream",
     "text": [
      "Elapsed time: 0.0038 seconds\n",
      "Elapsed time: 0.0110 seconds\n",
      "{'Setup 1': 0.004348344169557095, 'Scipy solver 1': 0.2056662819813937, 'Setup 2': 0.0038175201043486595, 'Scipy solver 2': 0.010952536948025227}\n"
     ]
    },
    {
     "data": {
      "text/plain": [
       "array([[7, 3, 1, 8, 6, 5, 9, 4, 2],\n",
       "       [8, 9, 2, 3, 1, 4, 5, 6, 7],\n",
       "       [6, 5, 4, 7, 9, 2, 1, 3, 8],\n",
       "       [9, 4, 6, 5, 8, 3, 2, 7, 1],\n",
       "       [1, 2, 3, 9, 4, 7, 6, 8, 5],\n",
       "       [5, 8, 7, 1, 2, 6, 4, 9, 3],\n",
       "       [2, 7, 5, 6, 3, 9, 8, 1, 4],\n",
       "       [4, 6, 8, 2, 7, 1, 3, 5, 9],\n",
       "       [3, 1, 9, 4, 5, 8, 7, 2, 6]])"
      ]
     },
     "execution_count": 7,
     "metadata": {},
     "output_type": "execute_result"
    }
   ],
   "source": [
    "with Timer(\"Setup 2\"):\n",
    "    c, A_full = setup_ILP(empty_sudoku)\n",
    "with Timer(\"Scipy solver 2\"):\n",
    "    res = solve_sudoku_scipy(c, A_full)\n",
    "\n",
    "print(Timer.timers)\n",
    "\n",
    "vector_to_array(res.x)"
   ]
  },
  {
   "cell_type": "code",
   "execution_count": 8,
   "id": "7e7639fa-6f45-4f52-8bf3-8f917269b676",
   "metadata": {
    "execution": {
     "iopub.execute_input": "2024-06-13T15:02:55.269507Z",
     "iopub.status.busy": "2024-06-13T15:02:55.269304Z",
     "iopub.status.idle": "2024-06-13T15:02:55.805625Z",
     "shell.execute_reply": "2024-06-13T15:02:55.805152Z",
     "shell.execute_reply.started": "2024-06-13T15:02:55.269486Z"
    }
   },
   "outputs": [
    {
     "name": "stdout",
     "output_type": "stream",
     "text": [
      "Elapsed time: 0.0023 seconds\n",
      "Elapsed time: 0.5283 seconds\n",
      "{'Setup 1': 0.004348344169557095, 'Scipy solver 1': 0.2056662819813937, 'Setup 2': 0.0038175201043486595, 'Scipy solver 2': 0.010952536948025227, 'Setup 3': 0.0023200740106403828, 'Scipy solver 3': 0.5283199949190021}\n"
     ]
    },
    {
     "data": {
      "text/plain": [
       "array([[6, 3, 2, 1, 7, 5, 9, 4, 8],\n",
       "       [4, 9, 7, 3, 6, 8, 1, 5, 2],\n",
       "       [5, 1, 8, 2, 9, 4, 7, 6, 3],\n",
       "       [8, 4, 9, 7, 5, 1, 2, 3, 6],\n",
       "       [1, 2, 6, 8, 3, 9, 4, 7, 5],\n",
       "       [3, 7, 5, 6, 4, 2, 8, 1, 9],\n",
       "       [7, 5, 1, 9, 2, 6, 3, 8, 4],\n",
       "       [9, 8, 4, 5, 1, 3, 6, 2, 7],\n",
       "       [2, 6, 3, 4, 8, 7, 5, 9, 1]])"
      ]
     },
     "execution_count": 8,
     "metadata": {},
     "output_type": "execute_result"
    }
   ],
   "source": [
    "with Timer(\"Setup 3\"):\n",
    "    c, A_full = setup_ILP(very_empty_clues)\n",
    "with Timer(\"Scipy solver 3\"):\n",
    "    res = solve_sudoku_scipy(c, A_full)\n",
    "\n",
    "print(Timer.timers)\n",
    "\n",
    "vector_to_array(res.x)"
   ]
  },
  {
   "cell_type": "code",
   "execution_count": null,
   "id": "8c0c3284-b4f8-4c3e-9ebd-6b06557adcc6",
   "metadata": {},
   "outputs": [],
   "source": []
  },
  {
   "cell_type": "code",
   "execution_count": null,
   "id": "c1c47ed1-42ce-4b59-90d6-050d219e8b68",
   "metadata": {},
   "outputs": [],
   "source": []
  },
  {
   "cell_type": "code",
   "execution_count": null,
   "id": "56e3b09e-8028-49fd-b5c3-b7703b95433b",
   "metadata": {},
   "outputs": [],
   "source": []
  },
  {
   "cell_type": "code",
   "execution_count": null,
   "id": "1f410f76-fb3d-4451-9bae-cccff1c7ae0a",
   "metadata": {},
   "outputs": [],
   "source": []
  },
  {
   "cell_type": "code",
   "execution_count": null,
   "id": "cd158926-0d23-425f-a9c2-3bdcc9290ff5",
   "metadata": {},
   "outputs": [],
   "source": []
  },
  {
   "cell_type": "code",
   "execution_count": null,
   "id": "0e56220d-3a1d-479a-8f99-73c071af839e",
   "metadata": {},
   "outputs": [],
   "source": []
  },
  {
   "cell_type": "code",
   "execution_count": null,
   "id": "0160c5b2-5c94-4856-8d6f-a120fa607630",
   "metadata": {},
   "outputs": [],
   "source": []
  }
 ],
 "metadata": {
  "kernelspec": {
   "display_name": "Python 3 (ipykernel)",
   "language": "python",
   "name": "python3"
  },
  "language_info": {
   "codemirror_mode": {
    "name": "ipython",
    "version": 3
   },
   "file_extension": ".py",
   "mimetype": "text/x-python",
   "name": "python",
   "nbconvert_exporter": "python",
   "pygments_lexer": "ipython3",
   "version": "3.12.3"
  }
 },
 "nbformat": 4,
 "nbformat_minor": 5
}
