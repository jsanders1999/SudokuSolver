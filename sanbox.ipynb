{
 "cells": [
  {
   "cell_type": "markdown",
   "id": "fb5689d8-79aa-416b-91f3-95f9f58f70e4",
   "metadata": {
    "execution": {
     "iopub.execute_input": "2024-06-13T09:45:49.754208Z",
     "iopub.status.busy": "2024-06-13T09:45:49.753643Z",
     "iopub.status.idle": "2024-06-13T09:45:49.790123Z",
     "shell.execute_reply": "2024-06-13T09:45:49.788837Z",
     "shell.execute_reply.started": "2024-06-13T09:45:49.754178Z"
    }
   },
   "source": [
    "[source](https://www.mathworks.com/help/optim/ug/sudoku-puzzles-problem-based.html)"
   ]
  },
  {
   "cell_type": "code",
   "execution_count": null,
   "id": "4fb08d85-506f-4b7e-a383-634550a10863",
   "metadata": {},
   "outputs": [],
   "source": [
    "import numpy as np\n",
    "import scipy as sp\n"
   ]
  },
  {
   "cell_type": "code",
   "execution_count": 4,
   "id": "617045e7-ad97-48c1-ab3e-78ecc3eb27fa",
   "metadata": {
    "execution": {
     "iopub.execute_input": "2024-06-13T09:45:49.791993Z",
     "iopub.status.busy": "2024-06-13T09:45:49.791751Z",
     "iopub.status.idle": "2024-06-13T09:45:49.798856Z",
     "shell.execute_reply": "2024-06-13T09:45:49.797889Z",
     "shell.execute_reply.started": "2024-06-13T09:45:49.791971Z"
    }
   },
   "outputs": [],
   "source": [
    "empty_sudoku = np.array(\n",
    "   [[0, 0, 1, 0, 0, 0, 0, 0, 2],\n",
    "    [0, 0, 0, 3, 0, 4, 5, 0, 0],\n",
    "    [6, 0, 0, 7, 0, 0, 1, 0, 0],\n",
    "    [0, 4, 0, 5, 0, 0, 0, 0, 0],\n",
    "    [0, 2, 0, 0, 0, 0, 0, 8, 0],\n",
    "    [0, 0, 0, 0, 0, 6, 0, 9, 0],\n",
    "    [0, 0, 5, 0, 0, 9, 0, 0, 4],\n",
    "    [0, 0, 8, 2, 0, 1, 0, 0, 0],\n",
    "    [3, 0, 0, 0, 0, 0, 7, 0, 0]]\n",
    ")"
   ]
  },
  {
   "cell_type": "code",
   "execution_count": 9,
   "id": "54b6d176-a37a-4f62-ac66-b3ea192070ba",
   "metadata": {
    "execution": {
     "iopub.execute_input": "2024-06-13T09:52:10.753790Z",
     "iopub.status.busy": "2024-06-13T09:52:10.753030Z",
     "iopub.status.idle": "2024-06-13T09:52:10.764759Z",
     "shell.execute_reply": "2024-06-13T09:52:10.763563Z",
     "shell.execute_reply.started": "2024-06-13T09:52:10.753732Z"
    }
   },
   "outputs": [
    {
     "data": {
      "text/plain": [
       "(array([0, 0, 1, 1, 1, 2, 2, 2, 3, 3, 4, 4, 5, 5, 6, 6, 6, 7, 7, 7, 8, 8]),\n",
       " array([2, 8, 3, 5, 6, 0, 3, 6, 1, 3, 1, 7, 5, 7, 2, 5, 8, 2, 3, 5, 0, 6]),\n",
       " array([1, 2, 3, 4, 5, 6, 7, 1, 4, 5, 2, 8, 6, 9, 5, 9, 4, 8, 2, 1, 3, 7]))"
      ]
     },
     "execution_count": 9,
     "metadata": {},
     "output_type": "execute_result"
    }
   ],
   "source": [
    "#you can also just turn the matrix into a sparse one in index format, that might be faster\n",
    "def sudocu_array_to_clues(sudoku_array):\n",
    "    clues_inds_rows, clues_inds_cols = np.where(sudoku_array>0)\n",
    "    clues_vals = sudoku_array[clues_inds_rows, clues_inds_cols]\n",
    "    return clues_inds_rows, clues_inds_cols, clues_vals\n",
    "\n",
    "sudocu_array_to_clues(empty_sudoku)"
   ]
  },
  {
   "cell_type": "code",
   "execution_count": null,
   "id": "e6c591f9-8fff-4687-99c6-8b62c492b7e4",
   "metadata": {},
   "outputs": [],
   "source": [
    "def generate_one_value_constr():\n",
    "    return\n",
    "\n",
    "def generate_row_uniq_constr():\n",
    "    return\n",
    "\n",
    "def generate_col_uniq_constr():\n",
    "    return\n",
    "\n",
    "def generate_block_uniq_constr():\n",
    "    return\n",
    "\n"
   ]
  }
 ],
 "metadata": {
  "kernelspec": {
   "display_name": "Python 3 (ipykernel)",
   "language": "python",
   "name": "python3"
  },
  "language_info": {
   "codemirror_mode": {
    "name": "ipython",
    "version": 3
   },
   "file_extension": ".py",
   "mimetype": "text/x-python",
   "name": "python",
   "nbconvert_exporter": "python",
   "pygments_lexer": "ipython3",
   "version": "3.12.3"
  }
 },
 "nbformat": 4,
 "nbformat_minor": 5
}
