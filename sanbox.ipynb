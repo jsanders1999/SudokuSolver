{
 "cells": [
  {
   "cell_type": "markdown",
   "id": "fb5689d8-79aa-416b-91f3-95f9f58f70e4",
   "metadata": {
    "execution": {
     "iopub.execute_input": "2024-06-13T09:45:49.754208Z",
     "iopub.status.busy": "2024-06-13T09:45:49.753643Z",
     "iopub.status.idle": "2024-06-13T09:45:49.790123Z",
     "shell.execute_reply": "2024-06-13T09:45:49.788837Z",
     "shell.execute_reply.started": "2024-06-13T09:45:49.754178Z"
    }
   },
   "source": [
    "[source](https://www.mathworks.com/help/optim/ug/sudoku-puzzles-problem-based.html)"
   ]
  },
  {
   "cell_type": "code",
   "execution_count": 1,
   "id": "4fb08d85-506f-4b7e-a383-634550a10863",
   "metadata": {
    "execution": {
     "iopub.execute_input": "2024-06-13T20:23:25.978647Z",
     "iopub.status.busy": "2024-06-13T20:23:25.978305Z",
     "iopub.status.idle": "2024-06-13T20:23:26.325997Z",
     "shell.execute_reply": "2024-06-13T20:23:26.324711Z",
     "shell.execute_reply.started": "2024-06-13T20:23:25.978620Z"
    }
   },
   "outputs": [],
   "source": [
    "import numpy as np\n",
    "import scipy as sp\n",
    "import gurobipy as gp\n",
    "from gurobipy import GRB\n",
    "import highspy\n",
    "\n",
    "from utils.timer import Timer\n",
    "\n",
    "from numba import njit\n",
    "import numba\n"
   ]
  },
  {
   "cell_type": "code",
   "execution_count": 2,
   "id": "617045e7-ad97-48c1-ab3e-78ecc3eb27fa",
   "metadata": {
    "execution": {
     "iopub.execute_input": "2024-06-13T20:23:26.327419Z",
     "iopub.status.busy": "2024-06-13T20:23:26.327072Z",
     "iopub.status.idle": "2024-06-13T20:23:26.378340Z",
     "shell.execute_reply": "2024-06-13T20:23:26.377516Z",
     "shell.execute_reply.started": "2024-06-13T20:23:26.327394Z"
    }
   },
   "outputs": [],
   "source": [
    "#The sudocu from the problem\n",
    "empty_sudoku = np.array(\n",
    "   [[0, 0, 1, 0, 0, 0, 0, 0, 2],\n",
    "    [0, 0, 0, 3, 0, 4, 5, 0, 0],\n",
    "    [6, 0, 0, 7, 0, 0, 1, 0, 0],\n",
    "    [0, 4, 0, 5, 0, 0, 0, 0, 0],\n",
    "    [0, 2, 0, 0, 0, 0, 0, 8, 0],\n",
    "    [0, 0, 0, 0, 0, 6, 0, 9, 0],\n",
    "    [0, 0, 5, 0, 0, 9, 0, 0, 4],\n",
    "    [0, 0, 8, 2, 0, 1, 0, 0, 0],\n",
    "    [3, 0, 0, 0, 0, 0, 7, 0, 0]]\n",
    ")\n",
    "\n",
    "#a sample sudocu from the internet\n",
    "sample_solution = np.array(\n",
    "    [[7, 1, 3, 5, 2, 4, 6, 9, 8],\n",
    "     [5, 2, 9, 6, 1, 8, 3, 4, 7],\n",
    "     [6, 4, 8, 7, 3, 9,\t2, 5, 1],\n",
    "     [1, 5, 2, 9, 4, 7, 8, 3, 6],\n",
    "     [8, 3, 6, 1, 5, 2, 9, 7, 4],\n",
    "     [4, 9, 7, 3, 8, 6, 5, 1, 2],\n",
    "     [3, 8, 5, 4, 6, 1, 7, 2, 9],\n",
    "     [9, 6,\t1, 2, 7, 5, 4, 8, 3],\n",
    "     [2, 7, 4, 8, 9, 3, 1, 6, 5]]\n",
    ")\n",
    "\n",
    "#the same sample sudoku with some elements deleted\n",
    "empty_sample_solution = np.array(\n",
    "    [[0, 0, 0, 5, 2, 4, 6, 9, 8],\n",
    "     [5, 2, 0, 6, 1, 8, 3, 4, 7],\n",
    "     [6, 4, 8, 7, 3, 9,\t2, 5, 1],\n",
    "     [1, 5, 2, 9, 4, 7, 8, 3, 6],\n",
    "     [8, 3, 6, 1, 5, 2, 9, 7, 4],\n",
    "     [4, 9, 7, 3, 8, 6, 5, 1, 2],\n",
    "     [3, 8, 5, 4, 6, 1, 7, 2, 9],\n",
    "     [9, 6,\t1, 2, 7, 5, 4, 8, 3],\n",
    "     [2, 7, 4, 8, 9, 3, 1, 6, 5]]\n",
    ")\n",
    "\n",
    "#A very empty sudoku\n",
    "very_empty_clues = np.zeros((9,9), dtype = int)\n",
    "very_empty_clues[0,1] = 3\n",
    "very_empty_clues[0,2] = 2\n",
    "very_empty_clues[0,3] = 1\n",
    "\n"
   ]
  },
  {
   "cell_type": "code",
   "execution_count": 3,
   "id": "54b6d176-a37a-4f62-ac66-b3ea192070ba",
   "metadata": {
    "execution": {
     "iopub.execute_input": "2024-06-13T20:23:26.379444Z",
     "iopub.status.busy": "2024-06-13T20:23:26.379231Z",
     "iopub.status.idle": "2024-06-13T20:23:26.398891Z",
     "shell.execute_reply": "2024-06-13T20:23:26.398273Z",
     "shell.execute_reply.started": "2024-06-13T20:23:26.379423Z"
    }
   },
   "outputs": [
    {
     "data": {
      "text/plain": [
       "array([[7, 1, 3, 5, 2, 4, 6, 9, 8],\n",
       "       [5, 2, 9, 6, 1, 8, 3, 4, 7],\n",
       "       [6, 4, 8, 7, 3, 9, 2, 5, 1],\n",
       "       [1, 5, 2, 9, 4, 7, 8, 3, 6],\n",
       "       [8, 3, 6, 1, 5, 2, 9, 7, 4],\n",
       "       [4, 9, 7, 3, 8, 6, 5, 1, 2],\n",
       "       [3, 8, 5, 4, 6, 1, 7, 2, 9],\n",
       "       [9, 6, 1, 2, 7, 5, 4, 8, 3],\n",
       "       [2, 7, 4, 8, 9, 3, 1, 6, 5]])"
      ]
     },
     "execution_count": 3,
     "metadata": {},
     "output_type": "execute_result"
    }
   ],
   "source": [
    "#you can also just turn the matrix into a sparse one in index format, that might be faster\n",
    "def sudoku_array_to_clues(clue_array):\n",
    "    clues_inds_rows, clues_inds_cols = np.where(clue_array>0)\n",
    "    clues_vals = clue_array[clues_inds_rows, clues_inds_cols]\n",
    "    return clues_inds_rows, clues_inds_cols, clues_vals\n",
    "\n",
    "@njit\n",
    "def sudoku_array_to_clues_njit(clue_array):\n",
    "    clues_inds_rows, clues_inds_cols = np.where(clue_array>0)\n",
    "    clues_vals = np.empty_like(clues_inds_rows) \n",
    "    for i, (row_ind, col_ind) in enumerate(zip(clues_inds_rows, clues_inds_cols)):\n",
    "        clues_vals[i] = clue_array[row_ind, col_ind]\n",
    "    return clues_inds_rows, clues_inds_cols, clues_vals\n",
    "\n",
    "def array_to_vector(sudoku_array):\n",
    "    #turn a sudoku values array into a binary vector\n",
    "    flat_values = sudoku_array.flatten()\n",
    "    binary_values = np.zeros((flat_values.shape[0], 9), dtype = int)\n",
    "    indices = np.arange(flat_values.shape[0], dtype = int)\n",
    "    binary_values[indices, flat_values-1] = 1\n",
    "    return binary_values.flatten()\n",
    "\n",
    "def vector_to_array(binary_solution):\n",
    "    #turn a binary vector into a soduku values array\n",
    "    binary_values = binary_solution.reshape((81,9)) #magig numbers are sudoky dims and number of values possible\n",
    "    _, flat_values = np.where(binary_values)\n",
    "    sudoku_array = (flat_values+1).reshape(9,9)\n",
    "    return sudoku_array\n",
    "\n",
    "bin_sample_solution = array_to_vector(sample_solution)\n",
    "vector_to_array(bin_sample_solution)\n",
    "    "
   ]
  },
  {
   "cell_type": "code",
   "execution_count": 4,
   "id": "e6c591f9-8fff-4687-99c6-8b62c492b7e4",
   "metadata": {
    "execution": {
     "iopub.execute_input": "2024-06-13T20:23:26.400206Z",
     "iopub.status.busy": "2024-06-13T20:23:26.399974Z",
     "iopub.status.idle": "2024-06-13T20:23:26.420769Z",
     "shell.execute_reply": "2024-06-13T20:23:26.419331Z",
     "shell.execute_reply.started": "2024-06-13T20:23:26.400185Z"
    }
   },
   "outputs": [],
   "source": [
    "#these are operatiors that should apply to a 729 long solution vector x\n",
    "#x \n",
    "NCOLS = 9\n",
    "NROWS = 9\n",
    "NVALS = 9\n",
    "\n",
    "def generate_one_value_constr_sparse(format = \"csr\", dtype = int):\n",
    "    #[1,1,1,1,1,1,1,1,1, 0,0,0,0,0,....]\n",
    "    #[0,0,0,0,0,0,0,0,0, 1,1,1,1,1,....\n",
    "    #...\n",
    "    return sp.sparse.kron(\n",
    "        sp.sparse.eye(NROWS*NCOLS, dtype = dtype, format=format),\n",
    "        np.ones((1,NVALS), dtype = dtype),\n",
    "        format=format\n",
    "    )\n",
    "\n",
    "def generate_one_value_constr_dense(dtype = int):\n",
    "    #[1,1,1,1,1,1,1,1,1, 0,0,0,0,0,....]\n",
    "    #[0,0,0,0,0,0,0,0,0, 1,1,1,1,1,....\n",
    "    #...\n",
    "    return np.kron(\n",
    "        np.eye(NROWS*NCOLS, dtype = dtype),\n",
    "        np.ones((1,NVALS), dtype = dtype)\n",
    "    )\n",
    "\n",
    "@njit\n",
    "def generate_one_value_constr_njit():\n",
    "    #[1,1,1,1,1,1,1,1,1, 0,0,0,0,0,....]\n",
    "    #[0,0,0,0,0,0,0,0,0, 1,1,1,1,1,....\n",
    "    #...\n",
    "    return np.kron(\n",
    "        np.eye(NROWS*NCOLS, dtype=numba.boolean),\n",
    "        np.ones((1,NVALS), dtype=numba.boolean)\n",
    "    )\n",
    "\n",
    "\n",
    "def generate_row_uniq_constr_sparse(format = \"csr\", dtype = int):\n",
    "    #[1,..,0, 1,..,0, ... 1,... 0,  0,1,..,0, 0, \n",
    "    return sp.sparse.kron(\n",
    "        sp.sparse.eye(NROWS, dtype = dtype, format=format),\n",
    "        sp.sparse.kron(np.ones((1,NCOLS), dtype = dtype), \n",
    "                       sp.sparse.eye(NVALS, dtype = dtype),\n",
    "                       format=format),\n",
    "        format=format\n",
    "    )\n",
    "\n",
    "def generate_row_uniq_constr_dense(dtype = int):\n",
    "    #[1,..,0, 1,..,0, ... 1,... 0,  0,1,..,0, 0, \n",
    "    return np.kron(\n",
    "        np.eye(NROWS, dtype = dtype),\n",
    "        np.kron(np.ones((1,NCOLS), dtype = dtype), \n",
    "                       np.eye(NVALS, dtype =dtype))\n",
    "    )\n",
    "\n",
    "@njit\n",
    "def generate_row_uniq_constr_njit():\n",
    "    #[1,..,0, 1,..,0, ... 1,... 0,  0,1,..,0, 0, \n",
    "    return np.kron(\n",
    "        np.eye(NROWS, dtype = numba.boolean),\n",
    "        np.kron(np.ones((1,NCOLS), dtype = numba.boolean), \n",
    "                       np.eye(NVALS, dtype = numba.boolean))\n",
    "    )\n",
    "\n",
    "\n",
    "def generate_col_uniq_constr_sparse(format = \"csr\", dtype = int):\n",
    "    return sp.sparse.kron(\n",
    "        np.ones((1,NROWS), dtype = dtype),\n",
    "        sp.sparse.eye(NCOLS*NVALS, dtype = dtype, format=format),\n",
    "        format=format\n",
    "    )\n",
    "\n",
    "def generate_col_uniq_constr_dense(dtype = int):\n",
    "    return np.kron(\n",
    "        np.ones((1,NROWS), dtype = dtype),\n",
    "        np.eye(NCOLS*NVALS, dtype = dtype)\n",
    "    )\n",
    "\n",
    "@njit\n",
    "def generate_col_uniq_constr_njit():\n",
    "    return np.kron(\n",
    "        np.ones((1,NROWS), dtype = numba.boolean),\n",
    "        np.eye(NCOLS*NVALS, dtype = numba.boolean)\n",
    "    )\n",
    "    \n",
    "\n",
    "def generate_block_uniq_constr_sparse(format = \"csr\", dtype = int):\n",
    "    return sp.sparse.kron(\n",
    "        sp.sparse.eye(3, dtype = dtype, format=format),\n",
    "        sp.sparse.kron(\n",
    "            np.ones((1,3), dtype = dtype), \n",
    "            sp.sparse.kron(\n",
    "                sp.sparse.eye(3, dtype = dtype, format=format),\n",
    "                sp.sparse.kron( \n",
    "                    np.ones((1,3), dtype = dtype),\n",
    "                    sp.sparse.eye(9, dtype = dtype, format=format)\n",
    "                ),\n",
    "                format=format\n",
    "            ),\n",
    "            format=format   \n",
    "        ),\n",
    "        format=format\n",
    "    )\n",
    "\n",
    "def generate_block_uniq_constr_dense(dtype = int):\n",
    "    return np.kron(\n",
    "        np.eye(3, dtype = dtype),\n",
    "        np.kron(\n",
    "            np.ones((1,3), dtype = dtype), \n",
    "            np.kron(\n",
    "                np.eye(3, dtype = dtype),\n",
    "                np.kron( \n",
    "                    np.ones((1,3), dtype = dtype),\n",
    "                    np.eye(9, dtype = dtype)\n",
    "                ),\n",
    "            ),\n",
    "        ),\n",
    "    )\n",
    "\n",
    "@njit\n",
    "def generate_block_uniq_constr_njit():\n",
    "    return np.kron(\n",
    "        np.eye(3, dtype = numba.boolean),\n",
    "        np.kron(\n",
    "            np.ones((1,3), dtype = numba.boolean), \n",
    "            np.kron(\n",
    "                np.eye(3, dtype = numba.boolean),\n",
    "                np.kron( \n",
    "                    np.ones((1,3), dtype = numba.boolean),\n",
    "                    np.eye(9, dtype = numba.boolean)\n",
    "                ),\n",
    "            ),\n",
    "        ),\n",
    "    )\n",
    "\n",
    "def generate_clues_contr_sparse(clues_inds_rows, clues_inds_cols, clues_vals,\n",
    "                         format = \"csr\", dtype = int):\n",
    "    #x[i,j,m] = 1\n",
    "    op_shape = (clues_vals.shape[0], NROWS*NCOLS*NVALS)\n",
    "\n",
    "    data = np.ones((clues_vals.shape[0]), dtype=dtype)\n",
    "    row_inds = np.arange(clues_vals.shape[0])\n",
    "    col_inds = NVALS*NCOLS*clues_inds_rows + NVALS*clues_inds_cols + clues_vals-1\n",
    "    op_sparse = sp.sparse.csc_matrix( (data, (row_inds, col_inds)), shape = op_shape)\n",
    "    return op_sparse\n",
    "\n",
    "def generate_clues_contr_dense(clues_inds_rows, clues_inds_cols, clues_vals, dtype = int):\n",
    "    #x[i,j,m] = 1\n",
    "    op_shape = (clues_vals.shape[0], NROWS*NCOLS*NVALS)\n",
    "    op_dense = np.zeros(op_shape, dtype = dtype)\n",
    "\n",
    "    row_inds = np.arange(clues_vals.shape[0])\n",
    "    col_inds = NVALS*NCOLS*clues_inds_rows + NVALS*clues_inds_cols + clues_vals-1\n",
    "    op_dense[row_inds, col_inds] = 1\n",
    "    return op_dense\n",
    "\n",
    "@njit\n",
    "def generate_clues_contr_njit(clues_inds_rows, clues_inds_cols, clues_vals):\n",
    "    #x[i,j,m] = 1\n",
    "    op_shape = (clues_vals.shape[0], NROWS*NCOLS*NVALS)\n",
    "    op_dense = np.zeros(op_shape, dtype = numba.boolean)\n",
    "    \n",
    "    col_inds = NVALS*NCOLS*clues_inds_rows + NVALS*clues_inds_cols + clues_vals-1\n",
    "    for i, col_ind in enumerate(col_inds):\n",
    "        op_dense[i, col_ind] = True\n",
    "    return op_dense\n",
    "\n"
   ]
  },
  {
   "cell_type": "code",
   "execution_count": 5,
   "id": "df03f683-a7bf-4831-96a4-8a3072d33cf3",
   "metadata": {
    "execution": {
     "iopub.execute_input": "2024-06-13T20:23:26.422198Z",
     "iopub.status.busy": "2024-06-13T20:23:26.421805Z",
     "iopub.status.idle": "2024-06-13T20:23:26.432772Z",
     "shell.execute_reply": "2024-06-13T20:23:26.431989Z",
     "shell.execute_reply.started": "2024-06-13T20:23:26.422175Z"
    }
   },
   "outputs": [],
   "source": [
    "def setup_ILP_sparse(clue_array, format = \"csr\", dtype = int):\n",
    "    clues_inds_rows, clues_inds_cols, clues_vals = sudoku_array_to_clues(clue_array)\n",
    "    \n",
    "    A_one_val = generate_one_value_constr_sparse(format = format, dtype = dtype)\n",
    "    A_row = generate_row_uniq_constr_sparse(format = format, dtype = dtype)\n",
    "    A_col = generate_col_uniq_constr_sparse(format = format, dtype = dtype)\n",
    "    A_block = generate_block_uniq_constr_sparse(format = format, dtype = dtype)\n",
    "    A_clues = generate_clues_contr_sparse(clues_inds_rows, clues_inds_cols, clues_vals, format = format, dtype = dtype)\n",
    "\n",
    "    A_full = sp.sparse.vstack((A_one_val, A_row, A_col, A_block, A_clues), format = format)\n",
    "    c = np.linspace(0,1,A_full.shape[1]) #np.zeros(solution_size, dtype = np.float64)\n",
    "    return c, A_full\n",
    "\n",
    "def setup_ILP_dense(clue_array, dtype = int):\n",
    "    clues_inds_rows, clues_inds_cols, clues_vals = sudoku_array_to_clues(clue_array)\n",
    "    \n",
    "    A_one_val = generate_one_value_constr_dense(dtype = dtype)\n",
    "    A_row = generate_row_uniq_constr_dense(dtype = dtype)\n",
    "    A_col = generate_col_uniq_constr_dense(dtype = dtype)\n",
    "    A_block = generate_block_uniq_constr_dense(dtype = dtype)\n",
    "    A_clues = generate_clues_contr_dense(clues_inds_rows, clues_inds_cols, clues_vals, dtype = dtype)\n",
    "\n",
    "    A_full = np.vstack((A_one_val, A_row, A_col, A_block, A_clues))\n",
    "    c = np.linspace(0,1,A_full.shape[1]) #np.zeros(solution_size, dtype = np.float64)\n",
    "    return c, A_full\n",
    "\n",
    "def setup_ILP_sparse_end(clue_array, format = \"csr\", dtype = int):\n",
    "    clues_inds_rows, clues_inds_cols, clues_vals = sudoku_array_to_clues(clue_array)\n",
    "    \n",
    "    A_one_val = generate_one_value_constr_dense(dtype = dtype)\n",
    "    A_row = generate_row_uniq_constr_dense(dtype = dtype)\n",
    "    A_col = generate_col_uniq_constr_dense(dtype = dtype)\n",
    "    A_block = generate_block_uniq_constr_dense(dtype = dtype)\n",
    "    A_clues = generate_clues_contr_dense(clues_inds_rows, clues_inds_cols, clues_vals, dtype = dtype)\n",
    "\n",
    "    A_full = sp.sparse.vstack((A_one_val, A_row, A_col, A_block, A_clues), format = format)\n",
    "    c = np.linspace(0,1,A_full.shape[1]) #np.zeros(solution_size, dtype = np.float64)\n",
    "    return c, A_full\n",
    "\n",
    "@njit\n",
    "def setup_ILP_njit(clue_array):\n",
    "    clues_inds_rows, clues_inds_cols, clues_vals = sudoku_array_to_clues_njit(clue_array)\n",
    "    \n",
    "    A_one_val = generate_one_value_constr_njit()\n",
    "    A_row = generate_row_uniq_constr_njit()\n",
    "    A_col = generate_col_uniq_constr_njit()\n",
    "    A_block = generate_block_uniq_constr_njit()\n",
    "    A_clues = generate_clues_contr_njit(clues_inds_rows, clues_inds_cols, clues_vals)\n",
    "\n",
    "    A_full = np.vstack((A_one_val, A_row, A_col, A_block, A_clues))\n",
    "    c = np.linspace(0,1,A_full.shape[1]) #np.zeros(solution_size, dtype = np.float64)\n",
    "    return c, A_full\n",
    "    "
   ]
  },
  {
   "cell_type": "code",
   "execution_count": 6,
   "id": "8b92fefb-d9eb-44ac-81a5-b1a64e86bf12",
   "metadata": {
    "execution": {
     "iopub.execute_input": "2024-06-13T20:23:26.435215Z",
     "iopub.status.busy": "2024-06-13T20:23:26.434796Z",
     "iopub.status.idle": "2024-06-13T20:23:29.579548Z",
     "shell.execute_reply": "2024-06-13T20:23:29.578769Z",
     "shell.execute_reply.started": "2024-06-13T20:23:26.435194Z"
    }
   },
   "outputs": [
    {
     "name": "stdout",
     "output_type": "stream",
     "text": [
      "{'njitted': [3.1373010200913996], 'normal': [0.002184425015002489]}\n"
     ]
    }
   ],
   "source": [
    "with Timer(\"njitted\"):\n",
    "    setup_ILP_njit(empty_sudoku)\n",
    "\n",
    "with Timer(\"normal\"):\n",
    "    setup_ILP_dense(empty_sudoku)\n",
    "\n",
    "print(Timer.timers)"
   ]
  },
  {
   "cell_type": "code",
   "execution_count": 60,
   "id": "ee44d066-a793-486b-8f7c-d066406ea608",
   "metadata": {
    "execution": {
     "iopub.execute_input": "2024-06-13T20:47:15.755585Z",
     "iopub.status.busy": "2024-06-13T20:47:15.755182Z",
     "iopub.status.idle": "2024-06-13T20:47:15.798243Z",
     "shell.execute_reply": "2024-06-13T20:47:15.796974Z",
     "shell.execute_reply.started": "2024-06-13T20:47:15.755557Z"
    }
   },
   "outputs": [],
   "source": [
    "\n",
    "\n",
    "def solve_sudoku_scipy(c, A_full):\n",
    "    solution_size = A_full.shape[1]\n",
    "    integrality = np.ones(solution_size, dtype = int)\n",
    "    bounds = sp.optimize.Bounds(lb=0, ub=1) #somthing with 0 and \n",
    "    constraints = sp.optimize.LinearConstraint(A_full, lb=1, ub=1) #somthing with A\n",
    "    res = sp.optimize.milp(c, integrality = integrality, bounds = bounds, constraints = constraints)\n",
    "    return res\n",
    "\n",
    "env = gp.Env(empty=True)\n",
    "env.setParam('OutputFlag', 0)\n",
    "env.start()\n",
    "        \n",
    "def solve_sudoku_gurobi(c, A_full):\n",
    "    # Create a new model\n",
    "    m = gp.Model(\"matrix1\", env = env) \n",
    "    # Create variables\n",
    "    solution_size = A_full.shape[1]\n",
    "    x = m.addMVar(shape=solution_size, vtype=GRB.BINARY, name=\"x\")\n",
    "    # Build rhs vector\n",
    "    rhs = np.ones(A_full.shape[0], dtype = int)\n",
    "    # Add constraints\n",
    "    m.addConstr(A_full @ x == rhs, name=\"constraints\")\n",
    "    # Set objective\n",
    "    m.setObjective(c @ x, GRB.MINIMIZE)\n",
    "    # Optimize model\n",
    "    m.optimize()\n",
    "    return x.X\n",
    "    \n",
    "\n",
    "def solve_sudoku_highspy(c, A_full):\n",
    "\n",
    "    rows, cols = A_full.shape\n",
    "    # Highs h\n",
    "    h = highspy.Highs()\n",
    "\n",
    "    # Define a HighsLp instance\n",
    "    lp = highspy.HighsLp()\n",
    "    \n",
    "    lp.num_col_ = cols\n",
    "    lp.num_row_ = rows\n",
    "    lp.col_cost_ = c\n",
    "    lp.col_lower_ = np.zeros(c.shape, dtype = int)\n",
    "    lp.col_upper_ = np.ones(c.shape, dtype = int)\n",
    "    lp.row_lower_ = np.ones((rows), dtype = int)\n",
    "    lp.row_upper_ = np.ones((rows), dtype = int)\n",
    "    lp.integrality_ = [highspy._core.HighsVarType.kInteger]*cols # np.ones(c.shape, dtype = int).tolist()\n",
    "    #lp.integrality_ = 1#np.ones(c.shape, dtype = int)#highspy.HighsVarType.kInteger\n",
    "    \n",
    "    # In a HighsLp instsance, the number of nonzeros is given by a fictitious final start\n",
    "    lp.a_matrix_.format_ = highspy.MatrixFormat.kColwise\n",
    "    lp.a_matrix_.start_ = A_full.indptr\n",
    "    lp.a_matrix_.index_ = A_full.indices\n",
    "    lp.a_matrix_.value_ = A_full.data\n",
    "    h.passModel(lp)\n",
    "\n",
    "    # Get and set options\n",
    "    options = h.getOptions()\n",
    "    options.log_to_console = False\n",
    "    h.passOptions(options)\n",
    "\n",
    "    h.run()\n",
    "    \n",
    "    solution = h.getSolution()\n",
    "    x= np.array(solution.col_value)\n",
    "    return x\n",
    "\n",
    "from pyscipopt import Model\n",
    "model = Model()\n",
    "\n",
    "def solve_sudoku_pisciopt(c, A_full):\n",
    "    num_constr, num_vars = A_full.shape \n",
    "    x = model.addVar(\"x\", num_vars, vtype=\"binary\")\n",
    "    #model.setObjective(c @ x)\n",
    "    #model.addCons(A_full@x == 0)\n",
    "    #model.addCons(2*x - y*y >= 0)\n",
    "    \n",
    "    return model\n",
    "\n",
    "        \n",
    "\n",
    "\n",
    "\n"
   ]
  },
  {
   "cell_type": "code",
   "execution_count": 61,
   "id": "727c1fd7-6aab-49b8-895c-9f86380f0133",
   "metadata": {
    "execution": {
     "iopub.execute_input": "2024-06-13T20:47:15.799787Z",
     "iopub.status.busy": "2024-06-13T20:47:15.799557Z",
     "iopub.status.idle": "2024-06-13T20:47:15.817909Z",
     "shell.execute_reply": "2024-06-13T20:47:15.817047Z",
     "shell.execute_reply.started": "2024-06-13T20:47:15.799766Z"
    }
   },
   "outputs": [
    {
     "name": "stdout",
     "output_type": "stream",
     "text": [
      "Running HiGHS 1.7.1 (git hash: 0c240d8): Copyright (c) 2024 HiGHS under MIT licence terms\n",
      "[[7 3 1 8 6 5 9 4 2]\n",
      " [8 9 2 3 1 4 5 6 7]\n",
      " [6 5 4 7 9 2 1 3 8]\n",
      " [9 4 6 5 8 3 2 7 1]\n",
      " [1 2 3 9 4 7 6 8 5]\n",
      " [5 8 7 1 2 6 4 9 3]\n",
      " [2 7 5 6 3 9 8 1 4]\n",
      " [4 6 8 2 7 1 3 5 9]\n",
      " [3 1 9 4 5 8 7 2 6]]\n",
      "{'njitted': [3.1373010200913996], 'normal': [0.002184425015002489], 'Solve Highs': [0.01014044089242816, 0.01246186112985015, 0.012220255099236965, 0.012605963973328471, 0.01210187398828566, 0.01242921408265829, 0.005345142912119627, 0.004742315039038658, 0.004716824973002076, 0.00547668500803411, 0.005147468065842986, 0.011789262993261218, 0.013099837116897106, 0.013716191984713078, 0.01254982384853065, 0.01327479793690145, 0.012615921907126904, 0.012198018841445446, 0.014960202854126692, 0.013174992986023426, 0.011703741969540715, 0.013462958857417107, 0.012762434082105756, 0.011979519156739116], '1. Setup njit dense': [0.0007697429973632097, 0.0006385340820997953, 0.0006324758287519217, 0.0006547991652041674, 0.0007842211052775383, 0.0007439898326992989, 0.0006413278169929981, 0.0006371340714395046, 0.0006384160369634628, 0.0007828420493751764, 0.0006555961444973946, 0.0006446819752454758, 0.0006480668671429157], '2. Scipy solver njit dense': [0.08571214298717678, 0.009368367958813906, 0.009305970976129174, 0.009301494108512998, 0.011715464992448688, 0.01005875994451344, 0.00938699790276587, 0.00931775406934321, 0.009313757997006178, 0.012036426924169064, 0.009478372987359762, 0.009460343979299068, 0.00940007297322154], '3. Gurobi solver njit dense': [0.03025366785004735, 0.029247162863612175, 0.02843150799162686, 0.029495531925931573, 0.02725294209085405, 0.03695794218219817, 0.008939492050558329, 0.0303954160772264, 0.029014381812885404, 0.030556307872757316, 0.00903649814426899, 0.00895060715265572, 0.009003198007121682], '1. Setup njit sparse': [0.001996925799176097, 0.001956891966983676, 0.0019466110970824957, 0.0019645250868052244, 0.0020441990345716476, 0.0019532409496605396, 0.0019515599124133587, 0.0019711479544639587, 0.0020936329383403063, 0.001978944055736065, 0.0019850749522447586, 0.0019797510467469692], '2. Scipy solver njit sparse': [0.006569232093170285, 0.006424117833375931, 0.006468703970313072, 0.0064290810842067, 0.00649857590906322, 0.006420159013941884, 0.006388860056176782, 0.006431855959817767, 0.00664468202739954, 0.00642608106136322, 0.006382396910339594, 0.006446496117860079], '3. Gurobi solver njit sparse': [0.027572351042181253, 0.007894775131717324, 0.007921682205051184, 0.00792772602289915, 0.007892078021541238, 0.008053422905504704, 0.007846741005778313, 0.007874588016420603, 0.027171737980097532, 0.007931947009637952, 0.0078542937990278, 0.008275042055174708], '1. Setup sparse_dense': [0.002543704118579626, 0.0023919190280139446, 0.002361434046179056, 0.0023685849737375975, 0.00320692197419703, 0.002413365989923477, 0.0024555930867791176, 0.0024670111015439034, 0.0029114519711583853, 0.0024378651287406683, 0.0029935489874333143, 0.0026056719943881035], '2. Scipy solver sparse_dense': [0.006412970134988427, 0.00641706888563931, 0.006358578102663159, 0.006426994921639562, 0.006446360144764185, 0.006388213951140642, 0.006383496103808284, 0.0063837310299277306, 0.006441709119826555, 0.006395770935341716, 0.006381936138495803, 0.006397957913577557], '3. Gurobi solver sparse_dense': [0.030454115942120552, 0.007896797964349389, 0.007811986142769456, 0.007947991136461496, 0.029289321042597294, 0.029030969133600593, 0.007946817902848125, 0.007941084913909435, 0.025618501007556915, 0.02761878608725965, 0.026663981145247817, 0.008060901891440153], '1. Setup sparse': [0.0037503300700336695, 0.003479219041764736, 0.003515074960887432, 0.003388070035725832, 0.0036297920159995556, 0.0035054730251431465, 0.003482050960883498, 0.003508790163323283, 0.0036579021252691746, 0.0035341111943125725, 0.003537873039022088, 0.003518044948577881], '2. Scipy solver sparse': [0.006410890957340598, 0.006432624999433756, 0.0063649630174040794, 0.006414117058739066, 0.00639934279024601, 0.006436093943193555, 0.006553454790264368, 0.006389897083863616, 0.006411348935216665, 0.006481653079390526, 0.006427740911021829, 0.006410602014511824], '3. Gurobi solver sparse': [0.029386715963482857, 0.007797650992870331, 0.007806152105331421, 0.007856579963117838, 0.029502022080123425, 0.00796587485820055, 0.007886830950155854, 0.007883467013016343, 0.02650835202075541, 0.029503314988687634, 0.026127617806196213, 0.02847818797454238], '1. Setup dense': [0.0007311569061130285, 0.000708739971742034, 0.0006968590896576643, 0.0007063229568302631, 0.000730087049305439, 0.0007167740259319544, 0.0007124969270080328, 0.0006954660639166832, 0.0007293890230357647, 0.0007290567737072706, 0.0007308840285986662, 0.0007066531106829643], '2. Scipy solver dense': [0.010362009052187204, 0.009306253865361214, 0.009263577871024609, 0.009259869111701846, 0.009527056943625212, 0.010555536020547152, 0.009271267103031278, 0.009272511815652251, 0.00960680702701211, 0.009400946088135242, 0.00937303714454174, 0.009378667920827866], '3. Gurobi solver dense': [0.008880128851160407, 0.008862756891176105, 0.00891239196062088, 0.00885506416670978, 0.009030596818774939, 0.008951324969530106, 0.008921716129407287, 0.03036230499856174, 0.009242100873962045, 0.029728583991527557, 0.030422935960814357, 0.02961105783469975], '4. Highspy solver njit dense': [0.0005339819472283125, 0.008144602179527283, 0.008176180068403482, 0.008496505906805396, 0.007934622000902891], '4. Highspy solver njit sparse': [0.008450948167592287, 0.008144146064296365, 0.008041315013542771, 0.008013925980776548]}\n"
     ]
    }
   ],
   "source": [
    "with Timer(\"Solve Highs\"):\n",
    "    c, A_full_njit = setup_ILP_njit(empty_sudoku)\n",
    "    A_full_njit_sparse = sp.sparse.csc_matrix(A_full_njit)\n",
    "    #model = solve_sudoku_pisciopt(c, A_full_njit)\n",
    "    solution = solve_sudoku_highspy(c, A_full_njit_sparse)\n",
    "\n",
    "print(vector_to_array(solution))\n",
    "print(Timer.timers)"
   ]
  },
  {
   "cell_type": "code",
   "execution_count": 62,
   "id": "01845aa4-9f95-4b35-9dba-721bf30a0625",
   "metadata": {
    "execution": {
     "iopub.execute_input": "2024-06-13T20:47:16.755118Z",
     "iopub.status.busy": "2024-06-13T20:47:16.753592Z",
     "iopub.status.idle": "2024-06-13T20:47:16.773882Z",
     "shell.execute_reply": "2024-06-13T20:47:16.772877Z",
     "shell.execute_reply.started": "2024-06-13T20:47:16.755072Z"
    }
   },
   "outputs": [
    {
     "name": "stdout",
     "output_type": "stream",
     "text": [
      "The line_profiler extension is already loaded. To reload it, use:\n",
      "  %reload_ext line_profiler\n",
      "Running HiGHS 1.7.1 (git hash: 0c240d8): Copyright (c) 2024 HiGHS under MIT licence terms\n"
     ]
    },
    {
     "data": {
      "text/plain": [
       "Timer unit: 1e-09 s\n",
       "\n",
       "Total time: 0.00949179 s\n",
       "File: /tmp/ipykernel_1197453/2549653050.py\n",
       "Function: solve_sudoku_highspy at line 30\n",
       "\n",
       "Line #      Hits         Time  Per Hit   % Time  Line Contents\n",
       "==============================================================\n",
       "    30                                           def solve_sudoku_highspy(c, A_full):\n",
       "    31                                           \n",
       "    32         1       6887.0   6887.0      0.1      rows, cols = A_full.shape\n",
       "    33                                               # Highs h\n",
       "    34         1     242615.0 242615.0      2.6      h = highspy.Highs()\n",
       "    35                                           \n",
       "    36                                               # Define a HighsLp instance\n",
       "    37         1       8243.0   8243.0      0.1      lp = highspy.HighsLp()\n",
       "    38                                               \n",
       "    39         1       6481.0   6481.0      0.1      lp.num_col_ = cols\n",
       "    40         1       1301.0   1301.0      0.0      lp.num_row_ = rows\n",
       "    41         1      64648.0  64648.0      0.7      lp.col_cost_ = c\n",
       "    42         1      80332.0  80332.0      0.8      lp.col_lower_ = np.zeros(c.shape, dtype = int)\n",
       "    43         1     123247.0 123247.0      1.3      lp.col_upper_ = np.ones(c.shape, dtype = int)\n",
       "    44         1      43769.0  43769.0      0.5      lp.row_lower_ = np.ones((rows), dtype = int)\n",
       "    45         1      32515.0  32515.0      0.3      lp.row_upper_ = np.ones((rows), dtype = int)\n",
       "    46         1      56202.0  56202.0      0.6      lp.integrality_ = [highspy._core.HighsVarType.kInteger]*cols # np.ones(c.shape, dtype = int).tolist()\n",
       "    47                                               #lp.integrality_ = 1#np.ones(c.shape, dtype = int)#highspy.HighsVarType.kInteger\n",
       "    48                                               \n",
       "    49                                               # In a HighsLp instsance, the number of nonzeros is given by a fictitious final start\n",
       "    50         1      20378.0  20378.0      0.2      lp.a_matrix_.format_ = highspy.MatrixFormat.kColwise\n",
       "    51         1      74351.0  74351.0      0.8      lp.a_matrix_.start_ = A_full.indptr\n",
       "    52         1     238746.0 238746.0      2.5      lp.a_matrix_.index_ = A_full.indices\n",
       "    53         1     638883.0 638883.0      6.7      lp.a_matrix_.value_ = A_full.data\n",
       "    54         1     201574.0 201574.0      2.1      h.passModel(lp)\n",
       "    55                                           \n",
       "    56                                               # Get and set options\n",
       "    57         1     131039.0 131039.0      1.4      options = h.getOptions()\n",
       "    58         1       3452.0   3452.0      0.0      options.log_to_console = False\n",
       "    59         1      16115.0  16115.0      0.2      h.passOptions(options)\n",
       "    60                                           \n",
       "    61         1    7382629.0    7e+06     77.8      h.run()\n",
       "    62                                               \n",
       "    63         1      33038.0  33038.0      0.3      solution = h.getSolution()\n",
       "    64         1      85341.0  85341.0      0.9      x= np.array(solution.col_value)\n",
       "    65                                               return x"
      ]
     },
     "metadata": {},
     "output_type": "display_data"
    }
   ],
   "source": [
    "%load_ext line_profiler\n",
    "%lprun -f solve_sudoku_highspy res_scipy = solve_sudoku_highspy(c, A_full_njit_sparse)"
   ]
  },
  {
   "cell_type": "code",
   "execution_count": 9,
   "id": "f20eea00-7df9-4433-8beb-9e761144b162",
   "metadata": {
    "execution": {
     "iopub.execute_input": "2024-06-13T20:23:29.610549Z",
     "iopub.status.busy": "2024-06-13T20:23:29.610399Z",
     "iopub.status.idle": "2024-06-13T20:23:29.749164Z",
     "shell.execute_reply": "2024-06-13T20:23:29.748411Z",
     "shell.execute_reply.started": "2024-06-13T20:23:29.610535Z"
    }
   },
   "outputs": [
    {
     "ename": "NameError",
     "evalue": "name 'Error' is not defined",
     "output_type": "error",
     "traceback": [
      "\u001b[0;31m---------------------------------------------------------------------------\u001b[0m",
      "\u001b[0;31mNameError\u001b[0m                                 Traceback (most recent call last)",
      "Cell \u001b[0;32mIn[9], line 1\u001b[0m\n\u001b[0;32m----> 1\u001b[0m \u001b[38;5;28;01mraise\u001b[39;00m \u001b[43mError\u001b[49m\n",
      "\u001b[0;31mNameError\u001b[0m: name 'Error' is not defined"
     ]
    }
   ],
   "source": [
    "raise Error"
   ]
  },
  {
   "cell_type": "raw",
   "id": "aa6af5cf-8fd0-401e-98fd-a7a0e28e8462",
   "metadata": {},
   "source": []
  },
  {
   "cell_type": "code",
   "execution_count": null,
   "id": "beb12c52-4dea-47c8-bac1-6a68157bcbe3",
   "metadata": {
    "execution": {
     "iopub.status.busy": "2024-06-13T20:23:29.749448Z",
     "iopub.status.idle": "2024-06-13T20:23:29.749580Z",
     "shell.execute_reply": "2024-06-13T20:23:29.749520Z",
     "shell.execute_reply.started": "2024-06-13T20:23:29.749513Z"
    }
   },
   "outputs": [],
   "source": [
    "\n",
    "# %load_ext line_profiler\n",
    "    \n",
    "# %lprun -f setup_ILP_dense c, A_full_dense = setup_ILP_dense(empty_sudoku, dtype = bool)\n",
    "\n",
    "# %lprun -f solve_sudoku_scipy res_scipy = solve_sudoku_scipy(c, A_full_dense)\n",
    "# %lprun -f setup_ILP_sparse c, A_full_dense = setup_ILP_sparse(empty_sudoku, dtype = bool)\n",
    "\n"
   ]
  },
  {
   "cell_type": "code",
   "execution_count": null,
   "id": "35c1f678-ad9e-4a29-9a8f-05a8d095de79",
   "metadata": {
    "execution": {
     "iopub.status.busy": "2024-06-13T20:23:29.750130Z",
     "iopub.status.idle": "2024-06-13T20:23:29.750252Z",
     "shell.execute_reply": "2024-06-13T20:23:29.750197Z",
     "shell.execute_reply.started": "2024-06-13T20:23:29.750191Z"
    }
   },
   "outputs": [],
   "source": [
    "#fastest option\n",
    "with Timer(\"Solve sudoku\"):\n",
    "    c, A_full_njit = setup_ILP_njit(empty_sudoku)\n",
    "    A_sparse_njit =  sp.sparse.csr_matrix(A_full_njit)\n",
    "    res_scipy = solve_sudoku_scipy(c, A_sparse_njit)\n",
    "    solve_sudoku_scipy(c, A_sparse_njit)\n",
    "    \n",
    "\n",
    "print(Timer.timers)\n",
    "    \n",
    "    "
   ]
  },
  {
   "cell_type": "code",
   "execution_count": null,
   "id": "80574dbb-d4da-409c-81ce-b97579340e3f",
   "metadata": {
    "execution": {
     "iopub.status.busy": "2024-06-13T20:23:29.751215Z",
     "iopub.status.idle": "2024-06-13T20:23:29.751352Z",
     "shell.execute_reply": "2024-06-13T20:23:29.751290Z",
     "shell.execute_reply.started": "2024-06-13T20:23:29.751284Z"
    }
   },
   "outputs": [],
   "source": [
    "raise Error"
   ]
  },
  {
   "cell_type": "code",
   "execution_count": 53,
   "id": "d53192c1-70eb-472e-9df7-cd1ce35a5d01",
   "metadata": {
    "execution": {
     "iopub.execute_input": "2024-06-13T20:42:13.757254Z",
     "iopub.status.busy": "2024-06-13T20:42:13.756561Z",
     "iopub.status.idle": "2024-06-13T20:42:14.406744Z",
     "shell.execute_reply": "2024-06-13T20:42:14.405396Z",
     "shell.execute_reply.started": "2024-06-13T20:42:13.757199Z"
    }
   },
   "outputs": [
    {
     "name": "stdout",
     "output_type": "stream",
     "text": [
      "Running HiGHS 1.7.1 (git hash: 0c240d8): Copyright (c) 2024 HiGHS under MIT licence terms\n",
      "Running HiGHS 1.7.1 (git hash: 0c240d8): Copyright (c) 2024 HiGHS under MIT licence terms\n",
      "Running HiGHS 1.7.1 (git hash: 0c240d8): Copyright (c) 2024 HiGHS under MIT licence terms\n",
      "Running HiGHS 1.7.1 (git hash: 0c240d8): Copyright (c) 2024 HiGHS under MIT licence terms\n",
      "1. Setup dense \t\t [0.0007 0.0007 0.0007 0.0007 0.0007 0.0007 0.0007 0.0007 0.0007 0.0007\n",
      " 0.0007 0.0007]\n",
      "1. Setup njit dense \t\t [0.0008 0.0006 0.0006 0.0007 0.0008 0.0007 0.0006 0.0006 0.0006 0.0008\n",
      " 0.0007 0.0006 0.0006]\n",
      "1. Setup njit sparse \t\t [0.002  0.002  0.0019 0.002  0.002  0.002  0.002  0.002  0.0021 0.002\n",
      " 0.002  0.002 ]\n",
      "1. Setup sparse \t\t [0.0038 0.0035 0.0035 0.0034 0.0036 0.0035 0.0035 0.0035 0.0037 0.0035\n",
      " 0.0035 0.0035]\n",
      "1. Setup sparse_dense \t\t [0.0025 0.0024 0.0024 0.0024 0.0032 0.0024 0.0025 0.0025 0.0029 0.0024\n",
      " 0.003  0.0026]\n",
      "2. Scipy solver dense \t\t [0.0104 0.0093 0.0093 0.0093 0.0095 0.0106 0.0093 0.0093 0.0096 0.0094\n",
      " 0.0094 0.0094]\n",
      "2. Scipy solver njit dense \t\t [0.0857 0.0094 0.0093 0.0093 0.0117 0.0101 0.0094 0.0093 0.0093 0.012\n",
      " 0.0095 0.0095 0.0094]\n",
      "2. Scipy solver njit sparse \t\t [0.0066 0.0064 0.0065 0.0064 0.0065 0.0064 0.0064 0.0064 0.0066 0.0064\n",
      " 0.0064 0.0064]\n",
      "2. Scipy solver sparse \t\t [0.0064 0.0064 0.0064 0.0064 0.0064 0.0064 0.0066 0.0064 0.0064 0.0065\n",
      " 0.0064 0.0064]\n",
      "2. Scipy solver sparse_dense \t\t [0.0064 0.0064 0.0064 0.0064 0.0064 0.0064 0.0064 0.0064 0.0064 0.0064\n",
      " 0.0064 0.0064]\n",
      "3. Gurobi solver dense \t\t [0.0089 0.0089 0.0089 0.0089 0.009  0.009  0.0089 0.0304 0.0092 0.0297\n",
      " 0.0304 0.0296]\n",
      "3. Gurobi solver njit dense \t\t [0.0303 0.0292 0.0284 0.0295 0.0273 0.037  0.0089 0.0304 0.029  0.0306\n",
      " 0.009  0.009  0.009 ]\n",
      "3. Gurobi solver njit sparse \t\t [0.0276 0.0079 0.0079 0.0079 0.0079 0.0081 0.0078 0.0079 0.0272 0.0079\n",
      " 0.0079 0.0083]\n",
      "3. Gurobi solver sparse \t\t [0.0294 0.0078 0.0078 0.0079 0.0295 0.008  0.0079 0.0079 0.0265 0.0295\n",
      " 0.0261 0.0285]\n",
      "3. Gurobi solver sparse_dense \t\t [0.0305 0.0079 0.0078 0.0079 0.0293 0.029  0.0079 0.0079 0.0256 0.0276\n",
      " 0.0267 0.0081]\n",
      "4. Highspy solver njit dense \t\t [0.0005 0.0081 0.0082 0.0085 0.0079]\n",
      "4. Highspy solver njit sparse \t\t [0.0085 0.0081 0.008  0.008 ]\n",
      "Solve Highs \t\t [0.0101 0.0125 0.0122 0.0126 0.0121 0.0124 0.0053 0.0047 0.0047 0.0055\n",
      " 0.0051 0.0118 0.0131 0.0137 0.0125 0.0133 0.0126 0.0122 0.015  0.0132\n",
      " 0.0117 0.0135]\n",
      "njitted \t\t [3.1373]\n",
      "normal \t\t [0.0022]\n"
     ]
    }
   ],
   "source": [
    "repeats = 4\n",
    "for i in range(repeats):\n",
    "    with Timer(\"1. Setup njit dense\"):\n",
    "        c, A_full_njit_dense = setup_ILP_njit(empty_sudoku)\n",
    "    with Timer(\"2. Scipy solver njit dense\"):\n",
    "        res_scipy = solve_sudoku_scipy(c, A_full_njit_dense)\n",
    "    with Timer(\"3. Gurobi solver njit dense\"):\n",
    "        res_gurobi = solve_sudoku_gurobi(c, A_full_njit_dense )\n",
    "    del c\n",
    "    del A_full_njit_dense \n",
    "\n",
    "    with Timer(\"1. Setup njit sparse\"):\n",
    "        c, A_full_njit_dense = setup_ILP_njit(empty_sudoku)\n",
    "        A_full_njit_sparse = sp.sparse.csc_matrix(A_full_njit_dense)\n",
    "    with Timer(\"2. Scipy solver njit sparse\"):\n",
    "        res_scipy = solve_sudoku_scipy(c, A_full_njit_sparse )\n",
    "    with Timer(\"3. Gurobi solver njit sparse\"):\n",
    "        res_gurobi = solve_sudoku_gurobi(c, A_full_njit_sparse )\n",
    "    with Timer(\"4. Highspy solver njit sparse\"):\n",
    "        res_highspy = solve_sudoku_highspy(c, A_full_njit_sparse )\n",
    "    del c\n",
    "    del A_full_njit_sparse\n",
    "        \n",
    "    with Timer(\"1. Setup sparse_dense\"):\n",
    "        c, A_full_sparse = setup_ILP_sparse_end(empty_sudoku, format = \"csc\", dtype = bool)\n",
    "    with Timer(\"2. Scipy solver sparse_dense\"):\n",
    "        res_scipy = solve_sudoku_scipy(c, A_full_sparse)\n",
    "    with Timer(\"3. Gurobi solver sparse_dense\"):\n",
    "        res_gurobi = solve_sudoku_gurobi(c, A_full_sparse)\n",
    "    del c\n",
    "    del A_full_sparse\n",
    "    \n",
    "    with Timer(\"1. Setup sparse\"):\n",
    "        c, A_full_sparse = setup_ILP_sparse(empty_sudoku, format = \"csc\", dtype = bool)\n",
    "    with Timer(\"2. Scipy solver sparse\"):\n",
    "        res_scipy = solve_sudoku_scipy(c, A_full_sparse)\n",
    "    with Timer(\"3. Gurobi solver sparse\"):\n",
    "        res_gurobi = solve_sudoku_gurobi(c, A_full_sparse)\n",
    "    del c\n",
    "    del A_full_sparse\n",
    "    \n",
    "    with Timer(\"1. Setup dense\"):\n",
    "        c, A_full_dense = setup_ILP_dense(empty_sudoku, dtype = bool)\n",
    "    with Timer(\"2. Scipy solver dense\"):\n",
    "        res_scipy = solve_sudoku_scipy(c, A_full_dense)\n",
    "    with Timer(\"3. Gurobi solver dense\"):\n",
    "        res_gurobi = solve_sudoku_gurobi(c, A_full_dense)\n",
    "    del c\n",
    "    del A_full_dense\n",
    "\n",
    "np.set_printoptions(precision=4)\n",
    "keys = np.sort(list(Timer.timers.keys()))\n",
    "for key in keys:\n",
    "    print(key, \"\\t\\t\", np.array(Timer.timers[key]))"
   ]
  },
  {
   "cell_type": "code",
   "execution_count": null,
   "id": "b50b56df-a5d8-40a0-9ca6-c680bbb7356f",
   "metadata": {},
   "outputs": [],
   "source": []
  },
  {
   "cell_type": "code",
   "execution_count": null,
   "id": "de349147-2d9b-4754-b31a-e272cd27310d",
   "metadata": {
    "execution": {
     "iopub.status.busy": "2024-06-13T20:23:29.752617Z",
     "iopub.status.idle": "2024-06-13T20:23:29.752737Z",
     "shell.execute_reply": "2024-06-13T20:23:29.752682Z",
     "shell.execute_reply.started": "2024-06-13T20:23:29.752676Z"
    }
   },
   "outputs": [],
   "source": [
    "raise Error"
   ]
  },
  {
   "cell_type": "code",
   "execution_count": null,
   "id": "c9f36496-88a4-474d-9e6f-e7f6eb3f6aaa",
   "metadata": {
    "execution": {
     "iopub.status.busy": "2024-06-13T20:23:29.753238Z",
     "iopub.status.idle": "2024-06-13T20:23:29.753369Z",
     "shell.execute_reply": "2024-06-13T20:23:29.753307Z",
     "shell.execute_reply.started": "2024-06-13T20:23:29.753301Z"
    }
   },
   "outputs": [],
   "source": [
    "repeats = 4\n",
    "for i in range(repeats):\n",
    "    \n",
    "    \n",
    "    \n",
    "    \n",
    "    \n",
    "print(vector_to_array(res_scipy.x))\n",
    "print(vector_to_array(res_gurobi))\n",
    "\n",
    "for key, value in Timer.timers.items():\n",
    "    print(key, \"\\t\\t\", value)\n",
    "\n"
   ]
  },
  {
   "cell_type": "code",
   "execution_count": null,
   "id": "23ce8e91-935b-4169-b4f9-42920f159451",
   "metadata": {
    "execution": {
     "iopub.status.busy": "2024-06-13T20:23:29.753769Z",
     "iopub.status.idle": "2024-06-13T20:23:29.753889Z",
     "shell.execute_reply": "2024-06-13T20:23:29.753835Z",
     "shell.execute_reply.started": "2024-06-13T20:23:29.753829Z"
    }
   },
   "outputs": [],
   "source": [
    "A_full"
   ]
  },
  {
   "cell_type": "code",
   "execution_count": null,
   "id": "d24c004f-5421-499e-87f5-d20c742b3f68",
   "metadata": {
    "execution": {
     "iopub.status.busy": "2024-06-13T20:23:29.754189Z",
     "iopub.status.idle": "2024-06-13T20:23:29.754304Z",
     "shell.execute_reply": "2024-06-13T20:23:29.754253Z",
     "shell.execute_reply.started": "2024-06-13T20:23:29.754247Z"
    }
   },
   "outputs": [],
   "source": [
    "raise Error"
   ]
  },
  {
   "cell_type": "code",
   "execution_count": null,
   "id": "8c0c3284-b4f8-4c3e-9ebd-6b06557adcc6",
   "metadata": {},
   "outputs": [],
   "source": []
  },
  {
   "cell_type": "code",
   "execution_count": null,
   "id": "56e3b09e-8028-49fd-b5c3-b7703b95433b",
   "metadata": {},
   "outputs": [],
   "source": []
  },
  {
   "cell_type": "code",
   "execution_count": null,
   "id": "1f410f76-fb3d-4451-9bae-cccff1c7ae0a",
   "metadata": {},
   "outputs": [],
   "source": [
    "\n",
    "\n",
    "\n",
    "\n",
    "\n",
    "\n"
   ]
  },
  {
   "cell_type": "code",
   "execution_count": null,
   "id": "cd158926-0d23-425f-a9c2-3bdcc9290ff5",
   "metadata": {},
   "outputs": [],
   "source": [
    "\n"
   ]
  },
  {
   "cell_type": "code",
   "execution_count": null,
   "id": "0e56220d-3a1d-479a-8f99-73c071af839e",
   "metadata": {},
   "outputs": [],
   "source": []
  },
  {
   "cell_type": "code",
   "execution_count": null,
   "id": "0160c5b2-5c94-4856-8d6f-a120fa607630",
   "metadata": {},
   "outputs": [],
   "source": []
  }
 ],
 "metadata": {
  "kernelspec": {
   "display_name": "Python 3 (ipykernel)",
   "language": "python",
   "name": "python3"
  },
  "language_info": {
   "codemirror_mode": {
    "name": "ipython",
    "version": 3
   },
   "file_extension": ".py",
   "mimetype": "text/x-python",
   "name": "python",
   "nbconvert_exporter": "python",
   "pygments_lexer": "ipython3",
   "version": "3.12.3"
  }
 },
 "nbformat": 4,
 "nbformat_minor": 5
}
