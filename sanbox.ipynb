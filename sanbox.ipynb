{
 "cells": [
  {
   "cell_type": "markdown",
   "id": "fb5689d8-79aa-416b-91f3-95f9f58f70e4",
   "metadata": {
    "execution": {
     "iopub.execute_input": "2024-06-13T09:45:49.754208Z",
     "iopub.status.busy": "2024-06-13T09:45:49.753643Z",
     "iopub.status.idle": "2024-06-13T09:45:49.790123Z",
     "shell.execute_reply": "2024-06-13T09:45:49.788837Z",
     "shell.execute_reply.started": "2024-06-13T09:45:49.754178Z"
    }
   },
   "source": [
    "[source](https://www.mathworks.com/help/optim/ug/sudoku-puzzles-problem-based.html)"
   ]
  },
  {
   "cell_type": "code",
   "execution_count": 1,
   "id": "4fb08d85-506f-4b7e-a383-634550a10863",
   "metadata": {
    "execution": {
     "iopub.execute_input": "2024-06-13T17:29:41.859903Z",
     "iopub.status.busy": "2024-06-13T17:29:41.859376Z",
     "iopub.status.idle": "2024-06-13T17:29:42.200022Z",
     "shell.execute_reply": "2024-06-13T17:29:42.198940Z",
     "shell.execute_reply.started": "2024-06-13T17:29:41.859874Z"
    }
   },
   "outputs": [],
   "source": [
    "import numpy as np\n",
    "import scipy as sp\n",
    "import gurobipy as gp\n",
    "from gurobipy import GRB\n",
    "\n",
    "from utils.timer import Timer\n",
    "\n",
    "from numba import njit\n",
    "import numba\n"
   ]
  },
  {
   "cell_type": "code",
   "execution_count": 2,
   "id": "617045e7-ad97-48c1-ab3e-78ecc3eb27fa",
   "metadata": {
    "execution": {
     "iopub.execute_input": "2024-06-13T17:29:42.201432Z",
     "iopub.status.busy": "2024-06-13T17:29:42.201090Z",
     "iopub.status.idle": "2024-06-13T17:29:42.252859Z",
     "shell.execute_reply": "2024-06-13T17:29:42.252077Z",
     "shell.execute_reply.started": "2024-06-13T17:29:42.201408Z"
    }
   },
   "outputs": [],
   "source": [
    "#The sudocu from the problem\n",
    "empty_sudoku = np.array(\n",
    "   [[0, 0, 1, 0, 0, 0, 0, 0, 2],\n",
    "    [0, 0, 0, 3, 0, 4, 5, 0, 0],\n",
    "    [6, 0, 0, 7, 0, 0, 1, 0, 0],\n",
    "    [0, 4, 0, 5, 0, 0, 0, 0, 0],\n",
    "    [0, 2, 0, 0, 0, 0, 0, 8, 0],\n",
    "    [0, 0, 0, 0, 0, 6, 0, 9, 0],\n",
    "    [0, 0, 5, 0, 0, 9, 0, 0, 4],\n",
    "    [0, 0, 8, 2, 0, 1, 0, 0, 0],\n",
    "    [3, 0, 0, 0, 0, 0, 7, 0, 0]]\n",
    ")\n",
    "\n",
    "#a sample sudocu from the internet\n",
    "sample_solution = np.array(\n",
    "    [[7, 1, 3, 5, 2, 4, 6, 9, 8],\n",
    "     [5, 2, 9, 6, 1, 8, 3, 4, 7],\n",
    "     [6, 4, 8, 7, 3, 9,\t2, 5, 1],\n",
    "     [1, 5, 2, 9, 4, 7, 8, 3, 6],\n",
    "     [8, 3, 6, 1, 5, 2, 9, 7, 4],\n",
    "     [4, 9, 7, 3, 8, 6, 5, 1, 2],\n",
    "     [3, 8, 5, 4, 6, 1, 7, 2, 9],\n",
    "     [9, 6,\t1, 2, 7, 5, 4, 8, 3],\n",
    "     [2, 7, 4, 8, 9, 3, 1, 6, 5]]\n",
    ")\n",
    "\n",
    "#the same sample sudoku with some elements deleted\n",
    "empty_sample_solution = np.array(\n",
    "    [[0, 0, 0, 5, 2, 4, 6, 9, 8],\n",
    "     [5, 2, 0, 6, 1, 8, 3, 4, 7],\n",
    "     [6, 4, 8, 7, 3, 9,\t2, 5, 1],\n",
    "     [1, 5, 2, 9, 4, 7, 8, 3, 6],\n",
    "     [8, 3, 6, 1, 5, 2, 9, 7, 4],\n",
    "     [4, 9, 7, 3, 8, 6, 5, 1, 2],\n",
    "     [3, 8, 5, 4, 6, 1, 7, 2, 9],\n",
    "     [9, 6,\t1, 2, 7, 5, 4, 8, 3],\n",
    "     [2, 7, 4, 8, 9, 3, 1, 6, 5]]\n",
    ")\n",
    "\n",
    "#A very empty sudoku\n",
    "very_empty_clues = np.zeros((9,9), dtype = int)\n",
    "very_empty_clues[0,1] = 3\n",
    "very_empty_clues[0,2] = 2\n",
    "very_empty_clues[0,3] = 1\n",
    "\n"
   ]
  },
  {
   "cell_type": "code",
   "execution_count": 3,
   "id": "54b6d176-a37a-4f62-ac66-b3ea192070ba",
   "metadata": {
    "execution": {
     "iopub.execute_input": "2024-06-13T17:29:42.254274Z",
     "iopub.status.busy": "2024-06-13T17:29:42.254046Z",
     "iopub.status.idle": "2024-06-13T17:29:42.281749Z",
     "shell.execute_reply": "2024-06-13T17:29:42.280399Z",
     "shell.execute_reply.started": "2024-06-13T17:29:42.254253Z"
    }
   },
   "outputs": [
    {
     "data": {
      "text/plain": [
       "array([[7, 1, 3, 5, 2, 4, 6, 9, 8],\n",
       "       [5, 2, 9, 6, 1, 8, 3, 4, 7],\n",
       "       [6, 4, 8, 7, 3, 9, 2, 5, 1],\n",
       "       [1, 5, 2, 9, 4, 7, 8, 3, 6],\n",
       "       [8, 3, 6, 1, 5, 2, 9, 7, 4],\n",
       "       [4, 9, 7, 3, 8, 6, 5, 1, 2],\n",
       "       [3, 8, 5, 4, 6, 1, 7, 2, 9],\n",
       "       [9, 6, 1, 2, 7, 5, 4, 8, 3],\n",
       "       [2, 7, 4, 8, 9, 3, 1, 6, 5]])"
      ]
     },
     "execution_count": 3,
     "metadata": {},
     "output_type": "execute_result"
    }
   ],
   "source": [
    "#you can also just turn the matrix into a sparse one in index format, that might be faster\n",
    "def sudoku_array_to_clues(clue_array):\n",
    "    clues_inds_rows, clues_inds_cols = np.where(clue_array>0)\n",
    "    clues_vals = clue_array[clues_inds_rows, clues_inds_cols]\n",
    "    return clues_inds_rows, clues_inds_cols, clues_vals\n",
    "\n",
    "@njit\n",
    "def sudoku_array_to_clues_njit(clue_array):\n",
    "    clues_inds_rows, clues_inds_cols = np.where(clue_array>0)\n",
    "    clues_vals = np.empty_like(clues_inds_rows) \n",
    "    for i, (row_ind, col_ind) in enumerate(zip(clues_inds_rows, clues_inds_cols)):\n",
    "        clues_vals[i] = clue_array[row_ind, col_ind]\n",
    "    return clues_inds_rows, clues_inds_cols, clues_vals\n",
    "\n",
    "def array_to_vector(sudoku_array):\n",
    "    #turn a sudoku values array into a binary vector\n",
    "    flat_values = sudoku_array.flatten()\n",
    "    binary_values = np.zeros((flat_values.shape[0], 9), dtype = int)\n",
    "    indices = np.arange(flat_values.shape[0], dtype = int)\n",
    "    binary_values[indices, flat_values-1] = 1\n",
    "    return binary_values.flatten()\n",
    "\n",
    "def vector_to_array(binary_solution):\n",
    "    #turn a binary vector into a soduku values array\n",
    "    binary_values = binary_solution.reshape((81,9)) #magig numbers are sudoky dims and number of values possible\n",
    "    _, flat_values = np.where(binary_values)\n",
    "    sudoku_array = (flat_values+1).reshape(9,9)\n",
    "    return sudoku_array\n",
    "\n",
    "bin_sample_solution = array_to_vector(sample_solution)\n",
    "vector_to_array(bin_sample_solution)\n",
    "    "
   ]
  },
  {
   "cell_type": "code",
   "execution_count": 4,
   "id": "e6c591f9-8fff-4687-99c6-8b62c492b7e4",
   "metadata": {
    "execution": {
     "iopub.execute_input": "2024-06-13T17:29:42.283575Z",
     "iopub.status.busy": "2024-06-13T17:29:42.283307Z",
     "iopub.status.idle": "2024-06-13T17:29:42.305099Z",
     "shell.execute_reply": "2024-06-13T17:29:42.303568Z",
     "shell.execute_reply.started": "2024-06-13T17:29:42.283554Z"
    }
   },
   "outputs": [],
   "source": [
    "#these are operatiors that should apply to a 729 long solution vector x\n",
    "#x \n",
    "NCOLS = 9\n",
    "NROWS = 9\n",
    "NVALS = 9\n",
    "\n",
    "def generate_one_value_constr_sparse(format = \"csr\", dtype = int):\n",
    "    #[1,1,1,1,1,1,1,1,1, 0,0,0,0,0,....]\n",
    "    #[0,0,0,0,0,0,0,0,0, 1,1,1,1,1,....\n",
    "    #...\n",
    "    return sp.sparse.kron(\n",
    "        sp.sparse.eye(NROWS*NCOLS, dtype = dtype, format=format),\n",
    "        np.ones((1,NVALS), dtype = dtype),\n",
    "        format=format\n",
    "    )\n",
    "\n",
    "def generate_one_value_constr_dense(dtype = int):\n",
    "    #[1,1,1,1,1,1,1,1,1, 0,0,0,0,0,....]\n",
    "    #[0,0,0,0,0,0,0,0,0, 1,1,1,1,1,....\n",
    "    #...\n",
    "    return np.kron(\n",
    "        np.eye(NROWS*NCOLS, dtype = dtype),\n",
    "        np.ones((1,NVALS), dtype = dtype)\n",
    "    )\n",
    "\n",
    "@njit\n",
    "def generate_one_value_constr_njit():\n",
    "    #[1,1,1,1,1,1,1,1,1, 0,0,0,0,0,....]\n",
    "    #[0,0,0,0,0,0,0,0,0, 1,1,1,1,1,....\n",
    "    #...\n",
    "    return np.kron(\n",
    "        np.eye(NROWS*NCOLS, dtype=numba.boolean),\n",
    "        np.ones((1,NVALS), dtype=numba.boolean)\n",
    "    )\n",
    "\n",
    "\n",
    "def generate_row_uniq_constr_sparse(format = \"csr\", dtype = int):\n",
    "    #[1,..,0, 1,..,0, ... 1,... 0,  0,1,..,0, 0, \n",
    "    return sp.sparse.kron(\n",
    "        sp.sparse.eye(NROWS, dtype = dtype, format=format),\n",
    "        sp.sparse.kron(np.ones((1,NCOLS), dtype = dtype), \n",
    "                       sp.sparse.eye(NVALS, dtype = dtype),\n",
    "                       format=format),\n",
    "        format=format\n",
    "    )\n",
    "\n",
    "def generate_row_uniq_constr_dense(dtype = int):\n",
    "    #[1,..,0, 1,..,0, ... 1,... 0,  0,1,..,0, 0, \n",
    "    return np.kron(\n",
    "        np.eye(NROWS, dtype = dtype),\n",
    "        np.kron(np.ones((1,NCOLS), dtype = dtype), \n",
    "                       np.eye(NVALS, dtype =dtype))\n",
    "    )\n",
    "\n",
    "@njit\n",
    "def generate_row_uniq_constr_njit():\n",
    "    #[1,..,0, 1,..,0, ... 1,... 0,  0,1,..,0, 0, \n",
    "    return np.kron(\n",
    "        np.eye(NROWS, dtype = numba.boolean),\n",
    "        np.kron(np.ones((1,NCOLS), dtype = numba.boolean), \n",
    "                       np.eye(NVALS, dtype = numba.boolean))\n",
    "    )\n",
    "\n",
    "\n",
    "def generate_col_uniq_constr_sparse(format = \"csr\", dtype = int):\n",
    "    return sp.sparse.kron(\n",
    "        np.ones((1,NROWS), dtype = dtype),\n",
    "        sp.sparse.eye(NCOLS*NVALS, dtype = dtype, format=format),\n",
    "        format=format\n",
    "    )\n",
    "\n",
    "def generate_col_uniq_constr_dense(dtype = int):\n",
    "    return np.kron(\n",
    "        np.ones((1,NROWS), dtype = dtype),\n",
    "        np.eye(NCOLS*NVALS, dtype = dtype)\n",
    "    )\n",
    "\n",
    "@njit\n",
    "def generate_col_uniq_constr_njit():\n",
    "    return np.kron(\n",
    "        np.ones((1,NROWS), dtype = numba.boolean),\n",
    "        np.eye(NCOLS*NVALS, dtype = numba.boolean)\n",
    "    )\n",
    "    \n",
    "\n",
    "def generate_block_uniq_constr_sparse(format = \"csr\", dtype = int):\n",
    "    return sp.sparse.kron(\n",
    "        sp.sparse.eye(3, dtype = dtype, format=format),\n",
    "        sp.sparse.kron(\n",
    "            np.ones((1,3), dtype = dtype), \n",
    "            sp.sparse.kron(\n",
    "                sp.sparse.eye(3, dtype = dtype, format=format),\n",
    "                sp.sparse.kron( \n",
    "                    np.ones((1,3), dtype = dtype),\n",
    "                    sp.sparse.eye(9, dtype = dtype, format=format)\n",
    "                ),\n",
    "                format=format\n",
    "            ),\n",
    "            format=format   \n",
    "        ),\n",
    "        format=format\n",
    "    )\n",
    "\n",
    "def generate_block_uniq_constr_dense(dtype = int):\n",
    "    return np.kron(\n",
    "        np.eye(3, dtype = dtype),\n",
    "        np.kron(\n",
    "            np.ones((1,3), dtype = dtype), \n",
    "            np.kron(\n",
    "                np.eye(3, dtype = dtype),\n",
    "                np.kron( \n",
    "                    np.ones((1,3), dtype = dtype),\n",
    "                    np.eye(9, dtype = dtype)\n",
    "                ),\n",
    "            ),\n",
    "        ),\n",
    "    )\n",
    "\n",
    "@njit\n",
    "def generate_block_uniq_constr_njit():\n",
    "    return np.kron(\n",
    "        np.eye(3, dtype = numba.boolean),\n",
    "        np.kron(\n",
    "            np.ones((1,3), dtype = numba.boolean), \n",
    "            np.kron(\n",
    "                np.eye(3, dtype = numba.boolean),\n",
    "                np.kron( \n",
    "                    np.ones((1,3), dtype = numba.boolean),\n",
    "                    np.eye(9, dtype = numba.boolean)\n",
    "                ),\n",
    "            ),\n",
    "        ),\n",
    "    )\n",
    "\n",
    "def generate_clues_contr_sparse(clues_inds_rows, clues_inds_cols, clues_vals,\n",
    "                         format = \"csr\", dtype = int):\n",
    "    #x[i,j,m] = 1\n",
    "    op_shape = (clues_vals.shape[0], NROWS*NCOLS*NVALS)\n",
    "\n",
    "    data = np.ones((clues_vals.shape[0]), dtype=dtype)\n",
    "    row_inds = np.arange(clues_vals.shape[0])\n",
    "    col_inds = NVALS*NCOLS*clues_inds_rows + NVALS*clues_inds_cols + clues_vals-1\n",
    "    op_sparse = sp.sparse.csc_matrix( (data, (row_inds, col_inds)), shape = op_shape)\n",
    "    return op_sparse\n",
    "\n",
    "def generate_clues_contr_dense(clues_inds_rows, clues_inds_cols, clues_vals, dtype = int):\n",
    "    #x[i,j,m] = 1\n",
    "    op_shape = (clues_vals.shape[0], NROWS*NCOLS*NVALS)\n",
    "    op_dense = np.zeros(op_shape, dtype = dtype)\n",
    "\n",
    "    row_inds = np.arange(clues_vals.shape[0])\n",
    "    col_inds = NVALS*NCOLS*clues_inds_rows + NVALS*clues_inds_cols + clues_vals-1\n",
    "    op_dense[row_inds, col_inds] = 1\n",
    "    return op_dense\n",
    "\n",
    "@njit\n",
    "def generate_clues_contr_njit(clues_inds_rows, clues_inds_cols, clues_vals):\n",
    "    #x[i,j,m] = 1\n",
    "    op_shape = (clues_vals.shape[0], NROWS*NCOLS*NVALS)\n",
    "    op_dense = np.zeros(op_shape, dtype = numba.boolean)\n",
    "    \n",
    "    col_inds = NVALS*NCOLS*clues_inds_rows + NVALS*clues_inds_cols + clues_vals-1\n",
    "    for i, col_ind in enumerate(col_inds):\n",
    "        op_dense[i, col_ind] = True\n",
    "    return op_dense\n",
    "\n"
   ]
  },
  {
   "cell_type": "code",
   "execution_count": 5,
   "id": "df03f683-a7bf-4831-96a4-8a3072d33cf3",
   "metadata": {
    "execution": {
     "iopub.execute_input": "2024-06-13T17:29:42.306202Z",
     "iopub.status.busy": "2024-06-13T17:29:42.305957Z",
     "iopub.status.idle": "2024-06-13T17:29:42.317952Z",
     "shell.execute_reply": "2024-06-13T17:29:42.316909Z",
     "shell.execute_reply.started": "2024-06-13T17:29:42.306180Z"
    }
   },
   "outputs": [],
   "source": [
    "def setup_ILP_sparse(clue_array, format = \"csr\", dtype = int):\n",
    "    clues_inds_rows, clues_inds_cols, clues_vals = sudoku_array_to_clues(clue_array)\n",
    "    \n",
    "    A_one_val = generate_one_value_constr_sparse(format = format, dtype = dtype)\n",
    "    A_row = generate_row_uniq_constr_sparse(format = format, dtype = dtype)\n",
    "    A_col = generate_col_uniq_constr_sparse(format = format, dtype = dtype)\n",
    "    A_block = generate_block_uniq_constr_sparse(format = format, dtype = dtype)\n",
    "    A_clues = generate_clues_contr_sparse(clues_inds_rows, clues_inds_cols, clues_vals, format = format, dtype = dtype)\n",
    "\n",
    "    A_full = sp.sparse.vstack((A_one_val, A_row, A_col, A_block, A_clues), format = format)\n",
    "    c = np.linspace(0,1,A_full.shape[1]) #np.zeros(solution_size, dtype = np.float64)\n",
    "    return c, A_full\n",
    "\n",
    "def setup_ILP_dense(clue_array, dtype = int):\n",
    "    clues_inds_rows, clues_inds_cols, clues_vals = sudoku_array_to_clues(clue_array)\n",
    "    \n",
    "    A_one_val = generate_one_value_constr_dense(dtype = dtype)\n",
    "    A_row = generate_row_uniq_constr_dense(dtype = dtype)\n",
    "    A_col = generate_col_uniq_constr_dense(dtype = dtype)\n",
    "    A_block = generate_block_uniq_constr_dense(dtype = dtype)\n",
    "    A_clues = generate_clues_contr_dense(clues_inds_rows, clues_inds_cols, clues_vals, dtype = dtype)\n",
    "\n",
    "    A_full = np.vstack((A_one_val, A_row, A_col, A_block, A_clues))\n",
    "    c = np.linspace(0,1,A_full.shape[1]) #np.zeros(solution_size, dtype = np.float64)\n",
    "    return c, A_full\n",
    "\n",
    "def setup_ILP_sparse_end(clue_array, format = \"csr\", dtype = int):\n",
    "    clues_inds_rows, clues_inds_cols, clues_vals = sudoku_array_to_clues(clue_array)\n",
    "    \n",
    "    A_one_val = generate_one_value_constr_dense(dtype = dtype)\n",
    "    A_row = generate_row_uniq_constr_dense(dtype = dtype)\n",
    "    A_col = generate_col_uniq_constr_dense(dtype = dtype)\n",
    "    A_block = generate_block_uniq_constr_dense(dtype = dtype)\n",
    "    A_clues = generate_clues_contr_dense(clues_inds_rows, clues_inds_cols, clues_vals, dtype = dtype)\n",
    "\n",
    "    A_full = sp.sparse.vstack((A_one_val, A_row, A_col, A_block, A_clues), format = format)\n",
    "    c = np.linspace(0,1,A_full.shape[1]) #np.zeros(solution_size, dtype = np.float64)\n",
    "    return c, A_full\n",
    "\n",
    "@njit\n",
    "def setup_ILP_njit(clue_array):\n",
    "    clues_inds_rows, clues_inds_cols, clues_vals = sudoku_array_to_clues_njit(clue_array)\n",
    "    \n",
    "    A_one_val = generate_one_value_constr_njit()\n",
    "    A_row = generate_row_uniq_constr_njit()\n",
    "    A_col = generate_col_uniq_constr_njit()\n",
    "    A_block = generate_block_uniq_constr_njit()\n",
    "    A_clues = generate_clues_contr_njit(clues_inds_rows, clues_inds_cols, clues_vals)\n",
    "\n",
    "    A_full = np.vstack((A_one_val, A_row, A_col, A_block, A_clues))\n",
    "    c = np.linspace(0,1,A_full.shape[1]) #np.zeros(solution_size, dtype = np.float64)\n",
    "    return c, A_full\n",
    "    "
   ]
  },
  {
   "cell_type": "code",
   "execution_count": 9,
   "id": "8b92fefb-d9eb-44ac-81a5-b1a64e86bf12",
   "metadata": {
    "execution": {
     "iopub.execute_input": "2024-06-13T17:29:51.753436Z",
     "iopub.status.busy": "2024-06-13T17:29:51.752916Z",
     "iopub.status.idle": "2024-06-13T17:29:51.761745Z",
     "shell.execute_reply": "2024-06-13T17:29:51.761159Z",
     "shell.execute_reply.started": "2024-06-13T17:29:51.753418Z"
    }
   },
   "outputs": [
    {
     "name": "stdout",
     "output_type": "stream",
     "text": [
      "{'njitted': [3.2180242291651666, 0.0004768478684127331, 0.0005510679911822081], 'normal': [0.002083943225443363, 0.002772670006379485, 0.004440728109329939]}\n"
     ]
    }
   ],
   "source": [
    "with Timer(\"njitted\"):\n",
    "    setup_ILP_njit(empty_sudoku)\n",
    "\n",
    "with Timer(\"normal\"):\n",
    "    setup_ILP_dense(empty_sudoku)\n",
    "\n",
    "print(Timer.timers)"
   ]
  },
  {
   "cell_type": "code",
   "execution_count": 10,
   "id": "ee44d066-a793-486b-8f7c-d066406ea608",
   "metadata": {
    "execution": {
     "iopub.execute_input": "2024-06-13T17:29:56.791626Z",
     "iopub.status.busy": "2024-06-13T17:29:56.790437Z",
     "iopub.status.idle": "2024-06-13T17:29:56.796928Z",
     "shell.execute_reply": "2024-06-13T17:29:56.796050Z",
     "shell.execute_reply.started": "2024-06-13T17:29:56.791594Z"
    }
   },
   "outputs": [],
   "source": [
    "\n",
    "\n",
    "def solve_sudoku_scipy(c, A_full):\n",
    "    solution_size = A_full.shape[1]\n",
    "    integrality = np.ones(solution_size, dtype = int)\n",
    "    bounds = sp.optimize.Bounds(lb=0, ub=1) #somthing with 0 and \n",
    "    constraints = sp.optimize.LinearConstraint(A_full, lb=1, ub=1) #somthing with A\n",
    "    res = sp.optimize.milp(c, integrality = integrality, bounds = bounds, constraints = constraints)\n",
    "    return res\n",
    "\n",
    "def solve_sudoku_gurobi(c, A_full):\n",
    "    # Create a new model\n",
    "    m = gp.Model(\"matrix1\") \n",
    "    # Create variables\n",
    "    solution_size = A_full.shape[1]\n",
    "    x = m.addMVar(shape=solution_size, vtype=GRB.BINARY, name=\"x\")\n",
    "    # Build rhs vector\n",
    "    rhs = np.ones(A_full.shape[0], dtype = int)\n",
    "    # Add constraints\n",
    "    m.addConstr(A_full @ x == rhs, name=\"constraints\")\n",
    "    # Set objective\n",
    "    m.setObjective(c @ x, GRB.MINIMIZE)\n",
    "    # Optimize model\n",
    "    m.optimize()\n",
    "    return x.X\n",
    "\n",
    "\n",
    "\n"
   ]
  },
  {
   "cell_type": "code",
   "execution_count": null,
   "id": "beb12c52-4dea-47c8-bac1-6a68157bcbe3",
   "metadata": {
    "execution": {
     "iopub.status.busy": "2024-06-13T17:29:45.694785Z",
     "iopub.status.idle": "2024-06-13T17:29:45.694950Z",
     "shell.execute_reply": "2024-06-13T17:29:45.694875Z",
     "shell.execute_reply.started": "2024-06-13T17:29:45.694867Z"
    }
   },
   "outputs": [],
   "source": [
    "\n",
    "# %load_ext line_profiler\n",
    "    \n",
    "# %lprun -f setup_ILP_dense c, A_full_dense = setup_ILP_dense(empty_sudoku, dtype = bool)\n",
    "\n",
    "# %lprun -f solve_sudoku_scipy res_scipy = solve_sudoku_scipy(c, A_full_dense)\n",
    "# %lprun -f setup_ILP_sparse c, A_full_dense = setup_ILP_sparse(empty_sudoku, dtype = bool)\n",
    "\n"
   ]
  },
  {
   "cell_type": "code",
   "execution_count": 17,
   "id": "35c1f678-ad9e-4a29-9a8f-05a8d095de79",
   "metadata": {
    "execution": {
     "iopub.execute_input": "2024-06-13T17:30:23.756054Z",
     "iopub.status.busy": "2024-06-13T17:30:23.755364Z",
     "iopub.status.idle": "2024-06-13T17:30:23.772750Z",
     "shell.execute_reply": "2024-06-13T17:30:23.771802Z",
     "shell.execute_reply.started": "2024-06-13T17:30:23.755997Z"
    }
   },
   "outputs": [
    {
     "name": "stdout",
     "output_type": "stream",
     "text": [
      "{'njitted': [3.2180242291651666, 0.0004768478684127331, 0.0005510679911822081], 'normal': [0.002083943225443363, 0.002772670006379485, 0.004440728109329939], 'Solve sudoku': [0.08614379400387406, 0.011952095897868276, 0.011597727192565799, 0.011203601956367493, 0.011505441041663289, 0.011789030162617564, 0.010997611097991467]}\n"
     ]
    }
   ],
   "source": [
    "#fastest option\n",
    "with Timer(\"Solve sudoku\"):\n",
    "    c, A_full_njit = setup_ILP_njit(empty_sudoku)\n",
    "    res_scipy = solve_sudoku_scipy(c, sp.sparse.csr_matrix(A_full_njit))\n",
    "\n",
    "print(Timer.timers)\n",
    "    \n",
    "    "
   ]
  },
  {
   "cell_type": "code",
   "execution_count": null,
   "id": "d53192c1-70eb-472e-9df7-cd1ce35a5d01",
   "metadata": {
    "execution": {
     "iopub.status.busy": "2024-06-13T17:29:45.696761Z",
     "iopub.status.idle": "2024-06-13T17:29:45.696948Z",
     "shell.execute_reply": "2024-06-13T17:29:45.696864Z",
     "shell.execute_reply.started": "2024-06-13T17:29:45.696856Z"
    }
   },
   "outputs": [],
   "source": [
    "repeats = 4\n",
    "for i in range(repeats):\n",
    "    with Timer(\"Setup sparse_dense\"):\n",
    "        c, A_full_sparse = setup_ILP_sparse_end(empty_sudoku, format = \"csc\", dtype = bool)\n",
    "    with Timer(\"Scipy solver sparse_dense\"):\n",
    "        res_scipy = solve_sudoku_scipy(c, A_full_sparse)\n",
    "    with Timer(\"Gurobi solver sparse_dense\"):\n",
    "        res_gurobi = solve_sudoku_gurobi(c, A_full_sparse)\n",
    "    del c\n",
    "    del A_full_sparse\n",
    "\n",
    "for key, value in Timer.timers.items():\n",
    "    print(key, \"\\t\\t\", value)"
   ]
  },
  {
   "cell_type": "code",
   "execution_count": null,
   "id": "b50b56df-a5d8-40a0-9ca6-c680bbb7356f",
   "metadata": {},
   "outputs": [],
   "source": []
  },
  {
   "cell_type": "code",
   "execution_count": null,
   "id": "de349147-2d9b-4754-b31a-e272cd27310d",
   "metadata": {
    "execution": {
     "iopub.status.busy": "2024-06-13T17:29:45.697844Z",
     "iopub.status.idle": "2024-06-13T17:29:45.698021Z",
     "shell.execute_reply": "2024-06-13T17:29:45.697941Z",
     "shell.execute_reply.started": "2024-06-13T17:29:45.697932Z"
    }
   },
   "outputs": [],
   "source": [
    "raise Error"
   ]
  },
  {
   "cell_type": "code",
   "execution_count": null,
   "id": "c9f36496-88a4-474d-9e6f-e7f6eb3f6aaa",
   "metadata": {
    "execution": {
     "iopub.status.busy": "2024-06-13T17:29:45.698523Z",
     "iopub.status.idle": "2024-06-13T17:29:45.698686Z",
     "shell.execute_reply": "2024-06-13T17:29:45.698611Z",
     "shell.execute_reply.started": "2024-06-13T17:29:45.698602Z"
    }
   },
   "outputs": [],
   "source": [
    "repeats = 4\n",
    "for i in range(repeats):\n",
    "    with Timer(\"Setup sparse\"):\n",
    "        c, A_full_sparse = setup_ILP_sparse(empty_sudoku, format = \"csc\", dtype = bool)\n",
    "    with Timer(\"Scipy solver sparse\"):\n",
    "        res_scipy = solve_sudoku_scipy(c, A_full_sparse)\n",
    "    with Timer(\"Gurobi solver sparse\"):\n",
    "        res_gurobi = solve_sudoku_gurobi(c, A_full_sparse)\n",
    "    del c\n",
    "    del A_full_sparse\n",
    "    \n",
    "    with Timer(\"Setup dense\"):\n",
    "        c, A_full_dense = setup_ILP_dense(empty_sudoku, dtype = bool)\n",
    "    with Timer(\"Scipy solver dense\"):\n",
    "        res_scipy = solve_sudoku_scipy(c, A_full_dense)\n",
    "    with Timer(\"Gurobi solver dense\"):\n",
    "        res_gurobi = solve_sudoku_gurobi(c, A_full_dense)\n",
    "    del c\n",
    "    del A_full_dense\n",
    "    \n",
    "    \n",
    "    \n",
    "    \n",
    "print(vector_to_array(res_scipy.x))\n",
    "print(vector_to_array(res_gurobi))\n",
    "\n",
    "for key, value in Timer.timers.items():\n",
    "    print(key, \"\\t\\t\", value)\n",
    "\n"
   ]
  },
  {
   "cell_type": "code",
   "execution_count": null,
   "id": "23ce8e91-935b-4169-b4f9-42920f159451",
   "metadata": {
    "execution": {
     "iopub.status.busy": "2024-06-13T17:29:45.699262Z",
     "iopub.status.idle": "2024-06-13T17:29:45.699420Z",
     "shell.execute_reply": "2024-06-13T17:29:45.699348Z",
     "shell.execute_reply.started": "2024-06-13T17:29:45.699340Z"
    }
   },
   "outputs": [],
   "source": [
    "A_full"
   ]
  },
  {
   "cell_type": "code",
   "execution_count": null,
   "id": "d24c004f-5421-499e-87f5-d20c742b3f68",
   "metadata": {
    "execution": {
     "iopub.status.busy": "2024-06-13T17:29:45.699768Z",
     "iopub.status.idle": "2024-06-13T17:29:45.699922Z",
     "shell.execute_reply": "2024-06-13T17:29:45.699851Z",
     "shell.execute_reply.started": "2024-06-13T17:29:45.699843Z"
    }
   },
   "outputs": [],
   "source": [
    "raise Error"
   ]
  },
  {
   "cell_type": "code",
   "execution_count": null,
   "id": "16ada97a-c4cc-456a-9a4c-b7b50292492c",
   "metadata": {
    "execution": {
     "iopub.status.busy": "2024-06-13T17:29:45.700483Z",
     "iopub.status.idle": "2024-06-13T17:29:45.700655Z",
     "shell.execute_reply": "2024-06-13T17:29:45.700576Z",
     "shell.execute_reply.started": "2024-06-13T17:29:45.700567Z"
    }
   },
   "outputs": [],
   "source": [
    "with Timer(\"Setup 1\"):\n",
    "    c, A_full = setup_ILP(empty_sample_solution)\n",
    "with Timer(\"Scipy solver 1\"):\n",
    "    res = solve_sudoku_scipy(c, A_full)\n",
    "\n",
    "print(Timer.timers)\n",
    "\n",
    "vector_to_array(res.x)\n"
   ]
  },
  {
   "cell_type": "code",
   "execution_count": null,
   "id": "1efde7e3-f02c-410e-9d23-a26d4a1c29e6",
   "metadata": {
    "execution": {
     "iopub.status.busy": "2024-06-13T17:29:45.701023Z",
     "iopub.status.idle": "2024-06-13T17:29:45.701214Z",
     "shell.execute_reply": "2024-06-13T17:29:45.701134Z",
     "shell.execute_reply.started": "2024-06-13T17:29:45.701124Z"
    }
   },
   "outputs": [],
   "source": [
    "with Timer(\"Setup 2\"):\n",
    "    c, A_full = setup_ILP(empty_sudoku)\n",
    "with Timer(\"Scipy solver 2\"):\n",
    "    res = solve_sudoku_scipy(c, A_full)\n",
    "\n",
    "print(Timer.timers)\n",
    "\n",
    "vector_to_array(res.x)"
   ]
  },
  {
   "cell_type": "code",
   "execution_count": null,
   "id": "7e7639fa-6f45-4f52-8bf3-8f917269b676",
   "metadata": {
    "execution": {
     "iopub.status.busy": "2024-06-13T17:29:45.701874Z",
     "iopub.status.idle": "2024-06-13T17:29:45.702057Z",
     "shell.execute_reply": "2024-06-13T17:29:45.701973Z",
     "shell.execute_reply.started": "2024-06-13T17:29:45.701964Z"
    }
   },
   "outputs": [],
   "source": [
    "with Timer(\"Setup 3\"):\n",
    "    c, A_full = setup_ILP(very_empty_clues)\n",
    "with Timer(\"Scipy solver 3\"):\n",
    "    res = solve_sudoku_scipy(c, A_full)\n",
    "\n",
    "print(Timer.timers)\n",
    "\n",
    "vector_to_array(res.x)"
   ]
  },
  {
   "cell_type": "code",
   "execution_count": null,
   "id": "8c0c3284-b4f8-4c3e-9ebd-6b06557adcc6",
   "metadata": {},
   "outputs": [],
   "source": []
  },
  {
   "cell_type": "code",
   "execution_count": null,
   "id": "56e3b09e-8028-49fd-b5c3-b7703b95433b",
   "metadata": {},
   "outputs": [],
   "source": []
  },
  {
   "cell_type": "code",
   "execution_count": null,
   "id": "1f410f76-fb3d-4451-9bae-cccff1c7ae0a",
   "metadata": {},
   "outputs": [],
   "source": [
    "\n",
    "\n",
    "\n",
    "\n",
    "\n",
    "\n"
   ]
  },
  {
   "cell_type": "code",
   "execution_count": null,
   "id": "cd158926-0d23-425f-a9c2-3bdcc9290ff5",
   "metadata": {},
   "outputs": [],
   "source": [
    "\n"
   ]
  },
  {
   "cell_type": "code",
   "execution_count": null,
   "id": "0e56220d-3a1d-479a-8f99-73c071af839e",
   "metadata": {},
   "outputs": [],
   "source": []
  },
  {
   "cell_type": "code",
   "execution_count": null,
   "id": "0160c5b2-5c94-4856-8d6f-a120fa607630",
   "metadata": {},
   "outputs": [],
   "source": []
  }
 ],
 "metadata": {
  "kernelspec": {
   "display_name": "Python 3 (ipykernel)",
   "language": "python",
   "name": "python3"
  },
  "language_info": {
   "codemirror_mode": {
    "name": "ipython",
    "version": 3
   },
   "file_extension": ".py",
   "mimetype": "text/x-python",
   "name": "python",
   "nbconvert_exporter": "python",
   "pygments_lexer": "ipython3",
   "version": "3.12.3"
  }
 },
 "nbformat": 4,
 "nbformat_minor": 5
}
