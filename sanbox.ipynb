{
 "cells": [
  {
   "cell_type": "markdown",
   "id": "fb5689d8-79aa-416b-91f3-95f9f58f70e4",
   "metadata": {
    "execution": {
     "iopub.execute_input": "2024-06-13T09:45:49.754208Z",
     "iopub.status.busy": "2024-06-13T09:45:49.753643Z",
     "iopub.status.idle": "2024-06-13T09:45:49.790123Z",
     "shell.execute_reply": "2024-06-13T09:45:49.788837Z",
     "shell.execute_reply.started": "2024-06-13T09:45:49.754178Z"
    }
   },
   "source": [
    "[source](https://www.mathworks.com/help/optim/ug/sudoku-puzzles-problem-based.html)"
   ]
  },
  {
   "cell_type": "code",
   "execution_count": null,
   "id": "4fb08d85-506f-4b7e-a383-634550a10863",
   "metadata": {},
   "outputs": [],
   "source": [
    "import numpy as np\n",
    "import scipy as sp\n"
   ]
  },
  {
   "cell_type": "code",
   "execution_count": 135,
   "id": "617045e7-ad97-48c1-ab3e-78ecc3eb27fa",
   "metadata": {
    "execution": {
     "iopub.execute_input": "2024-06-13T13:58:05.937048Z",
     "iopub.status.busy": "2024-06-13T13:58:05.936306Z",
     "iopub.status.idle": "2024-06-13T13:58:05.949054Z",
     "shell.execute_reply": "2024-06-13T13:58:05.947690Z",
     "shell.execute_reply.started": "2024-06-13T13:58:05.936993Z"
    }
   },
   "outputs": [],
   "source": [
    "empty_sudoku = np.array(\n",
    "   [[0, 0, 1, 0, 0, 0, 0, 0, 2],\n",
    "    [0, 0, 0, 3, 0, 4, 5, 0, 0],\n",
    "    [6, 0, 0, 7, 0, 0, 1, 0, 0],\n",
    "    [0, 4, 0, 5, 0, 0, 0, 0, 0],\n",
    "    [0, 2, 0, 0, 0, 0, 0, 8, 0],\n",
    "    [0, 0, 0, 0, 0, 6, 0, 9, 0],\n",
    "    [0, 0, 5, 0, 0, 9, 0, 0, 4],\n",
    "    [0, 0, 8, 2, 0, 1, 0, 0, 0],\n",
    "    [3, 0, 0, 0, 0, 0, 7, 0, 0]]\n",
    ")\n",
    "\n",
    "sample_solution = np.array(\n",
    "    [[7, 1, 3, 5, 2, 4, 6, 9, 8],\n",
    "     [5, 2, 9, 6, 1, 8, 3, 4, 7],\n",
    "     [6, 4, 8, 7, 3, 9,\t2, 5, 1],\n",
    "     [1, 5, 2, 9, 4, 7, 8, 3, 6],\n",
    "     [8, 3, 6, 1, 5, 2, 9, 7, 4],\n",
    "     [4, 9, 7, 3, 8, 6, 5, 1, 2],\n",
    "     [3, 8, 5, 4, 6, 1, 7, 2, 9],\n",
    "     [9, 6,\t1, 2, 7, 5, 4, 8, 3],\n",
    "     [2, 7, 4, 8, 9, 3, 1, 6, 5]]\n",
    ")\n",
    "\n",
    "empty_sample_solution = np.array(\n",
    "    [[0, 0, 0, 5, 2, 4, 6, 9, 8],\n",
    "     [5, 2, 0, 6, 1, 8, 3, 4, 7],\n",
    "     [6, 4, 8, 7, 3, 9,\t2, 5, 1],\n",
    "     [1, 5, 2, 9, 4, 7, 8, 3, 6],\n",
    "     [8, 3, 6, 1, 5, 2, 9, 7, 4],\n",
    "     [4, 9, 7, 3, 8, 6, 5, 1, 2],\n",
    "     [3, 8, 5, 4, 6, 1, 7, 2, 9],\n",
    "     [9, 6,\t1, 2, 7, 5, 4, 8, 3],\n",
    "     [2, 7, 4, 8, 9, 3, 1, 6, 5]]\n",
    ")\n",
    "\n",
    "very_empty_clues = np.zeros((9,9), dtype = int)\n",
    "very_empty_clues[0,1] = 1\n",
    "\n"
   ]
  },
  {
   "cell_type": "code",
   "execution_count": 136,
   "id": "54b6d176-a37a-4f62-ac66-b3ea192070ba",
   "metadata": {
    "execution": {
     "iopub.execute_input": "2024-06-13T13:58:06.754343Z",
     "iopub.status.busy": "2024-06-13T13:58:06.753773Z",
     "iopub.status.idle": "2024-06-13T13:58:06.766578Z",
     "shell.execute_reply": "2024-06-13T13:58:06.765703Z",
     "shell.execute_reply.started": "2024-06-13T13:58:06.754316Z"
    }
   },
   "outputs": [
    {
     "data": {
      "text/plain": [
       "array([[7, 1, 3, 5, 2, 4, 6, 9, 8],\n",
       "       [5, 2, 9, 6, 1, 8, 3, 4, 7],\n",
       "       [6, 4, 8, 7, 3, 9, 2, 5, 1],\n",
       "       [1, 5, 2, 9, 4, 7, 8, 3, 6],\n",
       "       [8, 3, 6, 1, 5, 2, 9, 7, 4],\n",
       "       [4, 9, 7, 3, 8, 6, 5, 1, 2],\n",
       "       [3, 8, 5, 4, 6, 1, 7, 2, 9],\n",
       "       [9, 6, 1, 2, 7, 5, 4, 8, 3],\n",
       "       [2, 7, 4, 8, 9, 3, 1, 6, 4]])"
      ]
     },
     "execution_count": 136,
     "metadata": {},
     "output_type": "execute_result"
    }
   ],
   "source": [
    "#you can also just turn the matrix into a sparse one in index format, that might be faster\n",
    "def sudoku_array_to_clues(clue_array):\n",
    "    clues_inds_rows, clues_inds_cols = np.where(clue_array>0)\n",
    "    clues_vals = clue_array[clues_inds_rows, clues_inds_cols]\n",
    "    return clues_inds_rows, clues_inds_cols, clues_vals\n",
    "\n",
    "sudocu_array_to_clues(empty_sudoku)\n",
    "\n",
    "def array_to_vector(sudoku_array):\n",
    "    #turn a sudoku values array into a binary vector\n",
    "    flat_values = sudoku_array.flatten()\n",
    "    binary_values = np.zeros((flat_values.shape[0], 9), dtype = int)\n",
    "    indices = np.arange(flat_values.shape[0], dtype = int)\n",
    "    binary_values[indices, flat_values-1] = 1\n",
    "    return binary_values.flatten()\n",
    "\n",
    "def vector_to_array(binary_solution):\n",
    "    #turn a binary vector into a soduku values array\n",
    "    binary_values = binary_solution.reshape((81,9)) #magig numbers are sudoky dims and number of values possible\n",
    "    _, flat_values = np.where(binary_values)\n",
    "    sudoku_array = (flat_values+1).reshape(9,9)\n",
    "    return sudoku_array\n",
    "\n",
    "bin_sample_solution = array_to_vector(sample_solution)\n",
    "vector_to_array(bin_sample_solution)\n",
    "    "
   ]
  },
  {
   "cell_type": "code",
   "execution_count": 137,
   "id": "e6c591f9-8fff-4687-99c6-8b62c492b7e4",
   "metadata": {
    "execution": {
     "iopub.execute_input": "2024-06-13T13:58:06.769096Z",
     "iopub.status.busy": "2024-06-13T13:58:06.768127Z",
     "iopub.status.idle": "2024-06-13T13:58:06.775871Z",
     "shell.execute_reply": "2024-06-13T13:58:06.775014Z",
     "shell.execute_reply.started": "2024-06-13T13:58:06.769056Z"
    }
   },
   "outputs": [],
   "source": [
    "#these are operatiors that should apply to a 729 long solution vector x\n",
    "#x \n",
    "NCOLS = 9\n",
    "NROWS = 9\n",
    "NVALS = 9\n",
    "\n",
    "def generate_one_value_constr():\n",
    "    #[1,1,1,1,1,1,1,1,1, 0,0,0,0,0,....]\n",
    "    #[0,0,0,0,0,0,0,0,0, 1,1,1,1,1,....\n",
    "    #...\n",
    "    return np.kron(np.eye(NROWS*NCOLS), np.ones((1,NVALS))) #np.kron(np.eye(2), np.kron(np.eye(2), np.ones((1,4))))\n",
    "\n",
    "def generate_row_uniq_constr():\n",
    "    #[1,..,0, 1,..,0, ... 1,... 0,  0,1,..,0, 0, \n",
    "    return np.kron(np.eye(NROWS), np.kron(np.ones((1,NCOLS)), np.eye(NVALS))) #\n",
    "\n",
    "def generate_col_uniq_constr():\n",
    "    return np.kron(np.ones((1,NROWS)), np.eye(NCOLS*NVALS))\n",
    "\n",
    "def generate_block_uniq_constr():\n",
    "    return np.kron(np.eye(3), np.kron(np.ones((1,3)), np.kron(np.eye(3), np.kron( np.ones((1,3)), np.eye(9)))))\n",
    "\n",
    "def generate_clues_contr(clues_inds_rows, clues_inds_cols, clues_vals):\n",
    "    #x[i,j,m] = 1\n",
    "    op = np.zeros((clues_vals.shape[0], NROWS*NCOLS*NVALS))\n",
    "    indices = np.arange(clues_vals.shape[0])\n",
    "    op[indices, NVALS*NCOLS*clues_inds_rows + NVALS*clues_inds_cols + clues_vals-1] = 1\n",
    "    return op\n",
    "\n"
   ]
  },
  {
   "cell_type": "code",
   "execution_count": 151,
   "id": "ee44d066-a793-486b-8f7c-d066406ea608",
   "metadata": {
    "execution": {
     "iopub.execute_input": "2024-06-13T14:17:55.969662Z",
     "iopub.status.busy": "2024-06-13T14:17:55.968935Z",
     "iopub.status.idle": "2024-06-13T14:17:55.993381Z",
     "shell.execute_reply": "2024-06-13T14:17:55.992278Z",
     "shell.execute_reply.started": "2024-06-13T14:17:55.969631Z"
    }
   },
   "outputs": [
    {
     "data": {
      "text/plain": [
       "array([[7, 1, 3, 5, 2, 4, 6, 9, 8],\n",
       "       [5, 2, 9, 6, 1, 8, 3, 4, 7],\n",
       "       [6, 4, 8, 7, 3, 9, 2, 5, 1],\n",
       "       [1, 5, 2, 9, 4, 7, 8, 3, 6],\n",
       "       [8, 3, 6, 1, 5, 2, 9, 7, 4],\n",
       "       [4, 9, 7, 3, 8, 6, 5, 1, 2],\n",
       "       [3, 8, 5, 4, 6, 1, 7, 2, 9],\n",
       "       [9, 6, 1, 2, 7, 5, 4, 8, 3],\n",
       "       [2, 7, 4, 8, 9, 3, 1, 6, 5]])"
      ]
     },
     "execution_count": 151,
     "metadata": {},
     "output_type": "execute_result"
    }
   ],
   "source": [
    "def solve_sudoku_scipy(clue_array):\n",
    "    \n",
    "    clues_inds_rows, clues_inds_cols, clues_vals = sudoku_array_to_clues(clue_array)\n",
    "    \n",
    "    A_one_val = generate_one_value_constr()\n",
    "    A_row = generate_row_uniq_constr()\n",
    "    A_col = generate_col_uniq_constr()\n",
    "    A_block = generate_block_uniq_constr()\n",
    "    A_clues = generate_clues_contr(clues_inds_rows, clues_inds_cols, clues_vals)\n",
    "\n",
    "    A_full = np.vstack([A_one_val, A_row, A_col, A_block, A_clues])\n",
    "\n",
    "    solution_size = 9*9*9\n",
    "    c = np.zeros(solution_size, dtype = np.float64)\n",
    "    integrality = np.ones(solution_size, dtype = int)\n",
    "    bounds = sp.optimize.Bounds(lb=0, ub=1) #somthing with 0 and 1\n",
    "    constraints = sp.optimize.LinearConstraint(A_full, lb=1, ub=1) #somthing with A\n",
    "\n",
    "    return sp.optimize.milp( c,\n",
    "                            integrality = integrality, bounds = bounds, constraints = constraints)\n",
    "\n",
    "res = solve_sudoku_scipy(empty_sample_solution)\n",
    "\n",
    "vector_to_array(res.x)"
   ]
  },
  {
   "cell_type": "code",
   "execution_count": 152,
   "id": "1efde7e3-f02c-410e-9d23-a26d4a1c29e6",
   "metadata": {
    "execution": {
     "iopub.execute_input": "2024-06-13T14:18:30.044911Z",
     "iopub.status.busy": "2024-06-13T14:18:30.044350Z",
     "iopub.status.idle": "2024-06-13T14:18:30.064976Z",
     "shell.execute_reply": "2024-06-13T14:18:30.064046Z",
     "shell.execute_reply.started": "2024-06-13T14:18:30.044885Z"
    }
   },
   "outputs": [
    {
     "data": {
      "text/plain": [
       "array([[7, 3, 1, 8, 6, 5, 9, 4, 2],\n",
       "       [8, 9, 2, 3, 1, 4, 5, 6, 7],\n",
       "       [6, 5, 4, 7, 9, 2, 1, 3, 8],\n",
       "       [9, 4, 6, 5, 8, 3, 2, 7, 1],\n",
       "       [1, 2, 3, 9, 4, 7, 6, 8, 5],\n",
       "       [5, 8, 7, 1, 2, 6, 4, 9, 3],\n",
       "       [2, 7, 5, 6, 3, 9, 8, 1, 4],\n",
       "       [4, 6, 8, 2, 7, 1, 3, 5, 9],\n",
       "       [3, 1, 9, 4, 5, 8, 7, 2, 6]])"
      ]
     },
     "execution_count": 152,
     "metadata": {},
     "output_type": "execute_result"
    }
   ],
   "source": [
    "res = solve_sudoku_scipy(empty_sudoku)\n",
    "\n",
    "vector_to_array(res.x)"
   ]
  },
  {
   "cell_type": "code",
   "execution_count": null,
   "id": "7e7639fa-6f45-4f52-8bf3-8f917269b676",
   "metadata": {},
   "outputs": [],
   "source": []
  },
  {
   "cell_type": "code",
   "execution_count": null,
   "id": "8c0c3284-b4f8-4c3e-9ebd-6b06557adcc6",
   "metadata": {},
   "outputs": [],
   "source": []
  },
  {
   "cell_type": "code",
   "execution_count": null,
   "id": "c1c47ed1-42ce-4b59-90d6-050d219e8b68",
   "metadata": {},
   "outputs": [],
   "source": []
  },
  {
   "cell_type": "code",
   "execution_count": null,
   "id": "56e3b09e-8028-49fd-b5c3-b7703b95433b",
   "metadata": {},
   "outputs": [],
   "source": []
  },
  {
   "cell_type": "code",
   "execution_count": null,
   "id": "1f410f76-fb3d-4451-9bae-cccff1c7ae0a",
   "metadata": {},
   "outputs": [],
   "source": []
  },
  {
   "cell_type": "code",
   "execution_count": null,
   "id": "cd158926-0d23-425f-a9c2-3bdcc9290ff5",
   "metadata": {},
   "outputs": [],
   "source": []
  },
  {
   "cell_type": "code",
   "execution_count": null,
   "id": "0e56220d-3a1d-479a-8f99-73c071af839e",
   "metadata": {},
   "outputs": [],
   "source": []
  },
  {
   "cell_type": "code",
   "execution_count": 139,
   "id": "2124c906-291d-47a2-9121-8b24ca7a06d3",
   "metadata": {
    "execution": {
     "iopub.execute_input": "2024-06-13T13:58:26.755940Z",
     "iopub.status.busy": "2024-06-13T13:58:26.755220Z",
     "iopub.status.idle": "2024-06-13T13:58:26.768619Z",
     "shell.execute_reply": "2024-06-13T13:58:26.767656Z",
     "shell.execute_reply.started": "2024-06-13T13:58:26.755893Z"
    }
   },
   "outputs": [
    {
     "data": {
      "text/plain": [
       "array([1., 1., 1., 1., 1., 1., 1., 1., 1., 1., 1., 1., 1., 1., 1., 1., 1.,\n",
       "       1., 1., 1., 1., 1., 1., 1., 1., 1., 1., 1., 1., 1., 1., 1., 1., 1.,\n",
       "       1., 1., 1., 1., 1., 1., 1., 1., 1., 1., 1., 1., 1., 1., 1., 1., 1.,\n",
       "       1., 1., 1., 1., 1., 1., 1., 1., 1., 1., 1., 1., 1., 1., 1., 1., 1.,\n",
       "       1., 1., 1., 1., 1., 1., 1., 1., 0.])"
      ]
     },
     "execution_count": 139,
     "metadata": {},
     "output_type": "execute_result"
    }
   ],
   "source": [
    "wrong_bin_sample_solution = bin_sample_solution.copy()\n",
    "wrong_bin_sample_solution[10] = 1\n",
    "\n",
    "generate_one_value_constr()@wrong_bin_sample_solution\n",
    "generate_row_uniq_constr()@wrong_bin_sample_solution\n",
    "generate_col_uniq_constr()@wrong_bin_sample_solution\n",
    "generate_block_uniq_constr()@wrong_bin_sample_solution\n",
    "\n",
    "generate_clues_contr(*sudoku_array_to_clues(very_empty_clues))@bin_sample_solution\n",
    "generate_clues_contr(*sudoku_array_to_clues(empty_sample_solution))@bin_sample_solution\n",
    "\n"
   ]
  },
  {
   "cell_type": "code",
   "execution_count": null,
   "id": "93e94698-f8a2-4e6f-b076-1154bbf1d18e",
   "metadata": {},
   "outputs": [],
   "source": [
    "generate_row_uniq_constr()@bin_sample_solution"
   ]
  },
  {
   "cell_type": "code",
   "execution_count": 77,
   "id": "f9dcbac7-2785-4241-98f4-572db6f3bb75",
   "metadata": {
    "execution": {
     "iopub.execute_input": "2024-06-13T13:16:30.752569Z",
     "iopub.status.busy": "2024-06-13T13:16:30.751932Z",
     "iopub.status.idle": "2024-06-13T13:16:30.761573Z",
     "shell.execute_reply": "2024-06-13T13:16:30.760905Z",
     "shell.execute_reply.started": "2024-06-13T13:16:30.752516Z"
    }
   },
   "outputs": [
    {
     "data": {
      "text/plain": [
       "array([[1., 1., 1., ..., 0., 0., 0.],\n",
       "       [0., 0., 0., ..., 0., 0., 0.],\n",
       "       [0., 0., 0., ..., 0., 0., 0.],\n",
       "       ...,\n",
       "       [0., 0., 0., ..., 0., 0., 0.],\n",
       "       [0., 0., 0., ..., 0., 0., 0.],\n",
       "       [0., 0., 0., ..., 1., 1., 1.]])"
      ]
     },
     "execution_count": 77,
     "metadata": {},
     "output_type": "execute_result"
    }
   ],
   "source": [
    "np.kron(np.eye(4), np.kron(np.eye(4), np.ones((1,4))))"
   ]
  },
  {
   "cell_type": "code",
   "execution_count": 75,
   "id": "6ba052f6-52d8-4378-9cb5-6841c2bf2ef1",
   "metadata": {
    "execution": {
     "iopub.execute_input": "2024-06-13T13:15:45.786103Z",
     "iopub.status.busy": "2024-06-13T13:15:45.785565Z",
     "iopub.status.idle": "2024-06-13T13:15:45.794347Z",
     "shell.execute_reply": "2024-06-13T13:15:45.793657Z",
     "shell.execute_reply.started": "2024-06-13T13:15:45.786079Z"
    }
   },
   "outputs": [
    {
     "data": {
      "text/plain": [
       "array([[1., 0., 1., 0., 0., 0., 0., 0., 0., 0., 0., 0., 0., 0., 0., 0.],\n",
       "       [0., 1., 0., 1., 0., 0., 0., 0., 0., 0., 0., 0., 0., 0., 0., 0.],\n",
       "       [0., 0., 0., 0., 1., 0., 1., 0., 0., 0., 0., 0., 0., 0., 0., 0.],\n",
       "       [0., 0., 0., 0., 0., 1., 0., 1., 0., 0., 0., 0., 0., 0., 0., 0.],\n",
       "       [0., 0., 0., 0., 0., 0., 0., 0., 1., 0., 1., 0., 0., 0., 0., 0.],\n",
       "       [0., 0., 0., 0., 0., 0., 0., 0., 0., 1., 0., 1., 0., 0., 0., 0.],\n",
       "       [0., 0., 0., 0., 0., 0., 0., 0., 0., 0., 0., 0., 1., 0., 1., 0.],\n",
       "       [0., 0., 0., 0., 0., 0., 0., 0., 0., 0., 0., 0., 0., 1., 0., 1.]])"
      ]
     },
     "execution_count": 75,
     "metadata": {},
     "output_type": "execute_result"
    }
   ],
   "source": [
    "np.kron(np.eye(4), np.kron(np.ones((1,2)),  np.eye(2)))"
   ]
  },
  {
   "cell_type": "code",
   "execution_count": 53,
   "id": "b17b9c0d-c974-4fe0-b864-31e671b29203",
   "metadata": {
    "execution": {
     "iopub.execute_input": "2024-06-13T13:03:02.084250Z",
     "iopub.status.busy": "2024-06-13T13:03:02.082709Z",
     "iopub.status.idle": "2024-06-13T13:03:02.090992Z",
     "shell.execute_reply": "2024-06-13T13:03:02.090423Z",
     "shell.execute_reply.started": "2024-06-13T13:03:02.084173Z"
    }
   },
   "outputs": [
    {
     "data": {
      "text/plain": [
       "array([[1., 0., 0., 0., 1., 0., 0., 0., 1., 0., 0., 0., 1., 0., 0., 0.],\n",
       "       [0., 1., 0., 0., 0., 1., 0., 0., 0., 1., 0., 0., 0., 1., 0., 0.],\n",
       "       [0., 0., 1., 0., 0., 0., 1., 0., 0., 0., 1., 0., 0., 0., 1., 0.],\n",
       "       [0., 0., 0., 1., 0., 0., 0., 1., 0., 0., 0., 1., 0., 0., 0., 1.]])"
      ]
     },
     "execution_count": 53,
     "metadata": {},
     "output_type": "execute_result"
    }
   ],
   "source": [
    "np.kron(np.ones((1,4)), np.eye(2*2))"
   ]
  },
  {
   "cell_type": "code",
   "execution_count": 65,
   "id": "b069a7c0-9e2d-492a-9ef7-889ac471137b",
   "metadata": {
    "execution": {
     "iopub.execute_input": "2024-06-13T13:09:24.033258Z",
     "iopub.status.busy": "2024-06-13T13:09:24.032623Z",
     "iopub.status.idle": "2024-06-13T13:09:24.041789Z",
     "shell.execute_reply": "2024-06-13T13:09:24.040912Z",
     "shell.execute_reply.started": "2024-06-13T13:09:24.033206Z"
    }
   },
   "outputs": [
    {
     "data": {
      "text/plain": [
       "array([[1., 0., 1., 0., 0., 0., 0., 0.],\n",
       "       [0., 1., 0., 1., 0., 0., 0., 0.],\n",
       "       [0., 0., 0., 0., 1., 0., 1., 0.],\n",
       "       [0., 0., 0., 0., 0., 1., 0., 1.]])"
      ]
     },
     "execution_count": 65,
     "metadata": {},
     "output_type": "execute_result"
    }
   ],
   "source": [
    "np.kron(np.ones(1,2), np.kron(np.eye(2), np.kron(np.ones((1,4)), np.eye(2)))"
   ]
  },
  {
   "cell_type": "code",
   "execution_count": 95,
   "id": "7db50393-dade-4127-8781-9b7f1c845d4e",
   "metadata": {
    "execution": {
     "iopub.execute_input": "2024-06-13T13:34:09.756447Z",
     "iopub.status.busy": "2024-06-13T13:34:09.754950Z",
     "iopub.status.idle": "2024-06-13T13:34:09.765840Z",
     "shell.execute_reply": "2024-06-13T13:34:09.765162Z",
     "shell.execute_reply.started": "2024-06-13T13:34:09.756380Z"
    }
   },
   "outputs": [
    {
     "data": {
      "text/plain": [
       "array([1., 2., 1., 1., 1., 1., 1., 1., 1., 1., 1., 1., 1., 1., 1., 1., 1.,\n",
       "       1., 1., 1., 1., 1., 1., 1., 1., 1., 1., 1., 1., 1., 1., 1., 1., 1.,\n",
       "       1., 1., 1., 1., 1., 1., 1., 1., 1., 1., 1., 1., 1., 1., 1., 1., 1.,\n",
       "       1., 1., 1., 1., 1., 1., 1., 1., 1., 1., 1., 1., 1., 1., 1., 1., 1.,\n",
       "       1., 1., 1., 1., 1., 1., 1., 1., 1., 1., 1., 1., 1.])"
      ]
     },
     "execution_count": 95,
     "metadata": {},
     "output_type": "execute_result"
    }
   ],
   "source": [
    "def block_unicity_const(x):\n",
    "    blocks = np.zeros((81))\n",
    "    U = 0\n",
    "    V = 0\n",
    "    x_array = x.reshape((9,9,9))\n",
    "    for u in range(3):\n",
    "        for v in range(3):\n",
    "            for k in range(9):\n",
    "                blocks[27*u+9*v+k] = np.sum(x_array[3*u:3*(u+1), 3*v:3*(v+1), k])\n",
    "    return blocks\n",
    "\n",
    "\n",
    "\n",
    "block_unicity_const(bin_sample_solution)\n",
    "block_unicity_const(wrong_bin_sample_solution)\n",
    "            "
   ]
  },
  {
   "cell_type": "code",
   "execution_count": 97,
   "id": "975dbe6d-4c70-4086-bd18-45854fe723e2",
   "metadata": {
    "execution": {
     "iopub.execute_input": "2024-06-13T13:34:53.886146Z",
     "iopub.status.busy": "2024-06-13T13:34:53.885713Z",
     "iopub.status.idle": "2024-06-13T13:34:54.668047Z",
     "shell.execute_reply": "2024-06-13T13:34:54.667300Z",
     "shell.execute_reply.started": "2024-06-13T13:34:53.886120Z"
    }
   },
   "outputs": [
    {
     "data": {
      "text/plain": [
       "<matplotlib.image.AxesImage at 0x7fd582d5a180>"
      ]
     },
     "execution_count": 97,
     "metadata": {},
     "output_type": "execute_result"
    },
    {
     "data": {
      "image/png": "[encoded data removed]",
      "text/plain": [
       "<Figure size 640x480 with 1 Axes>"
      ]
     },
     "metadata": {},
     "output_type": "display_data"
    }
   ],
   "source": [
    "from functools import wraps\n",
    "import matplotlib.pyplot as plt\n",
    "\n",
    "def jac_fin_diff(func, h, out_shape = None):\n",
    "    @wraps(func)\n",
    "    def wrapper(*args, out_shape=out_shape, **kwargs):\n",
    "        if out_shape is None:\n",
    "            out_shape = func(args[0], *args[1:], **kwargs).shape\n",
    "        N = args[0].shape[0]\n",
    "        res = np.empty( [N] + list(out_shape)[::-1], dtype = np.float64)\n",
    "        for i in range(N):\n",
    "            h_vec = h * np.eye(1, N, k=i).reshape((N,))\n",
    "            res[i] = ((func(args[0] + h_vec, *args[1:], **kwargs) - func(args[0] - h_vec, *args[1:], **kwargs)) / (2 * h)).T\n",
    "        return res.T\n",
    "\n",
    "    return wrapper\n",
    "\n",
    "plt.imshow(jac_fin_diff(block_unicity_const, h=1)(np.ones_like(bin_sample_solution)))\n"
   ]
  },
  {
   "cell_type": "code",
   "execution_count": 105,
   "id": "160d3ec8-551a-4111-846f-971499513712",
   "metadata": {
    "execution": {
     "iopub.execute_input": "2024-06-13T13:38:06.972941Z",
     "iopub.status.busy": "2024-06-13T13:38:06.972438Z",
     "iopub.status.idle": "2024-06-13T13:38:07.097633Z",
     "shell.execute_reply": "2024-06-13T13:38:07.096842Z",
     "shell.execute_reply.started": "2024-06-13T13:38:06.972916Z"
    }
   },
   "outputs": [
    {
     "data": {
      "text/plain": [
       "<matplotlib.image.AxesImage at 0x7fd5981221e0>"
      ]
     },
     "execution_count": 105,
     "metadata": {},
     "output_type": "execute_result"
    },
    {
     "data": {
      "image/png": "[encoded data removed]",
      "text/plain": [
       "<Figure size 640x480 with 1 Axes>"
      ]
     },
     "metadata": {},
     "output_type": "display_data"
    }
   ],
   "source": [
    "plt.imshow(np.kron(np.eye(3), np.kron(np.ones((1,3)), np.kron(np.eye(3), np.kron( np.ones((1,3)), np.eye(9))))))"
   ]
  },
  {
   "cell_type": "code",
   "execution_count": null,
   "id": "0160c5b2-5c94-4856-8d6f-a120fa607630",
   "metadata": {},
   "outputs": [],
   "source": []
  }
 ],
 "metadata": {
  "kernelspec": {
   "display_name": "Python 3 (ipykernel)",
   "language": "python",
   "name": "python3"
  },
  "language_info": {
   "codemirror_mode": {
    "name": "ipython",
    "version": 3
   },
   "file_extension": ".py",
   "mimetype": "text/x-python",
   "name": "python",
   "nbconvert_exporter": "python",
   "pygments_lexer": "ipython3",
   "version": "3.12.3"
  }
 },
 "nbformat": 4,
 "nbformat_minor": 5
}
