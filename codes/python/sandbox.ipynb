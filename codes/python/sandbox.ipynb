{
 "cells": [
  {
   "cell_type": "code",
   "execution_count": 1,
   "id": "4fb08d85-506f-4b7e-a383-634550a10863",
   "metadata": {
    "execution": {
     "iopub.execute_input": "2024-06-22T00:33:54.231331Z",
     "iopub.status.busy": "2024-06-22T00:33:54.230820Z",
     "iopub.status.idle": "2024-06-22T00:33:55.266295Z",
     "shell.execute_reply": "2024-06-22T00:33:55.264652Z",
     "shell.execute_reply.started": "2024-06-22T00:33:54.231304Z"
    }
   },
   "outputs": [],
   "source": [
    "import numpy as np\n",
    "import scipy as sp\n",
    "import matplotlib.pyplot as plt\n",
    "\n",
    "import gurobipy as gp\n",
    "from gurobipy import GRB\n",
    "import highspy\n",
    "\n",
    "from utils.timer import Timer\n",
    "\n",
    "from numba import njit, jit\n",
    "\n",
    "from utils.constraintUtils import *\n",
    "from utils.formattingUtils import *\n",
    "from utils.constructILPUtils import *\n",
    "from utils.solveILPUtils import *\n"
   ]
  },
  {
   "cell_type": "code",
   "execution_count": 2,
   "id": "617045e7-ad97-48c1-ab3e-78ecc3eb27fa",
   "metadata": {
    "execution": {
     "iopub.execute_input": "2024-06-22T00:33:55.267969Z",
     "iopub.status.busy": "2024-06-22T00:33:55.267575Z",
     "iopub.status.idle": "2024-06-22T00:33:55.279863Z",
     "shell.execute_reply": "2024-06-22T00:33:55.278702Z",
     "shell.execute_reply.started": "2024-06-22T00:33:55.267941Z"
    }
   },
   "outputs": [],
   "source": [
    "#The sudoku from the problem\n",
    "empty_sudoku = np.array(\n",
    "   [[0, 0, 1, 0, 0, 0, 0, 0, 2],\n",
    "    [0, 0, 0, 3, 0, 4, 5, 0, 0],\n",
    "    [6, 0, 0, 7, 0, 0, 1, 0, 0],\n",
    "    [0, 4, 0, 5, 0, 0, 0, 0, 0],\n",
    "    [0, 2, 0, 0, 0, 0, 0, 8, 0],\n",
    "    [0, 0, 0, 0, 0, 6, 0, 9, 0],\n",
    "    [0, 0, 5, 0, 0, 9, 0, 0, 4],\n",
    "    [0, 0, 8, 2, 0, 1, 0, 0, 0],\n",
    "    [3, 0, 0, 0, 0, 0, 7, 0, 0]]\n",
    ")\n",
    "\n",
    "#a sample sudoku from the internet\n",
    "sample_solution = np.array(\n",
    "    [[7, 1, 3, 5, 2, 4, 6, 9, 8],\n",
    "     [5, 2, 9, 6, 1, 8, 3, 4, 7],\n",
    "     [6, 4, 8, 7, 3, 9,\t2, 5, 1],\n",
    "     [1, 5, 2, 9, 4, 7, 8, 3, 6],\n",
    "     [8, 3, 6, 1, 5, 2, 9, 7, 4],\n",
    "     [4, 9, 7, 3, 8, 6, 5, 1, 2],\n",
    "     [3, 8, 5, 4, 6, 1, 7, 2, 9],\n",
    "     [9, 6,\t1, 2, 7, 5, 4, 8, 3],\n",
    "     [2, 7, 4, 8, 9, 3, 1, 6, 5]]\n",
    ")\n",
    "\n",
    "#the same sample sudoku with some elements deleted\n",
    "empty_sample_solution = np.array(\n",
    "    [[0, 0, 0, 5, 2, 4, 6, 9, 8],\n",
    "     [5, 2, 0, 6, 1, 8, 3, 4, 7],\n",
    "     [6, 4, 8, 7, 3, 9,\t2, 5, 1],\n",
    "     [1, 5, 2, 9, 4, 7, 8, 3, 6],\n",
    "     [8, 3, 6, 1, 5, 2, 9, 7, 4],\n",
    "     [4, 9, 7, 3, 8, 6, 5, 1, 2],\n",
    "     [3, 8, 5, 4, 6, 1, 7, 2, 9],\n",
    "     [9, 6,\t1, 2, 7, 5, 4, 8, 3],\n",
    "     [2, 7, 4, 8, 9, 3, 1, 6, 5]]\n",
    ")\n",
    "\n",
    "#A very empty sudoku\n",
    "very_empty_clues = np.zeros((9,9), dtype = int)\n",
    "very_empty_clues[0,1] = 3\n",
    "very_empty_clues[0,2] = 2\n",
    "very_empty_clues[0,3] = 1"
   ]
  },
  {
   "cell_type": "code",
   "execution_count": 3,
   "id": "54b6d176-a37a-4f62-ac66-b3ea192070ba",
   "metadata": {
    "execution": {
     "iopub.execute_input": "2024-06-22T00:33:55.280748Z",
     "iopub.status.busy": "2024-06-22T00:33:55.280542Z",
     "iopub.status.idle": "2024-06-22T00:33:55.290052Z",
     "shell.execute_reply": "2024-06-22T00:33:55.289096Z",
     "shell.execute_reply.started": "2024-06-22T00:33:55.280728Z"
    }
   },
   "outputs": [
    {
     "data": {
      "text/plain": [
       "array([[7, 1, 3, 5, 2, 4, 6, 9, 8],\n",
       "       [5, 2, 9, 6, 1, 8, 3, 4, 7],\n",
       "       [6, 4, 8, 7, 3, 9, 2, 5, 1],\n",
       "       [1, 5, 2, 9, 4, 7, 8, 3, 6],\n",
       "       [8, 3, 6, 1, 5, 2, 9, 7, 4],\n",
       "       [4, 9, 7, 3, 8, 6, 5, 1, 2],\n",
       "       [3, 8, 5, 4, 6, 1, 7, 2, 9],\n",
       "       [9, 6, 1, 2, 7, 5, 4, 8, 3],\n",
       "       [2, 7, 4, 8, 9, 3, 1, 6, 5]])"
      ]
     },
     "execution_count": 3,
     "metadata": {},
     "output_type": "execute_result"
    }
   ],
   "source": [
    "bin_sample_solution = array_to_vector(sample_solution)\n",
    "vector_to_array(bin_sample_solution)"
   ]
  },
  {
   "cell_type": "code",
   "execution_count": 4,
   "id": "d0fde30c-4a1e-46e8-afa6-16c3b9487789",
   "metadata": {
    "execution": {
     "iopub.execute_input": "2024-06-22T00:33:55.291232Z",
     "iopub.status.busy": "2024-06-22T00:33:55.291014Z",
     "iopub.status.idle": "2024-06-22T00:33:58.511698Z",
     "shell.execute_reply": "2024-06-22T00:33:58.510817Z",
     "shell.execute_reply.started": "2024-06-22T00:33:55.291212Z"
    }
   },
   "outputs": [],
   "source": [
    "for i in range(10):\n",
    "\n",
    "    with Timer(\"Construnct ILP\"):\n",
    "        c, A_full_sparse = constuct_A_sparse_and_c(empty_sudoku)\n",
    "        \n",
    "    with Timer(\"Solve With Scipy\"):\n",
    "        solve_sudoku_scipy(c, A_full_sparse)"
   ]
  },
  {
   "cell_type": "code",
   "execution_count": 5,
   "id": "33cff511-1609-4e91-bb97-7cabd57b2be7",
   "metadata": {
    "execution": {
     "iopub.execute_input": "2024-06-22T00:33:58.512515Z",
     "iopub.status.busy": "2024-06-22T00:33:58.512375Z",
     "iopub.status.idle": "2024-06-22T00:33:58.516273Z",
     "shell.execute_reply": "2024-06-22T00:33:58.515822Z",
     "shell.execute_reply.started": "2024-06-22T00:33:58.512501Z"
    }
   },
   "outputs": [
    {
     "name": "stdout",
     "output_type": "stream",
     "text": [
      "{'Construnct ILP': [3.1665288121439517, 0.0010892681311815977, 0.0007735551334917545, 0.000761949922889471, 0.0007653620559722185, 0.0007603189442306757, 0.0007642391137778759, 0.0008443729020655155, 0.0008527080062776804, 0.0007761409506201744], 'Solve With Scipy': [0.009723775088787079, 0.004479357041418552, 0.0034458341542631388, 0.0034331800416111946, 0.0034676450304687023, 0.0034335670061409473, 0.0034871441312134266, 0.0038090210873633623, 0.003680960973724723, 0.0034336689859628677]}\n"
     ]
    }
   ],
   "source": [
    "print(Timer.timers)"
   ]
  },
  {
   "cell_type": "code",
   "execution_count": null,
   "id": "9eca95f6-7bf3-48ff-aa74-90066f2dee53",
   "metadata": {},
   "outputs": [],
   "source": []
  },
  {
   "cell_type": "code",
   "execution_count": null,
   "id": "1ae550fc-36b4-4a98-b64c-b45b80cb59d2",
   "metadata": {},
   "outputs": [],
   "source": []
  },
  {
   "cell_type": "code",
   "execution_count": null,
   "id": "d4094f57-6d10-43d0-9a85-ceba78ba8101",
   "metadata": {},
   "outputs": [],
   "source": []
  },
  {
   "cell_type": "code",
   "execution_count": null,
   "id": "d07d1354-e3fd-4086-ba38-fc1de7b73858",
   "metadata": {},
   "outputs": [],
   "source": []
  },
  {
   "cell_type": "code",
   "execution_count": 6,
   "id": "9fcdf400-0dbc-442b-ace9-11fbd4daacef",
   "metadata": {
    "execution": {
     "iopub.execute_input": "2024-06-22T00:33:58.517602Z",
     "iopub.status.busy": "2024-06-22T00:33:58.517467Z",
     "iopub.status.idle": "2024-06-22T00:33:58.550051Z",
     "shell.execute_reply": "2024-06-22T00:33:58.549351Z",
     "shell.execute_reply.started": "2024-06-22T00:33:58.517589Z"
    }
   },
   "outputs": [],
   "source": [
    "import gurobipy as gp\n",
    "from gurobipy import GRB\n",
    "import highspy\n",
    "\n",
    "env = gp.Env(empty=True)\n",
    "env.setParam('OutputFlag', 0)\n",
    "env.start()\n",
    "\t\t\n",
    "def solve_sudoku_gurobi(c, A_full):\n",
    "\t # Create a new model\n",
    "\t m = gp.Model(\"matrix1\", env = env) \n",
    "\t # Create variables\n",
    "\t solution_size = A_full.shape[1]\n",
    "\t x = m.addMVar(shape=solution_size, vtype=GRB.BINARY, name=\"x\")\n",
    "\t # Build rhs vector\n",
    "\t rhs = np.ones(A_full.shape[0], dtype = int)\n",
    "\t # Add constraints\n",
    "\t m.addConstr(A_full @ x == rhs, name=\"constraints\")\n",
    "\t # Set objective\n",
    "\t m.setObjective(c @ x, GRB.MINIMIZE)\n",
    "\t # Optimize model\n",
    "\t m.optimize()\n",
    "\t return x.X\n",
    "\t\n",
    "\n",
    "def solve_sudoku_highspy(c, A_full):\n",
    "\n",
    "\t rows, cols = A_full.shape\n",
    "\t # Highs h\n",
    "\t h = highspy.Highs()\n",
    "\n",
    "\t # Define a HighsLp instance\n",
    "\t lp = highspy.HighsLp()\n",
    "\t\n",
    "\t lp.num_col_ = cols\n",
    "\t lp.num_row_ = rows\n",
    "\t lp.col_cost_ = c\n",
    "\t lp.col_lower_ = np.zeros(c.shape, dtype = int)\n",
    "\t lp.col_upper_ = np.ones(c.shape, dtype = int)\n",
    "\t lp.row_lower_ = np.ones((rows), dtype = int)\n",
    "\t lp.row_upper_ = np.ones((rows), dtype = int)\n",
    "\t lp.integrality_ = [highspy._core.HighsVarType.kInteger]*cols # np.ones(c.shape, dtype = int).tolist()\n",
    "\t #lp.integrality_ = 1#np.ones(c.shape, dtype = int)#highspy.HighsVarType.kInteger\n",
    "\t\n",
    "\t # In a HighsLp instsance, the number of nonzeros is given by a fictitious final start\n",
    "\t lp.a_matrix_.format_ = highspy.MatrixFormat.kColwise\n",
    "\t lp.a_matrix_.start_ = A_full.indptr\n",
    "\t lp.a_matrix_.index_ = A_full.indices\n",
    "\t lp.a_matrix_.value_ = A_full.data\n",
    "\t h.passModel(lp)\n",
    "\n",
    "\t # Get and set options\n",
    "\t options = h.getOptions()\n",
    "\t options.log_to_console = False\n",
    "\t h.passOptions(options)\n",
    "\n",
    "\t h.run()\n",
    "\t\n",
    "\t solution = h.getSolution()\n",
    "\t x= np.array(solution.col_value)\n",
    "\t return x\n"
   ]
  },
  {
   "cell_type": "code",
   "execution_count": 7,
   "id": "8b92fefb-d9eb-44ac-81a5-b1a64e86bf12",
   "metadata": {
    "execution": {
     "iopub.execute_input": "2024-06-22T00:33:58.550803Z",
     "iopub.status.busy": "2024-06-22T00:33:58.550655Z",
     "iopub.status.idle": "2024-06-22T00:34:00.875836Z",
     "shell.execute_reply": "2024-06-22T00:34:00.874948Z",
     "shell.execute_reply.started": "2024-06-22T00:33:58.550790Z"
    }
   },
   "outputs": [
    {
     "name": "stdout",
     "output_type": "stream",
     "text": [
      "{'Construnct ILP': [3.1665288121439517, 0.0010892681311815977, 0.0007735551334917545, 0.000761949922889471, 0.0007653620559722185, 0.0007603189442306757, 0.0007642391137778759, 0.0008443729020655155, 0.0008527080062776804, 0.0007761409506201744], 'Solve With Scipy': [0.009723775088787079, 0.004479357041418552, 0.0034458341542631388, 0.0034331800416111946, 0.0034676450304687023, 0.0034335670061409473, 0.0034871441312134266, 0.0038090210873633623, 0.003680960973724723, 0.0034336689859628677], 'njitted': [2.31788611295633], 'normal': [0.002248200122267008]}\n"
     ]
    }
   ],
   "source": [
    "with Timer(\"njitted\"):\n",
    "    setup_ILP_njit(empty_sudoku)\n",
    "\n",
    "with Timer(\"normal\"):\n",
    "    setup_ILP_dense(empty_sudoku)\n",
    "\n",
    "print(Timer.timers)"
   ]
  },
  {
   "cell_type": "code",
   "execution_count": 8,
   "id": "727c1fd7-6aab-49b8-895c-9f86380f0133",
   "metadata": {
    "execution": {
     "iopub.execute_input": "2024-06-22T00:34:00.876802Z",
     "iopub.status.busy": "2024-06-22T00:34:00.876629Z",
     "iopub.status.idle": "2024-06-22T00:34:00.897161Z",
     "shell.execute_reply": "2024-06-22T00:34:00.896708Z",
     "shell.execute_reply.started": "2024-06-22T00:34:00.876786Z"
    }
   },
   "outputs": [
    {
     "name": "stdout",
     "output_type": "stream",
     "text": [
      "Running HiGHS 1.7.1 (git hash: 0c240d8): Copyright (c) 2024 HiGHS under MIT licence terms\n",
      "[[7 3 1 8 6 5 9 4 2]\n",
      " [8 9 2 3 1 4 5 6 7]\n",
      " [6 5 4 7 9 2 1 3 8]\n",
      " [9 4 6 5 8 3 2 7 1]\n",
      " [1 2 3 9 4 7 6 8 5]\n",
      " [5 8 7 1 2 6 4 9 3]\n",
      " [2 7 5 6 3 9 8 1 4]\n",
      " [4 6 8 2 7 1 3 5 9]\n",
      " [3 1 9 4 5 8 7 2 6]]\n",
      "{'Construnct ILP': [3.1665288121439517, 0.0010892681311815977, 0.0007735551334917545, 0.000761949922889471, 0.0007653620559722185, 0.0007603189442306757, 0.0007642391137778759, 0.0008443729020655155, 0.0008527080062776804, 0.0007761409506201744], 'Solve With Scipy': [0.009723775088787079, 0.004479357041418552, 0.0034458341542631388, 0.0034331800416111946, 0.0034676450304687023, 0.0034335670061409473, 0.0034871441312134266, 0.0038090210873633623, 0.003680960973724723, 0.0034336689859628677], 'njitted': [2.31788611295633], 'normal': [0.002248200122267008], 'Solve Highs': [0.016227076994255185]}\n"
     ]
    }
   ],
   "source": [
    "with Timer(\"Solve Highs\"):\n",
    "    c, A_full_njit = setup_ILP_njit(empty_sudoku)\n",
    "    A_full_njit_sparse = sp.sparse.csc_matrix(A_full_njit)\n",
    "    #model = solve_sudoku_pisciopt(c, A_full_njit)\n",
    "    solution = solve_sudoku_highspy(c, A_full_njit_sparse)\n",
    "\n",
    "print(vector_to_array(solution))\n",
    "print(Timer.timers)"
   ]
  },
  {
   "cell_type": "code",
   "execution_count": 9,
   "id": "35c1f678-ad9e-4a29-9a8f-05a8d095de79",
   "metadata": {
    "execution": {
     "iopub.execute_input": "2024-06-22T00:34:00.897946Z",
     "iopub.status.busy": "2024-06-22T00:34:00.897788Z",
     "iopub.status.idle": "2024-06-22T00:34:00.906538Z",
     "shell.execute_reply": "2024-06-22T00:34:00.905789Z",
     "shell.execute_reply.started": "2024-06-22T00:34:00.897931Z"
    }
   },
   "outputs": [
    {
     "name": "stdout",
     "output_type": "stream",
     "text": [
      "{'Construnct ILP': [3.1665288121439517, 0.0010892681311815977, 0.0007735551334917545, 0.000761949922889471, 0.0007653620559722185, 0.0007603189442306757, 0.0007642391137778759, 0.0008443729020655155, 0.0008527080062776804, 0.0007761409506201744], 'Solve With Scipy': [0.009723775088787079, 0.004479357041418552, 0.0034458341542631388, 0.0034331800416111946, 0.0034676450304687023, 0.0034335670061409473, 0.0034871441312134266, 0.0038090210873633623, 0.003680960973724723, 0.0034336689859628677], 'njitted': [2.31788611295633], 'normal': [0.002248200122267008], 'Solve Highs': [0.016227076994255185], 'Solve sudoku': [0.005434246966615319]}\n"
     ]
    }
   ],
   "source": [
    "#fastest option\n",
    "with Timer(\"Solve sudoku\"):\n",
    "    c, A_full_njit = setup_ILP_njit(empty_sudoku)\n",
    "    A_sparse_njit =  sp.sparse.csr_matrix(A_full_njit)\n",
    "    res_scipy = solve_sudoku_scipy(c, A_sparse_njit)\n",
    "    \n",
    "\n",
    "print(Timer.timers)\n",
    "    \n",
    "    "
   ]
  },
  {
   "cell_type": "code",
   "execution_count": 10,
   "id": "29499ddb-d245-43b8-89d9-02be31b425cd",
   "metadata": {
    "execution": {
     "iopub.execute_input": "2024-06-22T00:34:00.907558Z",
     "iopub.status.busy": "2024-06-22T00:34:00.907355Z",
     "iopub.status.idle": "2024-06-22T00:34:01.059161Z",
     "shell.execute_reply": "2024-06-22T00:34:01.058330Z",
     "shell.execute_reply.started": "2024-06-22T00:34:00.907539Z"
    }
   },
   "outputs": [
    {
     "name": "stdout",
     "output_type": "stream",
     "text": [
      "{'Construnct ILP': [3.1665288121439517, 0.0010892681311815977, 0.0007735551334917545, 0.000761949922889471, 0.0007653620559722185, 0.0007603189442306757, 0.0007642391137778759, 0.0008443729020655155, 0.0008527080062776804, 0.0007761409506201744], 'Solve With Scipy': [0.009723775088787079, 0.004479357041418552, 0.0034458341542631388, 0.0034331800416111946, 0.0034676450304687023, 0.0034335670061409473, 0.0034871441312134266, 0.0038090210873633623, 0.003680960973724723, 0.0034336689859628677], 'njitted': [2.31788611295633], 'normal': [0.002248200122267008], 'Solve Highs': [0.016227076994255185], 'Solve sudoku': [0.005434246966615319], 'CSR': [0.003492502961307764, 0.004855858162045479, 0.006407992914319038, 0.006423999089747667, 0.00642227497883141, 0.006438957992941141, 0.006436220835894346, 0.006421050988137722, 0.006505716126412153, 0.00644761580042541], 'CSC': [0.003369739977642894, 0.006307727890089154, 0.006283740978688002, 0.0062801779713481665, 0.006291904952377081, 0.0063113379292190075, 0.006323616951704025, 0.00632648216560483, 0.00635783514007926, 0.006334870820865035]}\n"
     ]
    }
   ],
   "source": [
    "#fastest option\n",
    "\n",
    "c, A_full_njit = setup_ILP_njit(empty_sudoku)\n",
    "\n",
    "for i in range(10):\n",
    "    A_sparse_njit =  sp.sparse.csr_matrix(A_full_njit)\n",
    "    with Timer(\"CSR\"):\n",
    "        solve_sudoku_scipy(c, A_sparse_njit)\n",
    "    \n",
    "    A_sparse_njit =  sp.sparse.csc_matrix(A_full_njit)\n",
    "    with Timer(\"CSC\"):\n",
    "        solve_sudoku_scipy(c, A_sparse_njit)\n",
    "    \n",
    "\n",
    "print(Timer.timers)\n",
    "    "
   ]
  },
  {
   "cell_type": "code",
   "execution_count": 11,
   "id": "d53192c1-70eb-472e-9df7-cd1ce35a5d01",
   "metadata": {
    "execution": {
     "iopub.execute_input": "2024-06-22T00:34:01.060219Z",
     "iopub.status.busy": "2024-06-22T00:34:01.060007Z",
     "iopub.status.idle": "2024-06-22T00:34:02.107028Z",
     "shell.execute_reply": "2024-06-22T00:34:02.105690Z",
     "shell.execute_reply.started": "2024-06-22T00:34:01.060199Z"
    }
   },
   "outputs": [
    {
     "name": "stdout",
     "output_type": "stream",
     "text": [
      "Running HiGHS 1.7.1 (git hash: 0c240d8): Copyright (c) 2024 HiGHS under MIT licence terms\n",
      "Running HiGHS 1.7.1 (git hash: 0c240d8): Copyright (c) 2024 HiGHS under MIT licence terms\n",
      "Running HiGHS 1.7.1 (git hash: 0c240d8): Copyright (c) 2024 HiGHS under MIT licence terms\n",
      "Running HiGHS 1.7.1 (git hash: 0c240d8): Copyright (c) 2024 HiGHS under MIT licence terms\n",
      "Running HiGHS 1.7.1 (git hash: 0c240d8): Copyright (c) 2024 HiGHS under MIT licence terms\n",
      "Running HiGHS 1.7.1 (git hash: 0c240d8): Copyright (c) 2024 HiGHS under MIT licence terms\n",
      "Running HiGHS 1.7.1 (git hash: 0c240d8): Copyright (c) 2024 HiGHS under MIT licence terms\n",
      "Running HiGHS 1.7.1 (git hash: 0c240d8): Copyright (c) 2024 HiGHS under MIT licence terms\n",
      "1. Setup dense \t\t [0.0007  0.00069 0.00068 0.00069 0.0007  0.00069 0.00072 0.00071]\n",
      "1. Setup njit dense \t\t [0.00066 0.00064 0.00064 0.00064 0.00065 0.00065 0.00065 0.0008 ]\n",
      "1. Setup njit sparse \t\t [0.00194 0.00192 0.00194 0.00195 0.00201 0.00199 0.00197 0.00198]\n",
      "1. Setup sparse \t\t [0.00415 0.00389 0.00388 0.00394 0.00397 0.00393 0.00397 0.00396]\n",
      "1. Setup sparse_dense \t\t [0.00289 0.00236 0.00276 0.00267 0.00272 0.00269 0.00275 0.00244]\n",
      "2. Scipy solver dense \t\t [0.0094  0.00935 0.00923 0.00954 0.00947 0.00945 0.00956 0.00952]\n",
      "2. Scipy solver njit dense \t\t [0.00851 0.00915 0.00922 0.00924 0.00952 0.00948 0.00947 0.00958]\n",
      "2. Scipy solver njit sparse \t\t [0.00644 0.00638 0.00642 0.00646 0.00664 0.00659 0.0066  0.0066 ]\n",
      "2. Scipy solver sparse \t\t [0.00639 0.00642 0.00643 0.00657 0.0066  0.0066  0.00664 0.00655]\n",
      "2. Scipy solver sparse_dense \t\t [0.00636 0.00635 0.0064  0.00652 0.00657 0.00657 0.00656 0.00656]\n",
      "3. Gurobi solver dense \t\t [0.00865 0.00876 0.01    0.00915 0.00896 0.00897 0.02973 0.00904]\n",
      "3. Gurobi solver njit dense \t\t [0.02768 0.00865 0.00866 0.00874 0.01016 0.01028 0.00899 0.02915]\n",
      "3. Gurobi solver njit sparse \t\t [0.00938 0.02603 0.00768 0.02635 0.02685 0.00801 0.00948 0.00794]\n",
      "3. Gurobi solver sparse \t\t [0.02933 0.0291  0.00787 0.008   0.00792 0.00791 0.00797 0.00793]\n",
      "3. Gurobi solver sparse_dense \t\t [0.03014 0.02666 0.02933 0.00813 0.02709 0.00812 0.008   0.0081 ]\n",
      "4. Highspy solver njit sparse \t\t [0.00779 0.00838 0.00799 0.00826 0.00834 0.0083  0.00801 0.00868]\n",
      "CSC \t\t [0.00337 0.00631 0.00628 0.00628 0.00629 0.00631 0.00632 0.00633 0.00636\n",
      " 0.00633]\n",
      "CSR \t\t [0.00349 0.00486 0.00641 0.00642 0.00642 0.00644 0.00644 0.00642 0.00651\n",
      " 0.00645]\n",
      "Construnct ILP \t\t [3.16653e+00 1.08927e-03 7.73555e-04 7.61950e-04 7.65362e-04 7.60319e-04\n",
      " 7.64239e-04 8.44373e-04 8.52708e-04 7.76141e-04]\n",
      "Solve Highs \t\t [0.01623]\n",
      "Solve With Scipy \t\t [0.00972 0.00448 0.00345 0.00343 0.00347 0.00343 0.00349 0.00381 0.00368\n",
      " 0.00343]\n",
      "Solve sudoku \t\t [0.00543]\n",
      "njitted \t\t [2.31789]\n",
      "normal \t\t [0.00225]\n"
     ]
    }
   ],
   "source": [
    "repeats = 8\n",
    "for i in range(repeats):\n",
    "    with Timer(\"1. Setup njit dense\"):\n",
    "        c, A_full_njit_dense = setup_ILP_njit(empty_sudoku)\n",
    "    with Timer(\"2. Scipy solver njit dense\"):\n",
    "        res_scipy = solve_sudoku_scipy(c, A_full_njit_dense)\n",
    "    with Timer(\"3. Gurobi solver njit dense\"):\n",
    "        res_gurobi = solve_sudoku_gurobi(c, A_full_njit_dense )\n",
    "    del c\n",
    "    del A_full_njit_dense \n",
    "\n",
    "    with Timer(\"1. Setup njit sparse\"):\n",
    "        c, A_full_njit_dense = setup_ILP_njit(empty_sudoku)\n",
    "        A_full_njit_sparse = sp.sparse.csc_matrix(A_full_njit_dense)\n",
    "    with Timer(\"2. Scipy solver njit sparse\"):\n",
    "        res_scipy = solve_sudoku_scipy(c, A_full_njit_sparse )\n",
    "    with Timer(\"3. Gurobi solver njit sparse\"):\n",
    "        res_gurobi = solve_sudoku_gurobi(c, A_full_njit_sparse )\n",
    "    with Timer(\"4. Highspy solver njit sparse\"):\n",
    "        res_highspy = solve_sudoku_highspy(c, A_full_njit_sparse )\n",
    "    del c\n",
    "    del A_full_njit_sparse\n",
    "        \n",
    "    with Timer(\"1. Setup sparse_dense\"):\n",
    "        c, A_full_sparse = setup_ILP_sparse_end(empty_sudoku, format = \"csc\", dtype = bool)\n",
    "    with Timer(\"2. Scipy solver sparse_dense\"):\n",
    "        res_scipy = solve_sudoku_scipy(c, A_full_sparse)\n",
    "    with Timer(\"3. Gurobi solver sparse_dense\"):\n",
    "        res_gurobi = solve_sudoku_gurobi(c, A_full_sparse)\n",
    "    del c\n",
    "    del A_full_sparse\n",
    "    \n",
    "    with Timer(\"1. Setup sparse\"):\n",
    "        c, A_full_sparse = setup_ILP_sparse(empty_sudoku, format = \"csc\", dtype = bool)\n",
    "    with Timer(\"2. Scipy solver sparse\"):\n",
    "        res_scipy = solve_sudoku_scipy(c, A_full_sparse)\n",
    "    with Timer(\"3. Gurobi solver sparse\"):\n",
    "        res_gurobi = solve_sudoku_gurobi(c, A_full_sparse)\n",
    "    del c\n",
    "    del A_full_sparse\n",
    "    \n",
    "    with Timer(\"1. Setup dense\"):\n",
    "        c, A_full_dense = setup_ILP_dense(empty_sudoku, dtype = bool)\n",
    "    with Timer(\"2. Scipy solver dense\"):\n",
    "        res_scipy = solve_sudoku_scipy(c, A_full_dense)\n",
    "    with Timer(\"3. Gurobi solver dense\"):\n",
    "        res_gurobi = solve_sudoku_gurobi(c, A_full_dense)\n",
    "    del c\n",
    "    del A_full_dense\n",
    "\n",
    "np.set_printoptions(precision=5)\n",
    "keys = np.sort(list(Timer.timers.keys()))\n",
    "for key in keys:\n",
    "    print(key, \"\\t\\t\", np.array(Timer.timers[key]))"
   ]
  },
  {
   "cell_type": "code",
   "execution_count": null,
   "id": "6e7b142b-82b1-4ed1-bb96-58f0480434ea",
   "metadata": {},
   "outputs": [],
   "source": []
  },
  {
   "cell_type": "code",
   "execution_count": null,
   "id": "bb4dc40e-7428-4c6d-bb9d-3b7890b3a287",
   "metadata": {},
   "outputs": [],
   "source": []
  },
  {
   "cell_type": "code",
   "execution_count": null,
   "id": "e9d25f84-c21c-4307-88f7-66585ed9c7d4",
   "metadata": {},
   "outputs": [],
   "source": []
  }
 ],
 "metadata": {
  "kernelspec": {
   "display_name": "Python 3 (ipykernel)",
   "language": "python",
   "name": "python3"
  },
  "language_info": {
   "codemirror_mode": {
    "name": "ipython",
    "version": 3
   },
   "file_extension": ".py",
   "mimetype": "text/x-python",
   "name": "python",
   "nbconvert_exporter": "python",
   "pygments_lexer": "ipython3",
   "version": "3.12.3"
  }
 },
 "nbformat": 4,
 "nbformat_minor": 5
}
