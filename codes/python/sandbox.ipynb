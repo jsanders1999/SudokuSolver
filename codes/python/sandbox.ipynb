{
 "cells": [
  {
   "cell_type": "markdown",
   "id": "fb5689d8-79aa-416b-91f3-95f9f58f70e4",
   "metadata": {
    "execution": {
     "iopub.execute_input": "2024-06-13T09:45:49.754208Z",
     "iopub.status.busy": "2024-06-13T09:45:49.753643Z",
     "iopub.status.idle": "2024-06-13T09:45:49.790123Z",
     "shell.execute_reply": "2024-06-13T09:45:49.788837Z",
     "shell.execute_reply.started": "2024-06-13T09:45:49.754178Z"
    }
   },
   "source": [
    "[source](https://www.mathworks.com/help/optim/ug/sudoku-puzzles-problem-based.html)"
   ]
  },
  {
   "cell_type": "code",
   "execution_count": 1,
   "id": "4fb08d85-506f-4b7e-a383-634550a10863",
   "metadata": {
    "execution": {
     "iopub.execute_input": "2024-06-21T21:27:12.077594Z",
     "iopub.status.busy": "2024-06-21T21:27:12.077372Z",
     "iopub.status.idle": "2024-06-21T21:27:12.630328Z",
     "shell.execute_reply": "2024-06-21T21:27:12.629493Z",
     "shell.execute_reply.started": "2024-06-21T21:27:12.077567Z"
    }
   },
   "outputs": [],
   "source": [
    "import numpy as np\n",
    "import scipy as sp\n",
    "import matplotlib.pyplot as plt\n",
    "\n",
    "import gurobipy as gp\n",
    "from gurobipy import GRB\n",
    "import highspy\n",
    "\n",
    "from utils.timer import Timer\n",
    "\n",
    "from numba import njit, jit\n",
    "\n",
    "from utils.constraintUtils import *\n",
    "from utils.formattingUtils import *\n",
    "from utils.constructILPUtils import *\n",
    "from utils.solveILPUtils import *\n"
   ]
  },
  {
   "cell_type": "code",
   "execution_count": 17,
   "id": "1c1e6c6d-f3fd-488b-905c-b92a94e7a006",
   "metadata": {
    "execution": {
     "iopub.execute_input": "2024-06-21T22:09:18.210979Z",
     "iopub.status.busy": "2024-06-21T22:09:18.210457Z",
     "iopub.status.idle": "2024-06-21T22:09:18.218741Z",
     "shell.execute_reply": "2024-06-21T22:09:18.217245Z",
     "shell.execute_reply.started": "2024-06-21T22:09:18.210939Z"
    }
   },
   "outputs": [],
   "source": [
    "@njit\n",
    "def kron_sum(a,b):\n",
    "\treturn (a[:,None] + b[None,:]).flatten()"
   ]
  },
  {
   "cell_type": "code",
   "execution_count": 18,
   "id": "045e7fea-8966-47e4-a854-bcd206130cb3",
   "metadata": {
    "execution": {
     "iopub.execute_input": "2024-06-21T22:09:18.220871Z",
     "iopub.status.busy": "2024-06-21T22:09:18.220558Z",
     "iopub.status.idle": "2024-06-21T22:09:18.431257Z",
     "shell.execute_reply": "2024-06-21T22:09:18.430032Z",
     "shell.execute_reply.started": "2024-06-21T22:09:18.220847Z"
    }
   },
   "outputs": [
    {
     "data": {
      "text/plain": [
       "array([ 0, 10, 20, 30,  1, 11, 21, 31,  2, 12, 22, 32,  3, 13, 23, 33])"
      ]
     },
     "execution_count": 18,
     "metadata": {},
     "output_type": "execute_result"
    }
   ],
   "source": [
    "kron_sum(np.arange(0,4), np.arange(0,40,10))"
   ]
  },
  {
   "cell_type": "code",
   "execution_count": 21,
   "id": "9d976eec-e92b-405a-b8ca-6a381395f35f",
   "metadata": {
    "execution": {
     "iopub.execute_input": "2024-06-21T22:09:34.212276Z",
     "iopub.status.busy": "2024-06-21T22:09:34.211884Z",
     "iopub.status.idle": "2024-06-21T22:09:34.218818Z",
     "shell.execute_reply": "2024-06-21T22:09:34.217843Z",
     "shell.execute_reply.started": "2024-06-21T22:09:34.212247Z"
    }
   },
   "outputs": [],
   "source": [
    "@njit\n",
    "def kron_sum(a,b):\n",
    "\treturn (a.reshape(-1, 1) + b.reshape(1, -1)).flatten()"
   ]
  },
  {
   "cell_type": "code",
   "execution_count": 22,
   "id": "9162dfbf-f3a2-4573-a583-cca9772ffe43",
   "metadata": {
    "execution": {
     "iopub.execute_input": "2024-06-21T22:09:34.220499Z",
     "iopub.status.busy": "2024-06-21T22:09:34.220236Z",
     "iopub.status.idle": "2024-06-21T22:09:34.476101Z",
     "shell.execute_reply": "2024-06-21T22:09:34.474779Z",
     "shell.execute_reply.started": "2024-06-21T22:09:34.220477Z"
    }
   },
   "outputs": [
    {
     "data": {
      "text/plain": [
       "array([ 0, 10, 20, 30,  1, 11, 21, 31,  2, 12, 22, 32,  3, 13, 23, 33])"
      ]
     },
     "execution_count": 22,
     "metadata": {},
     "output_type": "execute_result"
    }
   ],
   "source": [
    "kron_sum(np.arange(0,4), np.arange(0,40,10))"
   ]
  },
  {
   "cell_type": "code",
   "execution_count": 2,
   "id": "617045e7-ad97-48c1-ab3e-78ecc3eb27fa",
   "metadata": {
    "execution": {
     "iopub.execute_input": "2024-06-21T21:27:12.631943Z",
     "iopub.status.busy": "2024-06-21T21:27:12.631717Z",
     "iopub.status.idle": "2024-06-21T21:27:12.638809Z",
     "shell.execute_reply": "2024-06-21T21:27:12.638194Z",
     "shell.execute_reply.started": "2024-06-21T21:27:12.631930Z"
    }
   },
   "outputs": [],
   "source": [
    "#The sudoku from the problem\n",
    "empty_sudoku = np.array(\n",
    "   [[0, 0, 1, 0, 0, 0, 0, 0, 2],\n",
    "    [0, 0, 0, 3, 0, 4, 5, 0, 0],\n",
    "    [6, 0, 0, 7, 0, 0, 1, 0, 0],\n",
    "    [0, 4, 0, 5, 0, 0, 0, 0, 0],\n",
    "    [0, 2, 0, 0, 0, 0, 0, 8, 0],\n",
    "    [0, 0, 0, 0, 0, 6, 0, 9, 0],\n",
    "    [0, 0, 5, 0, 0, 9, 0, 0, 4],\n",
    "    [0, 0, 8, 2, 0, 1, 0, 0, 0],\n",
    "    [3, 0, 0, 0, 0, 0, 7, 0, 0]]\n",
    ")\n",
    "\n",
    "#a sample sudoku from the internet\n",
    "sample_solution = np.array(\n",
    "    [[7, 1, 3, 5, 2, 4, 6, 9, 8],\n",
    "     [5, 2, 9, 6, 1, 8, 3, 4, 7],\n",
    "     [6, 4, 8, 7, 3, 9,\t2, 5, 1],\n",
    "     [1, 5, 2, 9, 4, 7, 8, 3, 6],\n",
    "     [8, 3, 6, 1, 5, 2, 9, 7, 4],\n",
    "     [4, 9, 7, 3, 8, 6, 5, 1, 2],\n",
    "     [3, 8, 5, 4, 6, 1, 7, 2, 9],\n",
    "     [9, 6,\t1, 2, 7, 5, 4, 8, 3],\n",
    "     [2, 7, 4, 8, 9, 3, 1, 6, 5]]\n",
    ")\n",
    "\n",
    "#the same sample sudoku with some elements deleted\n",
    "empty_sample_solution = np.array(\n",
    "    [[0, 0, 0, 5, 2, 4, 6, 9, 8],\n",
    "     [5, 2, 0, 6, 1, 8, 3, 4, 7],\n",
    "     [6, 4, 8, 7, 3, 9,\t2, 5, 1],\n",
    "     [1, 5, 2, 9, 4, 7, 8, 3, 6],\n",
    "     [8, 3, 6, 1, 5, 2, 9, 7, 4],\n",
    "     [4, 9, 7, 3, 8, 6, 5, 1, 2],\n",
    "     [3, 8, 5, 4, 6, 1, 7, 2, 9],\n",
    "     [9, 6,\t1, 2, 7, 5, 4, 8, 3],\n",
    "     [2, 7, 4, 8, 9, 3, 1, 6, 5]]\n",
    ")\n",
    "\n",
    "#A very empty sudoku\n",
    "very_empty_clues = np.zeros((9,9), dtype = int)\n",
    "very_empty_clues[0,1] = 3\n",
    "very_empty_clues[0,2] = 2\n",
    "very_empty_clues[0,3] = 1"
   ]
  },
  {
   "cell_type": "code",
   "execution_count": 3,
   "id": "54b6d176-a37a-4f62-ac66-b3ea192070ba",
   "metadata": {
    "execution": {
     "iopub.execute_input": "2024-06-21T21:27:12.639668Z",
     "iopub.status.busy": "2024-06-21T21:27:12.639537Z",
     "iopub.status.idle": "2024-06-21T21:27:12.645149Z",
     "shell.execute_reply": "2024-06-21T21:27:12.644759Z",
     "shell.execute_reply.started": "2024-06-21T21:27:12.639656Z"
    }
   },
   "outputs": [
    {
     "data": {
      "text/plain": [
       "array([[7, 1, 3, 5, 2, 4, 6, 9, 8],\n",
       "       [5, 2, 9, 6, 1, 8, 3, 4, 7],\n",
       "       [6, 4, 8, 7, 3, 9, 2, 5, 1],\n",
       "       [1, 5, 2, 9, 4, 7, 8, 3, 6],\n",
       "       [8, 3, 6, 1, 5, 2, 9, 7, 4],\n",
       "       [4, 9, 7, 3, 8, 6, 5, 1, 2],\n",
       "       [3, 8, 5, 4, 6, 1, 7, 2, 9],\n",
       "       [9, 6, 1, 2, 7, 5, 4, 8, 3],\n",
       "       [2, 7, 4, 8, 9, 3, 1, 6, 5]])"
      ]
     },
     "execution_count": 3,
     "metadata": {},
     "output_type": "execute_result"
    }
   ],
   "source": [
    "bin_sample_solution = array_to_vector(sample_solution)\n",
    "vector_to_array(bin_sample_solution)"
   ]
  },
  {
   "cell_type": "code",
   "execution_count": 4,
   "id": "d0fde30c-4a1e-46e8-afa6-16c3b9487789",
   "metadata": {
    "execution": {
     "iopub.execute_input": "2024-06-21T21:27:12.645811Z",
     "iopub.status.busy": "2024-06-21T21:27:12.645675Z",
     "iopub.status.idle": "2024-06-21T21:27:16.178315Z",
     "shell.execute_reply": "2024-06-21T21:27:16.177009Z",
     "shell.execute_reply.started": "2024-06-21T21:27:12.645798Z"
    }
   },
   "outputs": [],
   "source": [
    "for i in range(10):\n",
    "\n",
    "    with Timer(\"Construnct ILP\"):\n",
    "        c, A_full_sparse = constuct_A_sparse_and_c(empty_sudoku)\n",
    "        \n",
    "    with Timer(\"Solve With Scipy\"):\n",
    "        solve_sudoku_scipy(c, A_full_sparse)"
   ]
  },
  {
   "cell_type": "code",
   "execution_count": 5,
   "id": "33cff511-1609-4e91-bb97-7cabd57b2be7",
   "metadata": {
    "execution": {
     "iopub.execute_input": "2024-06-21T21:27:16.179892Z",
     "iopub.status.busy": "2024-06-21T21:27:16.179543Z",
     "iopub.status.idle": "2024-06-21T21:27:16.184179Z",
     "shell.execute_reply": "2024-06-21T21:27:16.183654Z",
     "shell.execute_reply.started": "2024-06-21T21:27:16.179868Z"
    }
   },
   "outputs": [
    {
     "name": "stdout",
     "output_type": "stream",
     "text": [
      "{'Construnct ILP': [3.410415271995589, 0.001855263952165842, 0.0012171929702162743, 0.001215510070323944, 0.0012157168239355087, 0.0012065209448337555, 0.001226307824254036, 0.0012119091115891933, 0.001204789848998189, 0.001217735931277275], 'Solve With Scipy': [0.04845144087448716, 0.0064667749684304, 0.006328934105113149, 0.006302579073235393, 0.0063275001011788845, 0.006320745917037129, 0.006333310855552554, 0.006360648898407817, 0.006415913812816143, 0.006381043000146747]}\n"
     ]
    }
   ],
   "source": [
    "print(Timer.timers)"
   ]
  },
  {
   "cell_type": "code",
   "execution_count": 6,
   "id": "6bab7d2c-d19a-43dd-910b-57bbbd84e6c8",
   "metadata": {
    "execution": {
     "iopub.execute_input": "2024-06-21T21:27:16.185135Z",
     "iopub.status.busy": "2024-06-21T21:27:16.184935Z",
     "iopub.status.idle": "2024-06-21T21:27:16.457524Z",
     "shell.execute_reply": "2024-06-21T21:27:16.456015Z",
     "shell.execute_reply.started": "2024-06-21T21:27:16.185117Z"
    }
   },
   "outputs": [
    {
     "ename": "NameError",
     "evalue": "name 'Error' is not defined",
     "output_type": "error",
     "traceback": [
      "\u001b[0;31m---------------------------------------------------------------------------\u001b[0m",
      "\u001b[0;31mNameError\u001b[0m                                 Traceback (most recent call last)",
      "Cell \u001b[0;32mIn[6], line 1\u001b[0m\n\u001b[0;32m----> 1\u001b[0m \u001b[38;5;28;01mraise\u001b[39;00m \u001b[43mError\u001b[49m\n",
      "\u001b[0;31mNameError\u001b[0m: name 'Error' is not defined"
     ]
    }
   ],
   "source": [
    "raise Error"
   ]
  },
  {
   "cell_type": "code",
   "execution_count": null,
   "id": "8b92fefb-d9eb-44ac-81a5-b1a64e86bf12",
   "metadata": {
    "execution": {
     "iopub.status.busy": "2024-06-21T21:27:16.458421Z",
     "iopub.status.idle": "2024-06-21T21:27:16.458828Z",
     "shell.execute_reply": "2024-06-21T21:27:16.458677Z",
     "shell.execute_reply.started": "2024-06-21T21:27:16.458661Z"
    }
   },
   "outputs": [],
   "source": [
    "with Timer(\"njitted\"):\n",
    "    setup_ILP_njit(empty_sudoku)\n",
    "\n",
    "with Timer(\"normal\"):\n",
    "    setup_ILP_dense(empty_sudoku)\n",
    "\n",
    "print(Timer.timers)"
   ]
  },
  {
   "cell_type": "code",
   "execution_count": null,
   "id": "ee44d066-a793-486b-8f7c-d066406ea608",
   "metadata": {},
   "outputs": [],
   "source": [
    "\n",
    "        \n",
    "\n",
    "\n",
    "\n"
   ]
  },
  {
   "cell_type": "code",
   "execution_count": null,
   "id": "727c1fd7-6aab-49b8-895c-9f86380f0133",
   "metadata": {
    "execution": {
     "iopub.status.busy": "2024-06-21T21:27:16.459800Z",
     "iopub.status.idle": "2024-06-21T21:27:16.460056Z",
     "shell.execute_reply": "2024-06-21T21:27:16.459939Z",
     "shell.execute_reply.started": "2024-06-21T21:27:16.459926Z"
    }
   },
   "outputs": [],
   "source": [
    "with Timer(\"Solve Highs\"):\n",
    "    c, A_full_njit = setup_ILP_njit(empty_sudoku)\n",
    "    A_full_njit_sparse = sp.sparse.csc_matrix(A_full_njit)\n",
    "    #model = solve_sudoku_pisciopt(c, A_full_njit)\n",
    "    solution = solve_sudoku_highspy(c, A_full_njit_sparse)\n",
    "\n",
    "print(vector_to_array(solution))\n",
    "print(Timer.timers)"
   ]
  },
  {
   "cell_type": "code",
   "execution_count": null,
   "id": "35c1f678-ad9e-4a29-9a8f-05a8d095de79",
   "metadata": {
    "execution": {
     "iopub.status.busy": "2024-06-21T21:27:16.460778Z",
     "iopub.status.idle": "2024-06-21T21:27:16.461009Z",
     "shell.execute_reply": "2024-06-21T21:27:16.460906Z",
     "shell.execute_reply.started": "2024-06-21T21:27:16.460894Z"
    }
   },
   "outputs": [],
   "source": [
    "#fastest option\n",
    "with Timer(\"Solve sudoku\"):\n",
    "    c, A_full_njit = setup_ILP_njit(empty_sudoku)\n",
    "    A_sparse_njit =  sp.sparse.csr_matrix(A_full_njit)\n",
    "    res_scipy = solve_sudoku_scipy(c, A_sparse_njit)\n",
    "    \n",
    "\n",
    "print(Timer.timers)\n",
    "    \n",
    "    "
   ]
  },
  {
   "cell_type": "code",
   "execution_count": null,
   "id": "29499ddb-d245-43b8-89d9-02be31b425cd",
   "metadata": {
    "execution": {
     "iopub.status.busy": "2024-06-21T21:27:16.462047Z",
     "iopub.status.idle": "2024-06-21T21:27:16.462278Z",
     "shell.execute_reply": "2024-06-21T21:27:16.462174Z",
     "shell.execute_reply.started": "2024-06-21T21:27:16.462162Z"
    }
   },
   "outputs": [],
   "source": [
    "#fastest option\n",
    "\n",
    "c, A_full_njit = setup_ILP_njit(empty_sudoku)\n",
    "\n",
    "for i in range(10):\n",
    "    A_sparse_njit =  sp.sparse.csr_matrix(A_full_njit)\n",
    "    with Timer(\"CSR\"):\n",
    "        solve_sudoku_scipy(c, A_sparse_njit)\n",
    "    \n",
    "    A_sparse_njit =  sp.sparse.csc_matrix(A_full_njit)\n",
    "    with Timer(\"CSC\"):\n",
    "        solve_sudoku_scipy(c, A_sparse_njit)\n",
    "    \n",
    "\n",
    "print(Timer.timers)\n",
    "    "
   ]
  },
  {
   "cell_type": "code",
   "execution_count": null,
   "id": "d53192c1-70eb-472e-9df7-cd1ce35a5d01",
   "metadata": {
    "execution": {
     "iopub.status.busy": "2024-06-21T21:27:16.462825Z",
     "iopub.status.idle": "2024-06-21T21:27:16.463067Z",
     "shell.execute_reply": "2024-06-21T21:27:16.462955Z",
     "shell.execute_reply.started": "2024-06-21T21:27:16.462943Z"
    }
   },
   "outputs": [],
   "source": [
    "repeats = 8\n",
    "for i in range(repeats):\n",
    "    with Timer(\"1. Setup njit dense\"):\n",
    "        c, A_full_njit_dense = setup_ILP_njit(empty_sudoku)\n",
    "    with Timer(\"2. Scipy solver njit dense\"):\n",
    "        res_scipy = solve_sudoku_scipy(c, A_full_njit_dense)\n",
    "    with Timer(\"3. Gurobi solver njit dense\"):\n",
    "        res_gurobi = solve_sudoku_gurobi(c, A_full_njit_dense )\n",
    "    del c\n",
    "    del A_full_njit_dense \n",
    "\n",
    "    with Timer(\"1. Setup njit sparse\"):\n",
    "        c, A_full_njit_dense = setup_ILP_njit(empty_sudoku)\n",
    "        A_full_njit_sparse = sp.sparse.csc_matrix(A_full_njit_dense)\n",
    "    with Timer(\"2. Scipy solver njit sparse\"):\n",
    "        res_scipy = solve_sudoku_scipy(c, A_full_njit_sparse )\n",
    "    with Timer(\"3. Gurobi solver njit sparse\"):\n",
    "        res_gurobi = solve_sudoku_gurobi(c, A_full_njit_sparse )\n",
    "    with Timer(\"4. Highspy solver njit sparse\"):\n",
    "        res_highspy = solve_sudoku_highspy(c, A_full_njit_sparse )\n",
    "    del c\n",
    "    del A_full_njit_sparse\n",
    "        \n",
    "    with Timer(\"1. Setup sparse_dense\"):\n",
    "        c, A_full_sparse = setup_ILP_sparse_end(empty_sudoku, format = \"csc\", dtype = bool)\n",
    "    with Timer(\"2. Scipy solver sparse_dense\"):\n",
    "        res_scipy = solve_sudoku_scipy(c, A_full_sparse)\n",
    "    with Timer(\"3. Gurobi solver sparse_dense\"):\n",
    "        res_gurobi = solve_sudoku_gurobi(c, A_full_sparse)\n",
    "    del c\n",
    "    del A_full_sparse\n",
    "    \n",
    "    with Timer(\"1. Setup sparse\"):\n",
    "        c, A_full_sparse = setup_ILP_sparse(empty_sudoku, format = \"csc\", dtype = bool)\n",
    "    with Timer(\"2. Scipy solver sparse\"):\n",
    "        res_scipy = solve_sudoku_scipy(c, A_full_sparse)\n",
    "    with Timer(\"3. Gurobi solver sparse\"):\n",
    "        res_gurobi = solve_sudoku_gurobi(c, A_full_sparse)\n",
    "    del c\n",
    "    del A_full_sparse\n",
    "    \n",
    "    with Timer(\"1. Setup dense\"):\n",
    "        c, A_full_dense = setup_ILP_dense(empty_sudoku, dtype = bool)\n",
    "    with Timer(\"2. Scipy solver dense\"):\n",
    "        res_scipy = solve_sudoku_scipy(c, A_full_dense)\n",
    "    with Timer(\"3. Gurobi solver dense\"):\n",
    "        res_gurobi = solve_sudoku_gurobi(c, A_full_dense)\n",
    "    del c\n",
    "    del A_full_dense\n",
    "\n",
    "np.set_printoptions(precision=5)\n",
    "keys = np.sort(list(Timer.timers.keys()))\n",
    "for key in keys:\n",
    "    print(key, \"\\t\\t\", np.array(Timer.timers[key]))"
   ]
  },
  {
   "cell_type": "code",
   "execution_count": null,
   "id": "6e7b142b-82b1-4ed1-bb96-58f0480434ea",
   "metadata": {},
   "outputs": [],
   "source": []
  },
  {
   "cell_type": "code",
   "execution_count": null,
   "id": "bb4dc40e-7428-4c6d-bb9d-3b7890b3a287",
   "metadata": {},
   "outputs": [],
   "source": []
  },
  {
   "cell_type": "code",
   "execution_count": null,
   "id": "e9d25f84-c21c-4307-88f7-66585ed9c7d4",
   "metadata": {},
   "outputs": [],
   "source": []
  }
 ],
 "metadata": {
  "kernelspec": {
   "display_name": "Python 3 (ipykernel)",
   "language": "python",
   "name": "python3"
  },
  "language_info": {
   "codemirror_mode": {
    "name": "ipython",
    "version": 3
   },
   "file_extension": ".py",
   "mimetype": "text/x-python",
   "name": "python",
   "nbconvert_exporter": "python",
   "pygments_lexer": "ipython3",
   "version": "3.12.3"
  }
 },
 "nbformat": 4,
 "nbformat_minor": 5
}
