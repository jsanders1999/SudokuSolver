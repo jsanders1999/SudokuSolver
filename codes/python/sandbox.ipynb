{
 "cells": [
  {
   "cell_type": "markdown",
   "id": "fb5689d8-79aa-416b-91f3-95f9f58f70e4",
   "metadata": {
    "execution": {
     "iopub.execute_input": "2024-06-13T09:45:49.754208Z",
     "iopub.status.busy": "2024-06-13T09:45:49.753643Z",
     "iopub.status.idle": "2024-06-13T09:45:49.790123Z",
     "shell.execute_reply": "2024-06-13T09:45:49.788837Z",
     "shell.execute_reply.started": "2024-06-13T09:45:49.754178Z"
    }
   },
   "source": [
    "[source](https://www.mathworks.com/help/optim/ug/sudoku-puzzles-problem-based.html)"
   ]
  },
  {
   "cell_type": "code",
   "execution_count": 1,
   "id": "4fb08d85-506f-4b7e-a383-634550a10863",
   "metadata": {
    "execution": {
     "iopub.execute_input": "2024-06-21T19:46:52.089553Z",
     "iopub.status.busy": "2024-06-21T19:46:52.089140Z",
     "iopub.status.idle": "2024-06-21T19:46:52.903669Z",
     "shell.execute_reply": "2024-06-21T19:46:52.901822Z",
     "shell.execute_reply.started": "2024-06-21T19:46:52.089526Z"
    }
   },
   "outputs": [],
   "source": [
    "import numpy as np\n",
    "import scipy as sp\n",
    "import matplotlib.pyplot as plt\n",
    "\n",
    "import gurobipy as gp\n",
    "from gurobipy import GRB\n",
    "import highspy\n",
    "\n",
    "from utils.timer import Timer\n",
    "\n",
    "from numba import njit\n",
    "\n",
    "from utils.constraintUtils import *\n",
    "from utils.formattingUtils import *\n",
    "from utils.ILPUtils import *\n"
   ]
  },
  {
   "cell_type": "code",
   "execution_count": 2,
   "id": "617045e7-ad97-48c1-ab3e-78ecc3eb27fa",
   "metadata": {
    "execution": {
     "iopub.execute_input": "2024-06-21T19:46:52.905433Z",
     "iopub.status.busy": "2024-06-21T19:46:52.905041Z",
     "iopub.status.idle": "2024-06-21T19:46:52.916378Z",
     "shell.execute_reply": "2024-06-21T19:46:52.915440Z",
     "shell.execute_reply.started": "2024-06-21T19:46:52.905406Z"
    }
   },
   "outputs": [],
   "source": [
    "#The sudoku from the problem\n",
    "empty_sudoku = np.array(\n",
    "   [[0, 0, 1, 0, 0, 0, 0, 0, 2],\n",
    "    [0, 0, 0, 3, 0, 4, 5, 0, 0],\n",
    "    [6, 0, 0, 7, 0, 0, 1, 0, 0],\n",
    "    [0, 4, 0, 5, 0, 0, 0, 0, 0],\n",
    "    [0, 2, 0, 0, 0, 0, 0, 8, 0],\n",
    "    [0, 0, 0, 0, 0, 6, 0, 9, 0],\n",
    "    [0, 0, 5, 0, 0, 9, 0, 0, 4],\n",
    "    [0, 0, 8, 2, 0, 1, 0, 0, 0],\n",
    "    [3, 0, 0, 0, 0, 0, 7, 0, 0]]\n",
    ")\n",
    "\n",
    "#a sample sudoku from the internet\n",
    "sample_solution = np.array(\n",
    "    [[7, 1, 3, 5, 2, 4, 6, 9, 8],\n",
    "     [5, 2, 9, 6, 1, 8, 3, 4, 7],\n",
    "     [6, 4, 8, 7, 3, 9,\t2, 5, 1],\n",
    "     [1, 5, 2, 9, 4, 7, 8, 3, 6],\n",
    "     [8, 3, 6, 1, 5, 2, 9, 7, 4],\n",
    "     [4, 9, 7, 3, 8, 6, 5, 1, 2],\n",
    "     [3, 8, 5, 4, 6, 1, 7, 2, 9],\n",
    "     [9, 6,\t1, 2, 7, 5, 4, 8, 3],\n",
    "     [2, 7, 4, 8, 9, 3, 1, 6, 5]]\n",
    ")\n",
    "\n",
    "#the same sample sudoku with some elements deleted\n",
    "empty_sample_solution = np.array(\n",
    "    [[0, 0, 0, 5, 2, 4, 6, 9, 8],\n",
    "     [5, 2, 0, 6, 1, 8, 3, 4, 7],\n",
    "     [6, 4, 8, 7, 3, 9,\t2, 5, 1],\n",
    "     [1, 5, 2, 9, 4, 7, 8, 3, 6],\n",
    "     [8, 3, 6, 1, 5, 2, 9, 7, 4],\n",
    "     [4, 9, 7, 3, 8, 6, 5, 1, 2],\n",
    "     [3, 8, 5, 4, 6, 1, 7, 2, 9],\n",
    "     [9, 6,\t1, 2, 7, 5, 4, 8, 3],\n",
    "     [2, 7, 4, 8, 9, 3, 1, 6, 5]]\n",
    ")\n",
    "\n",
    "#A very empty sudoku\n",
    "very_empty_clues = np.zeros((9,9), dtype = int)\n",
    "very_empty_clues[0,1] = 3\n",
    "very_empty_clues[0,2] = 2\n",
    "very_empty_clues[0,3] = 1"
   ]
  },
  {
   "cell_type": "code",
   "execution_count": 3,
   "id": "54b6d176-a37a-4f62-ac66-b3ea192070ba",
   "metadata": {
    "execution": {
     "iopub.execute_input": "2024-06-21T19:46:52.917680Z",
     "iopub.status.busy": "2024-06-21T19:46:52.917445Z",
     "iopub.status.idle": "2024-06-21T19:46:52.927705Z",
     "shell.execute_reply": "2024-06-21T19:46:52.926809Z",
     "shell.execute_reply.started": "2024-06-21T19:46:52.917657Z"
    }
   },
   "outputs": [
    {
     "data": {
      "text/plain": [
       "array([[7, 1, 3, 5, 2, 4, 6, 9, 8],\n",
       "       [5, 2, 9, 6, 1, 8, 3, 4, 7],\n",
       "       [6, 4, 8, 7, 3, 9, 2, 5, 1],\n",
       "       [1, 5, 2, 9, 4, 7, 8, 3, 6],\n",
       "       [8, 3, 6, 1, 5, 2, 9, 7, 4],\n",
       "       [4, 9, 7, 3, 8, 6, 5, 1, 2],\n",
       "       [3, 8, 5, 4, 6, 1, 7, 2, 9],\n",
       "       [9, 6, 1, 2, 7, 5, 4, 8, 3],\n",
       "       [2, 7, 4, 8, 9, 3, 1, 6, 5]])"
      ]
     },
     "execution_count": 3,
     "metadata": {},
     "output_type": "execute_result"
    }
   ],
   "source": [
    "bin_sample_solution = array_to_vector(sample_solution)\n",
    "vector_to_array(bin_sample_solution)"
   ]
  },
  {
   "cell_type": "code",
   "execution_count": 4,
   "id": "eff28508-0ef1-4cb2-959f-122577ada2cd",
   "metadata": {
    "execution": {
     "iopub.execute_input": "2024-06-21T19:46:52.928558Z",
     "iopub.status.busy": "2024-06-21T19:46:52.928355Z",
     "iopub.status.idle": "2024-06-21T19:46:52.935300Z",
     "shell.execute_reply": "2024-06-21T19:46:52.933546Z",
     "shell.execute_reply.started": "2024-06-21T19:46:52.928538Z"
    }
   },
   "outputs": [],
   "source": [
    "def setup_ILP_sparse(clue_array, format = \"csr\", dtype = int):\n",
    "    clues_inds_rows, clues_inds_cols, clues_vals = sudoku_array_to_clues(clue_array)\n",
    "    \n",
    "    A_one_val = generate_one_value_constr_sparse(format = format, dtype = dtype)\n",
    "    A_row = generate_row_uniq_constr_sparse(format = format, dtype = dtype)\n",
    "    A_col = generate_col_uniq_constr_sparse(format = format, dtype = dtype)\n",
    "    A_block = generate_block_uniq_constr_sparse(format = format, dtype = dtype)\n",
    "    A_clues = generate_clues_contr_sparse(clues_inds_rows, clues_inds_cols, clues_vals, format = format, dtype = dtype)\n",
    "\n",
    "    A_full = sp.sparse.vstack((A_one_val, A_row, A_col, A_block, A_clues), format = format)\n",
    "    c = np.linspace(0,1,A_full.shape[1]) #np.zeros(solution_size, dtype = np.float64)\n",
    "    return c, A_full, A_one_val, A_row, A_col, A_block, A_clues"
   ]
  },
  {
   "cell_type": "code",
   "execution_count": 5,
   "id": "c92fe84e-5aa1-4bbb-9ae1-79fcad138254",
   "metadata": {
    "execution": {
     "iopub.execute_input": "2024-06-21T19:46:52.937519Z",
     "iopub.status.busy": "2024-06-21T19:46:52.937059Z",
     "iopub.status.idle": "2024-06-21T19:46:53.084088Z",
     "shell.execute_reply": "2024-06-21T19:46:53.083194Z",
     "shell.execute_reply.started": "2024-06-21T19:46:52.937494Z"
    }
   },
   "outputs": [],
   "source": [
    "c, A_full, A_one_val, A_row, A_col, A_block, A_clues = setup_ILP_sparse(empty_sudoku, format = \"csr\", dtype = int)"
   ]
  },
  {
   "cell_type": "code",
   "execution_count": 8,
   "id": "49e01cad-4865-4f07-a6bf-d650216e9ac2",
   "metadata": {
    "execution": {
     "iopub.execute_input": "2024-06-21T19:47:39.011167Z",
     "iopub.status.busy": "2024-06-21T19:47:39.010663Z",
     "iopub.status.idle": "2024-06-21T19:47:39.019589Z",
     "shell.execute_reply": "2024-06-21T19:47:39.018163Z",
     "shell.execute_reply.started": "2024-06-21T19:47:39.011129Z"
    }
   },
   "outputs": [],
   "source": [
    "clues_inds_rows, clues_inds_cols, clues_vals = sudoku_array_to_clues(empty_sudoku)\n",
    "\n",
    "row_inds = np.arange(clues_vals.shape[0])\n",
    "col_inds = NVALS*NCOLS*clues_inds_rows + NVALS*clues_inds_cols + clues_vals-1"
   ]
  },
  {
   "cell_type": "code",
   "execution_count": 9,
   "id": "2ed67a8c-8d68-4e8a-8197-3e33e541be4a",
   "metadata": {
    "execution": {
     "iopub.execute_input": "2024-06-21T19:47:40.073926Z",
     "iopub.status.busy": "2024-06-21T19:47:40.073258Z",
     "iopub.status.idle": "2024-06-21T19:47:40.082488Z",
     "shell.execute_reply": "2024-06-21T19:47:40.081153Z",
     "shell.execute_reply.started": "2024-06-21T19:47:40.073896Z"
    }
   },
   "outputs": [
    {
     "data": {
      "text/plain": [
       "array([ 0,  1,  2,  3,  4,  5,  6,  7,  8,  9, 10, 11, 12, 13, 14, 15, 16,\n",
       "       17, 18, 19, 20, 21])"
      ]
     },
     "execution_count": 9,
     "metadata": {},
     "output_type": "execute_result"
    }
   ],
   "source": [
    "row_inds"
   ]
  },
  {
   "cell_type": "code",
   "execution_count": 10,
   "id": "c8929a8b-9f2c-4bee-a182-74fae010eb39",
   "metadata": {
    "execution": {
     "iopub.execute_input": "2024-06-21T19:47:41.010852Z",
     "iopub.status.busy": "2024-06-21T19:47:41.010472Z",
     "iopub.status.idle": "2024-06-21T19:47:41.019927Z",
     "shell.execute_reply": "2024-06-21T19:47:41.018730Z",
     "shell.execute_reply.started": "2024-06-21T19:47:41.010824Z"
    }
   },
   "outputs": [
    {
     "data": {
      "text/plain": [
       "array([ 18,  73, 110, 129, 139, 167, 195, 216, 255, 274, 334, 394, 455,\n",
       "       476, 508, 539, 561, 592, 595, 612, 650, 708])"
      ]
     },
     "execution_count": 10,
     "metadata": {},
     "output_type": "execute_result"
    }
   ],
   "source": [
    "col_inds"
   ]
  },
  {
   "cell_type": "code",
   "execution_count": 11,
   "id": "a3f06daa-7e02-4f41-83ec-3be775e9901a",
   "metadata": {
    "execution": {
     "iopub.execute_input": "2024-06-21T19:47:56.008795Z",
     "iopub.status.busy": "2024-06-21T19:47:56.008105Z",
     "iopub.status.idle": "2024-06-21T19:47:56.018661Z",
     "shell.execute_reply": "2024-06-21T19:47:56.017236Z",
     "shell.execute_reply.started": "2024-06-21T19:47:56.008738Z"
    }
   },
   "outputs": [
    {
     "data": {
      "text/plain": [
       "array([ 18,  73, 110, 129, 139, 167, 195, 216, 255, 274, 334, 394, 455,\n",
       "       476, 508, 539, 561, 592, 595, 612, 650, 708], dtype=int32)"
      ]
     },
     "execution_count": 11,
     "metadata": {},
     "output_type": "execute_result"
    }
   ],
   "source": [
    "A_clues.indices"
   ]
  },
  {
   "cell_type": "code",
   "execution_count": 12,
   "id": "a32d8b6b-d025-4cc0-99f0-1f8534d4720e",
   "metadata": {
    "execution": {
     "iopub.execute_input": "2024-06-21T19:48:05.058924Z",
     "iopub.status.busy": "2024-06-21T19:48:05.058502Z",
     "iopub.status.idle": "2024-06-21T19:48:05.068437Z",
     "shell.execute_reply": "2024-06-21T19:48:05.067195Z",
     "shell.execute_reply.started": "2024-06-21T19:48:05.058891Z"
    }
   },
   "outputs": [
    {
     "data": {
      "text/plain": [
       "array([ 0,  1,  2,  3,  4,  5,  6,  7,  8,  9, 10, 11, 12, 13, 14, 15, 16,\n",
       "       17, 18, 19, 20, 21, 22], dtype=int32)"
      ]
     },
     "execution_count": 12,
     "metadata": {},
     "output_type": "execute_result"
    }
   ],
   "source": [
    "A_clues.indptr"
   ]
  },
  {
   "cell_type": "code",
   "execution_count": null,
   "id": "020fd8fa-e356-4619-8c0d-3f27dad7cfdc",
   "metadata": {
    "execution": {
     "iopub.status.busy": "2024-06-21T19:46:53.361288Z",
     "iopub.status.idle": "2024-06-21T19:46:53.361584Z",
     "shell.execute_reply": "2024-06-21T19:46:53.361459Z",
     "shell.execute_reply.started": "2024-06-21T19:46:53.361446Z"
    }
   },
   "outputs": [],
   "source": [
    "indptr = np.hstack([i*np.ones(n, dtype = int) for i, n in enumerate([col_inds[0]+1, *np.diff(col_inds), 9**3-col_inds[-1]])])\n",
    "indptr - A_clues.indptr"
   ]
  },
  {
   "cell_type": "code",
   "execution_count": null,
   "id": "a5bf5528-0456-4574-ae66-c22880e44c3b",
   "metadata": {
    "execution": {
     "iopub.status.busy": "2024-06-21T19:46:53.362946Z",
     "iopub.status.idle": "2024-06-21T19:46:53.363359Z",
     "shell.execute_reply": "2024-06-21T19:46:53.363236Z",
     "shell.execute_reply.started": "2024-06-21T19:46:53.363224Z"
    }
   },
   "outputs": [],
   "source": [
    "indices = row_inds\n",
    "indptr = "
   ]
  },
  {
   "cell_type": "code",
   "execution_count": null,
   "id": "d54cec05-4e9d-4333-903f-1535b642ea26",
   "metadata": {
    "execution": {
     "iopub.status.busy": "2024-06-21T19:46:53.364140Z",
     "iopub.status.idle": "2024-06-21T19:46:53.364387Z",
     "shell.execute_reply": "2024-06-21T19:46:53.364273Z",
     "shell.execute_reply.started": "2024-06-21T19:46:53.364261Z"
    }
   },
   "outputs": [],
   "source": [
    "A_clues.data - np.ones_like(row_inds)"
   ]
  },
  {
   "cell_type": "code",
   "execution_count": null,
   "id": "e4d033c9-d3c4-4fd7-b654-2890e55decd8",
   "metadata": {
    "execution": {
     "iopub.status.busy": "2024-06-21T19:46:53.365131Z",
     "iopub.status.idle": "2024-06-21T19:46:53.365368Z",
     "shell.execute_reply": "2024-06-21T19:46:53.365254Z",
     "shell.execute_reply.started": "2024-06-21T19:46:53.365242Z"
    }
   },
   "outputs": [],
   "source": [
    "A_clues.indices - row_inds"
   ]
  },
  {
   "cell_type": "code",
   "execution_count": null,
   "id": "8e68e507-fdde-44cb-9bf7-b100b8a248c7",
   "metadata": {
    "execution": {
     "iopub.status.busy": "2024-06-21T19:46:53.366063Z",
     "iopub.status.idle": "2024-06-21T19:46:53.366318Z",
     "shell.execute_reply": "2024-06-21T19:46:53.366202Z",
     "shell.execute_reply.started": "2024-06-21T19:46:53.366189Z"
    }
   },
   "outputs": [],
   "source": [
    "# tot = -1\n",
    "# for value in set(A_clues.indptr):\n",
    "#     tot += len(np.where(A_clues.indptr == value)[0])\n",
    "#     print(tot)"
   ]
  },
  {
   "cell_type": "code",
   "execution_count": null,
   "id": "c1fbb977-ff8e-4bda-b6f9-c11ed72242c0",
   "metadata": {
    "execution": {
     "iopub.status.busy": "2024-06-21T19:46:53.367328Z",
     "iopub.status.idle": "2024-06-21T19:46:53.367566Z",
     "shell.execute_reply": "2024-06-21T19:46:53.367458Z",
     "shell.execute_reply.started": "2024-06-21T19:46:53.367446Z"
    }
   },
   "outputs": [],
   "source": [
    "A_clues.indptr"
   ]
  },
  {
   "cell_type": "code",
   "execution_count": 30,
   "id": "40e57e2d-e217-4ae3-9e86-e694b6db4d42",
   "metadata": {
    "execution": {
     "iopub.execute_input": "2024-06-21T19:56:57.129717Z",
     "iopub.status.busy": "2024-06-21T19:56:57.129001Z",
     "iopub.status.idle": "2024-06-21T19:56:57.140582Z",
     "shell.execute_reply": "2024-06-21T19:56:57.139190Z",
     "shell.execute_reply.started": "2024-06-21T19:56:57.129660Z"
    }
   },
   "outputs": [
    {
     "data": {
      "text/plain": [
       "array([ 0,  9, 18, 27, 36, 45, 54, 63, 72,  1, 10, 19, 28, 37, 46, 55, 64,\n",
       "       73,  2, 11, 20, 29, 38, 47, 56, 65, 74,  3, 12, 21, 30, 39, 48, 57,\n",
       "       66, 75,  4, 13, 22, 31, 40, 49, 58, 67, 76,  5, 14, 23, 32, 41, 50,\n",
       "       59, 68, 77,  6, 15, 24, 33, 42, 51, 60, 69, 78,  7, 16, 25, 34, 43,\n",
       "       52, 61, 70, 79,  8, 17, 26, 35, 44, 53, 62, 71, 80])"
      ]
     },
     "execution_count": 30,
     "metadata": {},
     "output_type": "execute_result"
    }
   ],
   "source": [
    "kron_sum(np.arange(0,9,1), np.arange(0,81,9)).flatten()"
   ]
  },
  {
   "cell_type": "code",
   "execution_count": 32,
   "id": "acddfab3-56f3-406b-a835-0c989461633f",
   "metadata": {
    "execution": {
     "iopub.execute_input": "2024-06-21T19:57:36.008769Z",
     "iopub.status.busy": "2024-06-21T19:57:36.008058Z",
     "iopub.status.idle": "2024-06-21T19:57:36.019621Z",
     "shell.execute_reply": "2024-06-21T19:57:36.018879Z",
     "shell.execute_reply.started": "2024-06-21T19:57:36.008703Z"
    }
   },
   "outputs": [
    {
     "data": {
      "text/plain": [
       "array([ 0,  9, 18, 27, 36, 45, 54, 63, 72,  1, 10, 19, 28, 37, 46, 55, 64,\n",
       "       73,  2, 11, 20, 29, 38, 47, 56, 65, 74,  3, 12, 21, 30, 39, 48, 57,\n",
       "       66, 75,  4, 13, 22, 31, 40, 49, 58, 67, 76,  5, 14, 23, 32, 41, 50,\n",
       "       59, 68, 77,  6, 15, 24, 33, 42, 51, 60, 69, 78,  7, 16, 25, 34, 43,\n",
       "       52, 61, 70, 79,  8, 17, 26, 35, 44, 53, 62, 71, 80])"
      ]
     },
     "execution_count": 32,
     "metadata": {},
     "output_type": "execute_result"
    }
   ],
   "source": [
    "(np.arange(0,9,1)[:,None] + np.arange(0,81,9)[None,:]).flatten()"
   ]
  },
  {
   "cell_type": "code",
   "execution_count": 33,
   "id": "cf82a054-9a3c-4eb7-bc5f-e0908a679a83",
   "metadata": {
    "execution": {
     "iopub.execute_input": "2024-06-21T19:58:18.014847Z",
     "iopub.status.busy": "2024-06-21T19:58:18.012780Z",
     "iopub.status.idle": "2024-06-21T19:58:18.021244Z",
     "shell.execute_reply": "2024-06-21T19:58:18.019717Z",
     "shell.execute_reply.started": "2024-06-21T19:58:18.014789Z"
    }
   },
   "outputs": [],
   "source": [
    "@njit\n",
    "def kron_sum(a,b):\n",
    "    return (a[:,None] + b[None,:]).flatten()"
   ]
  },
  {
   "cell_type": "code",
   "execution_count": 35,
   "id": "92b70cb6-a6df-4b6d-87e2-a00fd94a1e31",
   "metadata": {
    "execution": {
     "iopub.execute_input": "2024-06-21T19:58:48.008695Z",
     "iopub.status.busy": "2024-06-21T19:58:48.008212Z",
     "iopub.status.idle": "2024-06-21T19:58:48.541387Z",
     "shell.execute_reply": "2024-06-21T19:58:48.540470Z",
     "shell.execute_reply.started": "2024-06-21T19:58:48.008657Z"
    }
   },
   "outputs": [
    {
     "data": {
      "text/plain": [
       "array([ 0,  9, 18, 27, 36, 45, 54, 63, 72,  1, 10, 19, 28, 37, 46, 55, 64,\n",
       "       73,  2, 11, 20, 29, 38, 47, 56, 65, 74,  3, 12, 21, 30, 39, 48, 57,\n",
       "       66, 75,  4, 13, 22, 31, 40, 49, 58, 67, 76,  5, 14, 23, 32, 41, 50,\n",
       "       59, 68, 77,  6, 15, 24, 33, 42, 51, 60, 69, 78,  7, 16, 25, 34, 43,\n",
       "       52, 61, 70, 79,  8, 17, 26, 35, 44, 53, 62, 71, 80])"
      ]
     },
     "execution_count": 35,
     "metadata": {},
     "output_type": "execute_result"
    }
   ],
   "source": [
    "kron_sum(np.arange(0,9,1), np.arange(0,81,9))"
   ]
  },
  {
   "cell_type": "code",
   "execution_count": 26,
   "id": "61619c77-4a14-46a6-ad59-773a6c56bfb0",
   "metadata": {
    "execution": {
     "iopub.execute_input": "2024-06-21T19:55:17.080804Z",
     "iopub.status.busy": "2024-06-21T19:55:17.080125Z",
     "iopub.status.idle": "2024-06-21T19:55:17.089498Z",
     "shell.execute_reply": "2024-06-21T19:55:17.088450Z",
     "shell.execute_reply.started": "2024-06-21T19:55:17.080748Z"
    }
   },
   "outputs": [
    {
     "data": {
      "text/plain": [
       "uint32"
      ]
     },
     "execution_count": 26,
     "metadata": {},
     "output_type": "execute_result"
    }
   ],
   "source": [
    "numba.uint32"
   ]
  },
  {
   "cell_type": "code",
   "execution_count": 147,
   "id": "a3e3888e-921c-4213-a40d-35cbd7b785d4",
   "metadata": {
    "execution": {
     "iopub.execute_input": "2024-06-21T21:02:35.034303Z",
     "iopub.status.busy": "2024-06-21T21:02:35.033691Z",
     "iopub.status.idle": "2024-06-21T21:02:35.049980Z",
     "shell.execute_reply": "2024-06-21T21:02:35.049340Z",
     "shell.execute_reply.started": "2024-06-21T21:02:35.034276Z"
    }
   },
   "outputs": [],
   "source": [
    "A_one_val.indices\n",
    "A_one_val.indptr\n",
    "\n",
    "@njit\n",
    "def generate_sparse_one_val(dtype = numba.uint32):\n",
    "    indices = np.arange(0,NCOLS*NROWS*NVALS,)\n",
    "    indptr = np.arange(0, (NCOLS*NROWS*NVALS+1), NVALS)\n",
    "    data = np.ones((NCOLS*NROWS*NVALS), dtype = dtype)\n",
    "    return data, indices, indptr\n",
    "\n",
    "@njit\n",
    "def generate_sparse_row(dtype = numba.uint32):\n",
    "    indices = kron_sum(np.arange(0,9**3, 9**2), kron_sum(np.arange(0,9,1), np.arange(0,81,9)))   \n",
    "    indptr = np.arange(0, (NCOLS*NROWS*NVALS+1), NVALS)\n",
    "    data = np.ones((NCOLS*NROWS*NVALS), dtype = dtype)\n",
    "    return data, indices, indptr\n",
    "\n",
    "@njit\n",
    "def generate_sparse_col(dtype = numba.uint32):\n",
    "    indices = kron_sum(np.arange(0,81,1), np.arange(0,9**3, 9**2))\n",
    "    indptr = np.arange(0, (NCOLS*NROWS*NVALS+1), NVALS)\n",
    "    data = np.ones((NCOLS*NROWS*NVALS), dtype = dtype)\n",
    "    return data, indices, indptr\n",
    "\n",
    "@njit\n",
    "def generate_sparse_block(dtype = numba.uint32):\n",
    "    indices = kron_sum(np.arange(0,9**3, 9**2*3), kron_sum( np.arange(0, 9*9, 9*3), kron_sum(np.arange(0,9,1), kron_sum(np.arange(0,9**2*3,9**2), np.arange(0,3*9, 9)))))\n",
    "    indptr = np.arange(0, (NCOLS*NROWS*NVALS+1), NVALS)\n",
    "    data = np.ones((NCOLS*NROWS*NVALS), dtype = dtype)\n",
    "    return data, indices, indptr\n",
    "\n",
    "@njit\n",
    "def generate_sparse_clues(clues_inds_rows, clues_inds_cols, clues_vals, dtype = numba.uint32):\n",
    "    row_inds = np.arange(clues_vals.shape[0])\n",
    "    col_inds = NVALS*NCOLS*clues_inds_rows + NVALS*clues_inds_cols + clues_vals-1\n",
    "    indices = col_inds\n",
    "    indptr = np.arange(row_inds.shape[0]+1)\n",
    "    data = np.ones((len(col_inds)), dtype = dtype)\n",
    "    return data, indices, indptr\n",
    "\n",
    "@njit\n",
    "def generate_sparse_constaints(clues_array):\n",
    "    data_0, indices_0, indptr_0 = generate_sparse_one_val()\n",
    "    data_1, indices_1, indptr_1 = generate_sparse_row()\n",
    "    data_2, indices_2, indptr_2 = generate_sparse_col()\n",
    "    data_3, indices_3, indptr_3 = generate_sparse_block()\n",
    "    clues_inds_rows, clues_inds_cols, clues_vals = sudoku_array_to_clues_njit(empty_sudoku)\n",
    "    data_4, indices_4, indptr_4 = generate_sparse_clues(clues_inds_rows, clues_inds_cols, clues_vals)\n",
    "\n",
    "    data_list = [data_0, data_1, data_2, data_3, data_4]\n",
    "    indices_list = [indices_0, indices_1, indices_2, indices_3, indices_4]\n",
    "    indptr_list = [indptr_0, indptr_1, indptr_2, indptr_3, indptr_4]\n",
    "    shape_list = [(9**2, 9**3), (9**2, 9**3), (9**2, 9**3), (9**2, 9**3), (len(indptr_list[4]), 9**3)]\n",
    "    \n",
    "    return data_list, indices_list, indptr_list, shape_list\n",
    "\n",
    "@njit\n",
    "def concat(arr_list):\n",
    "    return [j for arr in arr_list for j in arr]\n",
    "\n",
    "@njit\n",
    "def count_concat(arr_list):\n",
    "    offset = 0\n",
    "    new_arr_list = arr_list #[None]*len(arr_list)#np.empty((len(arr_list))).tolist()\n",
    "    for i, arr in enumerate(arr_list):\n",
    "        new_arr_list[i] =  arr + offset\n",
    "        offset += arr[-1]\n",
    "    return concat(new_arr_list)\n",
    "\n",
    "@njit\n",
    "def stack_sparse_matrices(data_list, indices_list, indptr_list, shape_list):\n",
    "    data = concat(data_list)\n",
    "    indices = concat(indices_list)\n",
    "    indptr = count_concat([indptr_list[1]] + [indices[1:] for indices in indptr_list[1:]])\n",
    "    shape = (sum( [shape[0] for shape in shape_list])-1, 9**3)\n",
    "    return data, indices, indptr, shape\n",
    "\n",
    "\n",
    "\n",
    "    \n",
    "\n"
   ]
  },
  {
   "cell_type": "code",
   "execution_count": 149,
   "id": "3df7af2c-cfe1-4b35-bafe-95b4fac70a8b",
   "metadata": {
    "execution": {
     "iopub.execute_input": "2024-06-21T21:02:40.010639Z",
     "iopub.status.busy": "2024-06-21T21:02:40.008991Z",
     "iopub.status.idle": "2024-06-21T21:02:40.015422Z",
     "shell.execute_reply": "2024-06-21T21:02:40.014622Z",
     "shell.execute_reply.started": "2024-06-21T21:02:40.010560Z"
    }
   },
   "outputs": [],
   "source": [
    "data_list, indices_list, indptr_list, shape_list = generate_sparse_constaints(empty_sudoku)\n",
    "\n",
    "data, indices, indptr, shape = stack_sparse_matrices(data_list, indices_list, indptr_list, shape_list)"
   ]
  },
  {
   "cell_type": "code",
   "execution_count": 41,
   "id": "9f909460-f106-4bc8-997f-6981c908d2f1",
   "metadata": {
    "execution": {
     "iopub.execute_input": "2024-06-21T20:01:11.014651Z",
     "iopub.status.busy": "2024-06-21T20:01:11.013962Z",
     "iopub.status.idle": "2024-06-21T20:01:11.886342Z",
     "shell.execute_reply": "2024-06-21T20:01:11.885496Z",
     "shell.execute_reply.started": "2024-06-21T20:01:11.014595Z"
    }
   },
   "outputs": [
    {
     "name": "stdout",
     "output_type": "stream",
     "text": [
      "[]\n",
      "[]\n",
      "[]\n",
      "[]\n",
      "[]\n"
     ]
    }
   ],
   "source": [
    "A_one_val_sparse = sp.sparse.csr_matrix(generate_sparse_one_val())\n",
    "print((A_one_val_sparse - A_one_val).data)\n",
    "A_row_sparse = sp.sparse.csr_matrix(generate_sparse_row())\n",
    "print((A_row_sparse - A_row).data)\n",
    "A_col_sparse = sp.sparse.csr_matrix(generate_sparse_col())\n",
    "print((A_col_sparse - A_col).data)\n",
    "A_block_sparse = sp.sparse.csr_matrix(generate_sparse_block())\n",
    "print((A_block_sparse - A_block).data)\n",
    "\n",
    "clues_inds_rows, clues_inds_cols, clues_vals = sudoku_array_to_clues(empty_sudoku)\n",
    "A_clues_sparse = sp.sparse.csr_matrix(generate_sparse_clues(data, indices, indptr), shape = (len(indptr), 9**3))\n",
    "print((A_clues_sparse - A_clues).data)\n",
    "\n"
   ]
  },
  {
   "cell_type": "code",
   "execution_count": 55,
   "id": "37c665ac-8298-46d1-84c2-a686dc8fb85b",
   "metadata": {
    "execution": {
     "iopub.execute_input": "2024-06-21T20:22:46.008194Z",
     "iopub.status.busy": "2024-06-21T20:22:46.007807Z",
     "iopub.status.idle": "2024-06-21T20:22:46.017938Z",
     "shell.execute_reply": "2024-06-21T20:22:46.016447Z",
     "shell.execute_reply.started": "2024-06-21T20:22:46.008166Z"
    }
   },
   "outputs": [
    {
     "data": {
      "text/plain": [
       "(22, 729)"
      ]
     },
     "execution_count": 55,
     "metadata": {},
     "output_type": "execute_result"
    }
   ],
   "source": [
    "A_clues.shape"
   ]
  },
  {
   "cell_type": "code",
   "execution_count": 49,
   "id": "605a26d2-dfa7-4461-961b-cb9a6da091b0",
   "metadata": {
    "execution": {
     "iopub.execute_input": "2024-06-21T20:20:34.112568Z",
     "iopub.status.busy": "2024-06-21T20:20:34.112078Z",
     "iopub.status.idle": "2024-06-21T20:20:34.123557Z",
     "shell.execute_reply": "2024-06-21T20:20:34.122315Z",
     "shell.execute_reply.started": "2024-06-21T20:20:34.112526Z"
    }
   },
   "outputs": [],
   "source": []
  },
  {
   "cell_type": "code",
   "execution_count": 130,
   "id": "cf407fb0-5239-4205-8b57-6c2807d88bef",
   "metadata": {
    "execution": {
     "iopub.execute_input": "2024-06-21T20:53:26.128321Z",
     "iopub.status.busy": "2024-06-21T20:53:26.127640Z",
     "iopub.status.idle": "2024-06-21T20:53:27.472815Z",
     "shell.execute_reply": "2024-06-21T20:53:27.472287Z",
     "shell.execute_reply.started": "2024-06-21T20:53:26.128264Z"
    }
   },
   "outputs": [
    {
     "name": "stdout",
     "output_type": "stream",
     "text": [
      "[0, 9, 18, 27, 36, 45, 54, 63, 72, 81, 90, 99, 108, 117, 126, 135, 144, 153, 162, 171, 180, 189, 198, 207, 216, 225, 234, 243, 252, 261, 270, 279, 288, 297, 306, 315, 324, 333, 342, 351, 360, 369, 378, 387, 396, 405, 414, 423, 432, 441, 450, 459, 468, 477, 486, 495, 504, 513, 522, 531, 540, 549, 558, 567, 576, 585, 594, 603, 612, 621, 630, 639, 648, 657, 666, 675, 684, 693, 702, 711, 720, 729, 738, 747, 756, 765, 774, 783, 792, 801, 810, 819, 828, 837, 846, 855, 864, 873, 882, 891, 900, 909, 918, 927, 936, 945, 954, 963, 972, 981, 990, 999, 1008, 1017, 1026, 1035, 1044, 1053, 1062, 1071, 1080, 1089, 1098, 1107, 1116, 1125, 1134, 1143, 1152, 1161, 1170, 1179, 1188, 1197, 1206, 1215, 1224, 1233, 1242, 1251, 1260, 1269, 1278, 1287, 1296, 1305, 1314, 1323, 1332, 1341, 1350, 1359, 1368, 1377, 1386, 1395, 1404, 1413, 1422, 1431, 1440, 1449, 1458, 1467, 1476, 1485, 1494, 1503, 1512, 1521, 1530, 1539, 1548, 1557, 1566, 1575, 1584, 1593, 1602, 1611, 1620, 1629, 1638, 1647, 1656, 1665, 1674, 1683, 1692, 1701, 1710, 1719, 1728, 1737, 1746, 1755, 1764, 1773, 1782, 1791, 1800, 1809, 1818, 1827, 1836, 1845, 1854, 1863, 1872, 1881, 1890, 1899, 1908, 1917, 1926, 1935, 1944, 1953, 1962, 1971, 1980, 1989, 1998, 2007, 2016, 2025, 2034, 2043, 2052, 2061, 2070, 2079, 2088, 2097, 2106, 2115, 2124, 2133, 2142, 2151, 2160, 2169, 2178, 2187, 2196, 2205, 2214, 2223, 2232, 2241, 2250, 2259, 2268, 2277, 2286, 2295, 2304, 2313, 2322, 2331, 2340, 2349, 2358, 2367, 2376, 2385, 2394, 2403, 2412, 2421, 2430, 2439, 2448, 2457, 2466, 2475, 2484, 2493, 2502, 2511, 2520, 2529, 2538, 2547, 2556, 2565, 2574, 2583, 2592, 2601, 2610, 2619, 2628, 2637, 2646, 2655, 2664, 2673, 2682, 2691, 2700, 2709, 2718, 2727, 2736, 2745, 2754, 2763, 2772, 2781, 2790, 2799, 2808, 2817, 2826, 2835, 2844, 2853, 2862, 2871, 2880, 2889, 2898, 2907, 2916, 2917, 2918, 2919, 2920, 2921, 2922, 2923, 2924, 2925, 2926, 2927, 2928, 2929, 2930, 2931, 2932, 2933, 2934, 2935, 2936, 2937, 2938]\n"
     ]
    }
   ],
   "source": [
    "\n",
    "import itertools\n",
    "\n",
    "\n",
    "\n",
    "\n",
    "\n",
    "A_full_sparse = sp.sparse.csr_matrix((data, indices, indptr))#, shape = shape)"
   ]
  },
  {
   "cell_type": "code",
   "execution_count": 131,
   "id": "20e96f98-9696-4cad-9788-9cbea33561ad",
   "metadata": {
    "execution": {
     "iopub.execute_input": "2024-06-21T20:53:30.010641Z",
     "iopub.status.busy": "2024-06-21T20:53:30.008946Z",
     "iopub.status.idle": "2024-06-21T20:53:30.015918Z",
     "shell.execute_reply": "2024-06-21T20:53:30.015236Z",
     "shell.execute_reply.started": "2024-06-21T20:53:30.010560Z"
    }
   },
   "outputs": [
    {
     "data": {
      "text/plain": [
       "array([], dtype=int64)"
      ]
     },
     "execution_count": 131,
     "metadata": {},
     "output_type": "execute_result"
    }
   ],
   "source": [
    "(A_full_sparse - A_full).data"
   ]
  },
  {
   "cell_type": "code",
   "execution_count": 132,
   "id": "33369951-7e19-41ef-99ec-41080be41bb3",
   "metadata": {
    "execution": {
     "iopub.execute_input": "2024-06-21T20:53:32.009603Z",
     "iopub.status.busy": "2024-06-21T20:53:32.008075Z",
     "iopub.status.idle": "2024-06-21T20:53:32.142161Z",
     "shell.execute_reply": "2024-06-21T20:53:32.141669Z",
     "shell.execute_reply.started": "2024-06-21T20:53:32.009535Z"
    }
   },
   "outputs": [
    {
     "data": {
      "text/plain": [
       "<matplotlib.image.AxesImage at 0x7f40e6b94c20>"
      ]
     },
     "execution_count": 132,
     "metadata": {},
     "output_type": "execute_result"
    },
    {
     "data": {
      "image/png": "[encoded data removed]",
      "text/plain": [
       "<Figure size 640x480 with 1 Axes>"
      ]
     },
     "metadata": {},
     "output_type": "display_data"
    }
   ],
   "source": [
    "plt.imshow(A_full_sparse.todense())"
   ]
  },
  {
   "cell_type": "code",
   "execution_count": 73,
   "id": "c4d9d022-5a9a-49ba-b484-2f9e96dbf88e",
   "metadata": {
    "execution": {
     "iopub.execute_input": "2024-06-21T20:31:15.009960Z",
     "iopub.status.busy": "2024-06-21T20:31:15.009324Z",
     "iopub.status.idle": "2024-06-21T20:31:15.206888Z",
     "shell.execute_reply": "2024-06-21T20:31:15.205779Z",
     "shell.execute_reply.started": "2024-06-21T20:31:15.009914Z"
    }
   },
   "outputs": [
    {
     "data": {
      "text/plain": [
       "<matplotlib.image.AxesImage at 0x7f40e823eba0>"
      ]
     },
     "execution_count": 73,
     "metadata": {},
     "output_type": "execute_result"
    },
    {
     "data": {
      "image/png": "[encoded data removed]",
      "text/plain": [
       "<Figure size 640x480 with 1 Axes>"
      ]
     },
     "metadata": {},
     "output_type": "display_data"
    }
   ],
   "source": [
    "plt.imshow(A_full.todense())"
   ]
  },
  {
   "cell_type": "code",
   "execution_count": 67,
   "id": "e8fdb779-c518-4361-9ccd-fc77b5fc7640",
   "metadata": {
    "execution": {
     "iopub.execute_input": "2024-06-21T20:26:35.009090Z",
     "iopub.status.busy": "2024-06-21T20:26:35.008493Z",
     "iopub.status.idle": "2024-06-21T20:26:35.172747Z",
     "shell.execute_reply": "2024-06-21T20:26:35.171193Z",
     "shell.execute_reply.started": "2024-06-21T20:26:35.009042Z"
    }
   },
   "outputs": [
    {
     "data": {
      "text/plain": [
       "[<matplotlib.lines.Line2D at 0x7f40e8198710>]"
      ]
     },
     "execution_count": 67,
     "metadata": {},
     "output_type": "execute_result"
    },
    {
     "data": {
      "image/png": "[encoded data removed]",
      "text/plain": [
       "<Figure size 640x480 with 1 Axes>"
      ]
     },
     "metadata": {},
     "output_type": "display_data"
    }
   ],
   "source": [
    "plt.plot(A_full.indptr)"
   ]
  },
  {
   "cell_type": "code",
   "execution_count": 68,
   "id": "c1c769a4-85f9-4008-b541-3e74d520190a",
   "metadata": {
    "execution": {
     "iopub.execute_input": "2024-06-21T20:26:55.034420Z",
     "iopub.status.busy": "2024-06-21T20:26:55.033714Z",
     "iopub.status.idle": "2024-06-21T20:26:55.200596Z",
     "shell.execute_reply": "2024-06-21T20:26:55.199335Z",
     "shell.execute_reply.started": "2024-06-21T20:26:55.034359Z"
    }
   },
   "outputs": [
    {
     "data": {
      "text/plain": [
       "[<matplotlib.lines.Line2D at 0x7f40e823e990>]"
      ]
     },
     "execution_count": 68,
     "metadata": {},
     "output_type": "execute_result"
    },
    {
     "data": {
      "image/png": "[encoded data removed]",
      "text/plain": [
       "<Figure size 640x480 with 1 Axes>"
      ]
     },
     "metadata": {},
     "output_type": "display_data"
    }
   ],
   "source": [
    "plt.plot(indptr)"
   ]
  },
  {
   "cell_type": "code",
   "execution_count": 65,
   "id": "3d30e850-e2bd-4bae-871e-fd4d33700290",
   "metadata": {
    "execution": {
     "iopub.execute_input": "2024-06-21T20:25:57.012615Z",
     "iopub.status.busy": "2024-06-21T20:25:57.011658Z",
     "iopub.status.idle": "2024-06-21T20:25:57.200713Z",
     "shell.execute_reply": "2024-06-21T20:25:57.199783Z",
     "shell.execute_reply.started": "2024-06-21T20:25:57.012553Z"
    }
   },
   "outputs": [
    {
     "data": {
      "text/plain": [
       "[<matplotlib.lines.Line2D at 0x7f40e81f45c0>]"
      ]
     },
     "execution_count": 65,
     "metadata": {},
     "output_type": "execute_result"
    },
    {
     "data": {
      "image/png": "[encoded data removed]",
      "text/plain": [
       "<Figure size 640x480 with 1 Axes>"
      ]
     },
     "metadata": {},
     "output_type": "display_data"
    }
   ],
   "source": [
    "plt.plot(A_full.indices)"
   ]
  },
  {
   "cell_type": "code",
   "execution_count": null,
   "id": "0b97e250-d541-4c31-9ba2-c27320e271ac",
   "metadata": {},
   "outputs": [],
   "source": []
  },
  {
   "cell_type": "code",
   "execution_count": null,
   "id": "eec3177c-ea29-4ee9-b1e5-f96844734855",
   "metadata": {
    "execution": {
     "iopub.status.busy": "2024-06-21T19:46:53.370282Z",
     "iopub.status.idle": "2024-06-21T19:46:53.370517Z",
     "shell.execute_reply": "2024-06-21T19:46:53.370410Z",
     "shell.execute_reply.started": "2024-06-21T19:46:53.370398Z"
    }
   },
   "outputs": [],
   "source": [
    "a, A = setup_ILP_njit(empty_sudoku)\n",
    "plt.imshow(A)\n",
    "A_csr = sp.sparse.csr_matrix(A)"
   ]
  },
  {
   "cell_type": "code",
   "execution_count": null,
   "id": "16ee3edc-a08c-41c9-bec5-c25b6926fc79",
   "metadata": {
    "execution": {
     "iopub.status.busy": "2024-06-21T19:46:53.371026Z",
     "iopub.status.idle": "2024-06-21T19:46:53.371249Z",
     "shell.execute_reply": "2024-06-21T19:46:53.371147Z",
     "shell.execute_reply.started": "2024-06-21T19:46:53.371135Z"
    }
   },
   "outputs": [],
   "source": [
    "print(A_csr.indices[-20:])"
   ]
  },
  {
   "cell_type": "code",
   "execution_count": null,
   "id": "734ec279-dc71-4b67-9ed5-cd7424af15c2",
   "metadata": {
    "execution": {
     "iopub.status.busy": "2024-06-21T19:46:53.371802Z",
     "iopub.status.idle": "2024-06-21T19:46:53.372026Z",
     "shell.execute_reply": "2024-06-21T19:46:53.371918Z",
     "shell.execute_reply.started": "2024-06-21T19:46:53.371907Z"
    }
   },
   "outputs": [],
   "source": [
    "A_csr.indptr"
   ]
  },
  {
   "cell_type": "code",
   "execution_count": null,
   "id": "8b92fefb-d9eb-44ac-81a5-b1a64e86bf12",
   "metadata": {
    "execution": {
     "iopub.status.busy": "2024-06-21T19:46:53.372891Z",
     "iopub.status.idle": "2024-06-21T19:46:53.373117Z",
     "shell.execute_reply": "2024-06-21T19:46:53.373013Z",
     "shell.execute_reply.started": "2024-06-21T19:46:53.373003Z"
    }
   },
   "outputs": [],
   "source": [
    "with Timer(\"njitted\"):\n",
    "    setup_ILP_njit(empty_sudoku)\n",
    "\n",
    "with Timer(\"normal\"):\n",
    "    setup_ILP_dense(empty_sudoku)\n",
    "\n",
    "print(Timer.timers)"
   ]
  },
  {
   "cell_type": "code",
   "execution_count": null,
   "id": "ee44d066-a793-486b-8f7c-d066406ea608",
   "metadata": {
    "execution": {
     "iopub.status.busy": "2024-06-21T19:46:53.374020Z",
     "iopub.status.idle": "2024-06-21T19:46:53.374286Z",
     "shell.execute_reply": "2024-06-21T19:46:53.374166Z",
     "shell.execute_reply.started": "2024-06-21T19:46:53.374155Z"
    }
   },
   "outputs": [],
   "source": [
    "\n",
    "\n",
    "def solve_sudoku_scipy(c, A_full):\n",
    "    solution_size = A_full.shape[1]\n",
    "    integrality = np.ones(solution_size, dtype = int)\n",
    "    bounds = sp.optimize.Bounds(lb=0, ub=1) #somthing with 0 and \n",
    "    constraints = sp.optimize.LinearConstraint(A_full, lb=1, ub=1) #somthing with A\n",
    "    res = sp.optimize.milp(c, integrality = integrality, bounds = bounds, constraints = constraints)\n",
    "    return res\n",
    "\n",
    "env = gp.Env(empty=True)\n",
    "env.setParam('OutputFlag', 0)\n",
    "env.start()\n",
    "        \n",
    "def solve_sudoku_gurobi(c, A_full):\n",
    "    # Create a new model\n",
    "    m = gp.Model(\"matrix1\", env = env) \n",
    "    # Create variables\n",
    "    solution_size = A_full.shape[1]\n",
    "    x = m.addMVar(shape=solution_size, vtype=GRB.BINARY, name=\"x\")\n",
    "    # Build rhs vector\n",
    "    rhs = np.ones(A_full.shape[0], dtype = int)\n",
    "    # Add constraints\n",
    "    m.addConstr(A_full @ x == rhs, name=\"constraints\")\n",
    "    # Set objective\n",
    "    m.setObjective(c @ x, GRB.MINIMIZE)\n",
    "    # Optimize model\n",
    "    m.optimize()\n",
    "    return x.X\n",
    "    \n",
    "\n",
    "def solve_sudoku_highspy(c, A_full):\n",
    "\n",
    "    rows, cols = A_full.shape\n",
    "    # Highs h\n",
    "    h = highspy.Highs()\n",
    "\n",
    "    # Define a HighsLp instance\n",
    "    lp = highspy.HighsLp()\n",
    "    \n",
    "    lp.num_col_ = cols\n",
    "    lp.num_row_ = rows\n",
    "    lp.col_cost_ = c\n",
    "    lp.col_lower_ = np.zeros(c.shape, dtype = int)\n",
    "    lp.col_upper_ = np.ones(c.shape, dtype = int)\n",
    "    lp.row_lower_ = np.ones((rows), dtype = int)\n",
    "    lp.row_upper_ = np.ones((rows), dtype = int)\n",
    "    lp.integrality_ = [highspy._core.HighsVarType.kInteger]*cols # np.ones(c.shape, dtype = int).tolist()\n",
    "    #lp.integrality_ = 1#np.ones(c.shape, dtype = int)#highspy.HighsVarType.kInteger\n",
    "    \n",
    "    # In a HighsLp instsance, the number of nonzeros is given by a fictitious final start\n",
    "    lp.a_matrix_.format_ = highspy.MatrixFormat.kColwise\n",
    "    lp.a_matrix_.start_ = A_full.indptr\n",
    "    lp.a_matrix_.index_ = A_full.indices\n",
    "    lp.a_matrix_.value_ = A_full.data\n",
    "    h.passModel(lp)\n",
    "\n",
    "    # Get and set options\n",
    "    options = h.getOptions()\n",
    "    options.log_to_console = False\n",
    "    h.passOptions(options)\n",
    "\n",
    "    h.run()\n",
    "    \n",
    "    solution = h.getSolution()\n",
    "    x= np.array(solution.col_value)\n",
    "    return x\n",
    "\n",
    "from pyscipopt import Model\n",
    "model = Model()\n",
    "\n",
    "def solve_sudoku_pisciopt(c, A_full):\n",
    "    num_constr, num_vars = A_full.shape \n",
    "    x = model.addVar(\"x\", num_vars, vtype=\"binary\")\n",
    "    #model.setObjective(c @ x)\n",
    "    #model.addCons(A_full@x == 0)\n",
    "    #model.addCons(2*x - y*y >= 0)\n",
    "    \n",
    "    return model\n",
    "\n",
    "        \n",
    "\n",
    "\n",
    "\n"
   ]
  },
  {
   "cell_type": "code",
   "execution_count": null,
   "id": "727c1fd7-6aab-49b8-895c-9f86380f0133",
   "metadata": {
    "execution": {
     "iopub.status.busy": "2024-06-21T19:46:53.374953Z",
     "iopub.status.idle": "2024-06-21T19:46:53.375185Z",
     "shell.execute_reply": "2024-06-21T19:46:53.375080Z",
     "shell.execute_reply.started": "2024-06-21T19:46:53.375068Z"
    }
   },
   "outputs": [],
   "source": [
    "with Timer(\"Solve Highs\"):\n",
    "    c, A_full_njit = setup_ILP_njit(empty_sudoku)\n",
    "    A_full_njit_sparse = sp.sparse.csc_matrix(A_full_njit)\n",
    "    #model = solve_sudoku_pisciopt(c, A_full_njit)\n",
    "    solution = solve_sudoku_highspy(c, A_full_njit_sparse)\n",
    "\n",
    "print(vector_to_array(solution))\n",
    "print(Timer.timers)"
   ]
  },
  {
   "cell_type": "code",
   "execution_count": null,
   "id": "01845aa4-9f95-4b35-9dba-721bf30a0625",
   "metadata": {
    "execution": {
     "iopub.status.busy": "2024-06-21T19:46:53.376019Z",
     "iopub.status.idle": "2024-06-21T19:46:53.376250Z",
     "shell.execute_reply": "2024-06-21T19:46:53.376139Z",
     "shell.execute_reply.started": "2024-06-21T19:46:53.376128Z"
    }
   },
   "outputs": [],
   "source": [
    "# %load_ext line_profiler\n",
    "# %lprun -f solve_sudoku_highspy res_scipy = solve_sudoku_highspy(c, A_full_njit_sparse)"
   ]
  },
  {
   "cell_type": "code",
   "execution_count": null,
   "id": "beb12c52-4dea-47c8-bac1-6a68157bcbe3",
   "metadata": {
    "execution": {
     "iopub.status.busy": "2024-06-21T19:46:53.376786Z",
     "iopub.status.idle": "2024-06-21T19:46:53.377005Z",
     "shell.execute_reply": "2024-06-21T19:46:53.376905Z",
     "shell.execute_reply.started": "2024-06-21T19:46:53.376894Z"
    }
   },
   "outputs": [],
   "source": [
    "\n",
    "# %load_ext line_profiler\n",
    "    \n",
    "# %lprun -f setup_ILP_dense c, A_full_dense = setup_ILP_dense(empty_sudoku, dtype = bool)\n",
    "\n",
    "# %lprun -f solve_sudoku_scipy res_scipy = solve_sudoku_scipy(c, A_full_dense)\n",
    "# %lprun -f setup_ILP_sparse c, A_full_dense = setup_ILP_sparse(empty_sudoku, dtype = bool)\n",
    "\n"
   ]
  },
  {
   "cell_type": "code",
   "execution_count": null,
   "id": "35c1f678-ad9e-4a29-9a8f-05a8d095de79",
   "metadata": {
    "execution": {
     "iopub.status.busy": "2024-06-21T19:46:53.377742Z",
     "iopub.status.idle": "2024-06-21T19:46:53.377982Z",
     "shell.execute_reply": "2024-06-21T19:46:53.377874Z",
     "shell.execute_reply.started": "2024-06-21T19:46:53.377862Z"
    }
   },
   "outputs": [],
   "source": [
    "#fastest option\n",
    "with Timer(\"Solve sudoku\"):\n",
    "    c, A_full_njit = setup_ILP_njit(empty_sudoku)\n",
    "    A_sparse_njit =  sp.sparse.csr_matrix(A_full_njit)\n",
    "    res_scipy = solve_sudoku_scipy(c, A_sparse_njit)\n",
    "    \n",
    "\n",
    "print(Timer.timers)\n",
    "    \n",
    "    "
   ]
  },
  {
   "cell_type": "code",
   "execution_count": null,
   "id": "29499ddb-d245-43b8-89d9-02be31b425cd",
   "metadata": {
    "execution": {
     "iopub.status.busy": "2024-06-21T19:46:53.378533Z",
     "iopub.status.idle": "2024-06-21T19:46:53.378759Z",
     "shell.execute_reply": "2024-06-21T19:46:53.378656Z",
     "shell.execute_reply.started": "2024-06-21T19:46:53.378645Z"
    }
   },
   "outputs": [],
   "source": [
    "#fastest option\n",
    "\n",
    "c, A_full_njit = setup_ILP_njit(empty_sudoku)\n",
    "\n",
    "for i in range(10):\n",
    "    A_sparse_njit =  sp.sparse.csr_matrix(A_full_njit)\n",
    "    with Timer(\"CSR\"):\n",
    "        solve_sudoku_scipy(c, A_sparse_njit)\n",
    "    \n",
    "    A_sparse_njit =  sp.sparse.csc_matrix(A_full_njit)\n",
    "    with Timer(\"CSC\"):\n",
    "        solve_sudoku_scipy(c, A_sparse_njit)\n",
    "    \n",
    "\n",
    "print(Timer.timers)\n",
    "    "
   ]
  },
  {
   "cell_type": "code",
   "execution_count": null,
   "id": "d53192c1-70eb-472e-9df7-cd1ce35a5d01",
   "metadata": {
    "execution": {
     "iopub.status.busy": "2024-06-21T19:46:53.379543Z",
     "iopub.status.idle": "2024-06-21T19:46:53.379759Z",
     "shell.execute_reply": "2024-06-21T19:46:53.379661Z",
     "shell.execute_reply.started": "2024-06-21T19:46:53.379650Z"
    }
   },
   "outputs": [],
   "source": [
    "repeats = 8\n",
    "for i in range(repeats):\n",
    "    with Timer(\"1. Setup njit dense\"):\n",
    "        c, A_full_njit_dense = setup_ILP_njit(empty_sudoku)\n",
    "    with Timer(\"2. Scipy solver njit dense\"):\n",
    "        res_scipy = solve_sudoku_scipy(c, A_full_njit_dense)\n",
    "    with Timer(\"3. Gurobi solver njit dense\"):\n",
    "        res_gurobi = solve_sudoku_gurobi(c, A_full_njit_dense )\n",
    "    del c\n",
    "    del A_full_njit_dense \n",
    "\n",
    "    with Timer(\"1. Setup njit sparse\"):\n",
    "        c, A_full_njit_dense = setup_ILP_njit(empty_sudoku)\n",
    "        A_full_njit_sparse = sp.sparse.csc_matrix(A_full_njit_dense)\n",
    "    with Timer(\"2. Scipy solver njit sparse\"):\n",
    "        res_scipy = solve_sudoku_scipy(c, A_full_njit_sparse )\n",
    "    with Timer(\"3. Gurobi solver njit sparse\"):\n",
    "        res_gurobi = solve_sudoku_gurobi(c, A_full_njit_sparse )\n",
    "    with Timer(\"4. Highspy solver njit sparse\"):\n",
    "        res_highspy = solve_sudoku_highspy(c, A_full_njit_sparse )\n",
    "    del c\n",
    "    del A_full_njit_sparse\n",
    "        \n",
    "    with Timer(\"1. Setup sparse_dense\"):\n",
    "        c, A_full_sparse = setup_ILP_sparse_end(empty_sudoku, format = \"csc\", dtype = bool)\n",
    "    with Timer(\"2. Scipy solver sparse_dense\"):\n",
    "        res_scipy = solve_sudoku_scipy(c, A_full_sparse)\n",
    "    with Timer(\"3. Gurobi solver sparse_dense\"):\n",
    "        res_gurobi = solve_sudoku_gurobi(c, A_full_sparse)\n",
    "    del c\n",
    "    del A_full_sparse\n",
    "    \n",
    "    with Timer(\"1. Setup sparse\"):\n",
    "        c, A_full_sparse = setup_ILP_sparse(empty_sudoku, format = \"csc\", dtype = bool)\n",
    "    with Timer(\"2. Scipy solver sparse\"):\n",
    "        res_scipy = solve_sudoku_scipy(c, A_full_sparse)\n",
    "    with Timer(\"3. Gurobi solver sparse\"):\n",
    "        res_gurobi = solve_sudoku_gurobi(c, A_full_sparse)\n",
    "    del c\n",
    "    del A_full_sparse\n",
    "    \n",
    "    with Timer(\"1. Setup dense\"):\n",
    "        c, A_full_dense = setup_ILP_dense(empty_sudoku, dtype = bool)\n",
    "    with Timer(\"2. Scipy solver dense\"):\n",
    "        res_scipy = solve_sudoku_scipy(c, A_full_dense)\n",
    "    with Timer(\"3. Gurobi solver dense\"):\n",
    "        res_gurobi = solve_sudoku_gurobi(c, A_full_dense)\n",
    "    del c\n",
    "    del A_full_dense\n",
    "\n",
    "np.set_printoptions(precision=5)\n",
    "keys = np.sort(list(Timer.timers.keys()))\n",
    "for key in keys:\n",
    "    print(key, \"\\t\\t\", np.array(Timer.timers[key]))"
   ]
  },
  {
   "cell_type": "code",
   "execution_count": null,
   "id": "6e7b142b-82b1-4ed1-bb96-58f0480434ea",
   "metadata": {},
   "outputs": [],
   "source": []
  },
  {
   "cell_type": "code",
   "execution_count": null,
   "id": "bb4dc40e-7428-4c6d-bb9d-3b7890b3a287",
   "metadata": {},
   "outputs": [],
   "source": []
  },
  {
   "cell_type": "code",
   "execution_count": null,
   "id": "e9d25f84-c21c-4307-88f7-66585ed9c7d4",
   "metadata": {},
   "outputs": [],
   "source": []
  }
 ],
 "metadata": {
  "kernelspec": {
   "display_name": "Python 3 (ipykernel)",
   "language": "python",
   "name": "python3"
  },
  "language_info": {
   "codemirror_mode": {
    "name": "ipython",
    "version": 3
   },
   "file_extension": ".py",
   "mimetype": "text/x-python",
   "name": "python",
   "nbconvert_exporter": "python",
   "pygments_lexer": "ipython3",
   "version": "3.12.3"
  }
 },
 "nbformat": 4,
 "nbformat_minor": 5
}
